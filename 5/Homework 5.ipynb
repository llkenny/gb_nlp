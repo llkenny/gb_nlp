{
 "cells": [
  {
   "cell_type": "markdown",
   "metadata": {},
   "source": [
    "### Задание 1. Написать теггер на данных с русским языком"
   ]
  },
  {
   "cell_type": "markdown",
   "metadata": {},
   "source": [
    "1. проверить UnigramTagger, BigramTagger, TrigramTagger и их комбмнации\n",
    "2. написать свой теггер как на занятии, попробовать разные векторайзеры, добавить знание не только букв но и слов\n",
    "3. сравнить все реализованные методы сделать выводы"
   ]
  },
  {
   "cell_type": "code",
   "execution_count": 53,
   "metadata": {},
   "outputs": [],
   "source": [
    "import pandas as pd"
   ]
  },
  {
   "cell_type": "code",
   "execution_count": 16,
   "metadata": {},
   "outputs": [],
   "source": [
    "text = \"\"\"\n",
    "открытое акционерное общество «Транспортные системы»\n",
    "220567, Республика Беларусь, г. Минск, ул. Маяковского, 125\n",
    "Тел.: + 375(17)315-45-56, 315-45-59, 315-45-73, факс: + 375(17)315-45-75, e-mail:info@ts.by\n",
    "ОАО «КВАДРОТЕХНО» 603000, Российская Федерация г. Нижний Новгород\n",
    "ул. Б. Покровская, 58/3\n",
    "ИЗВЕЩЕНИЕ О ГОТОВНОСТИ ТОВАРА К ОТГРУЗКЕ\n",
    "Настоящим сообщаем Вам, что заказанная Вами продукция согласно Контракту No 134/456-345-08-090 от 27.03.2008 г., а именно:\n",
    "• полуприцеп без тентовой надстройки АВС-987654-2020 в количестве 12 ед.;\n",
    "• полуприцеп без тентовой надстройки АВС-987654-2030 в количестве 8 ед.; изготовлена и готова к отгрузке в адрес Покупателя по вышеуказанному Контракту.\n",
    "Комплектация продукции согласно условиям контракта включает:\n",
    "• для полуприцепа АВС-987654-2020 – шины Continental 385/65R22.5, опорное устройство Jost, оси BPW с тормозными механизмами барабанного типа, 1 запасное колесо, с настилом, держатель на одно запасное колесо, грунтование цинкосодержащим материалом с толщиной покрытия 60 микрон, без нанесения внешнего окрасочного покрытия, без бортов, стоек, обрешетки, тента, электрооборудование белорусского производства;\n",
    "• для полуприцепа АВС-987654-2030 – шины Continental 385/65R22.5, опорное устройство Jost, оси BPW с тормозными механизмами барабанного типа, 1 запасное колесо, с настилом, держатель на одно запасное колесо, грунтование цинкосодержащим материалом с толщиной покрытия 60 микрон, без нанесения внешнего окрасочного покрытия, без бортов, стоек, обрешетки, тента, электрооборудование «Aspock», пневматическая система «Knorr-Bremse».\n",
    "Согласно условиям Контракта, продукция может быть отгружена в срок не позднее 10 (десяти) рабочих дней после получения от Вас разрешения на поставку.\n",
    "Дата Ф.И.О., подпись уполномоченного лица\"\"\""
   ]
  },
  {
   "cell_type": "code",
   "execution_count": 4,
   "metadata": {},
   "outputs": [],
   "source": [
    "import nltk"
   ]
  },
  {
   "cell_type": "code",
   "execution_count": 341,
   "metadata": {
    "scrolled": false
   },
   "outputs": [
    {
     "data": {
      "text/plain": [
       "['Марио',\n",
       " 'Монти',\n",
       " 'подаст',\n",
       " 'в',\n",
       " 'отставку',\n",
       " 'с',\n",
       " 'должности',\n",
       " 'премьер-министра',\n",
       " 'Италии',\n",
       " 'Фото']"
      ]
     },
     "execution_count": 341,
     "metadata": {},
     "output_type": "execute_result"
    }
   ],
   "source": [
    "tokens =  nltk.word_tokenize(text)\n",
    "tokens[:10]"
   ]
  },
  {
   "cell_type": "code",
   "execution_count": 6,
   "metadata": {},
   "outputs": [],
   "source": [
    "from nltk.tag import DefaultTagger\n",
    "from nltk.tag import UnigramTagger\n",
    "from nltk.tag import BigramTagger, TrigramTagger\n",
    "from nltk.tag import RegexpTagger"
   ]
  },
  {
   "cell_type": "markdown",
   "metadata": {},
   "source": [
    "#### Загрузка предобученного датасета"
   ]
  },
  {
   "cell_type": "code",
   "execution_count": 52,
   "metadata": {},
   "outputs": [
    {
     "name": "stderr",
     "output_type": "stream",
     "text": [
      "[nltk_data] Downloading package averaged_perceptron_tagger_ru to\n",
      "[nltk_data]     /Users/maximdoroshenko/nltk_data...\n",
      "[nltk_data]   Package averaged_perceptron_tagger_ru is already up-to-\n",
      "[nltk_data]       date!\n"
     ]
    },
    {
     "data": {
      "text/plain": [
       "True"
      ]
     },
     "execution_count": 52,
     "metadata": {},
     "output_type": "execute_result"
    }
   ],
   "source": [
    "nltk.download('averaged_perceptron_tagger_ru')"
   ]
  },
  {
   "cell_type": "markdown",
   "metadata": {},
   "source": [
    "#### Теггирование с помощью предобученного теггера averaged_perceptron_tagger (датасет averaged_perceptron_tagger_ru)"
   ]
  },
  {
   "cell_type": "code",
   "execution_count": 344,
   "metadata": {},
   "outputs": [
    {
     "data": {
      "text/plain": [
       "[('Марио', 'S'),\n",
       " ('Монти', 'S'),\n",
       " ('подаст', 'V'),\n",
       " ('в', 'PR'),\n",
       " ('отставку', 'S'),\n",
       " ('с', 'PR'),\n",
       " ('должности', 'S'),\n",
       " ('премьер-министра', 'S'),\n",
       " ('Италии', 'S'),\n",
       " ('Фото', 'S'),\n",
       " (':', 'NONLEX'),\n",
       " ('Reuters', 'NONLEX'),\n",
       " ('Фото', 'S'),\n",
       " (':', 'NONLEX'),\n",
       " ('Reuters', 'NONLEX'),\n",
       " ('Фото', 'S'),\n",
       " (':', 'NONLEX'),\n",
       " ('Reuters', 'NONLEX'),\n",
       " ('Фото', 'S'),\n",
       " (':', 'NONLEX'),\n",
       " ('Reuters', 'NONLEX'),\n",
       " ('Премьер-министр', 'S'),\n",
       " ('Италии', 'S'),\n",
       " ('Марио', 'S'),\n",
       " ('Монти', 'S'),\n",
       " ('подтвердил', 'V'),\n",
       " ('намерение', 'S'),\n",
       " ('подать', 'V'),\n",
       " ('прошение', 'S'),\n",
       " ('об', 'PR')]"
      ]
     },
     "execution_count": 344,
     "metadata": {},
     "output_type": "execute_result"
    }
   ],
   "source": [
    "nltk.pos_tag(tokens, lang='rus')[:30]"
   ]
  },
  {
   "cell_type": "code",
   "execution_count": 42,
   "metadata": {},
   "outputs": [
    {
     "name": "stdout",
     "output_type": "stream",
     "text": [
      "No matching tags found.\n"
     ]
    },
    {
     "name": "stderr",
     "output_type": "stream",
     "text": [
      "[nltk_data] Downloading package tagsets to\n",
      "[nltk_data]     /Users/maximdoroshenko/nltk_data...\n",
      "[nltk_data]   Package tagsets is already up-to-date!\n"
     ]
    }
   ],
   "source": [
    "nltk.download('tagsets')\n",
    "# nltk.download() # Показать все возможные ресурсы\n",
    "nltk.help.upenn_tagset('A=f')"
   ]
  },
  {
   "cell_type": "markdown",
   "metadata": {},
   "source": [
    "Найти описание тегов не удалось"
   ]
  },
  {
   "cell_type": "code",
   "execution_count": 345,
   "metadata": {},
   "outputs": [
    {
     "data": {
      "text/plain": [
       "[('Марио', 'NN'),\n",
       " ('Монти', 'NN'),\n",
       " ('подаст', 'NN'),\n",
       " ('в', 'NN'),\n",
       " ('отставку', 'NN')]"
      ]
     },
     "execution_count": 345,
     "metadata": {},
     "output_type": "execute_result"
    }
   ],
   "source": [
    "# Присвоение дефолтного тега всем токенам (бесполезно при единичном вызове)\n",
    "nltk.DefaultTagger('NN').tag(tokens)[:5]"
   ]
  },
  {
   "cell_type": "code",
   "execution_count": 82,
   "metadata": {},
   "outputs": [
    {
     "data": {
      "text/plain": [
       "[[('открытое', 'ПРИЛ'),\n",
       "  ('акционерное', None),\n",
       "  ('общество', 'СУЩ'),\n",
       "  ('«', None),\n",
       "  ('Транспортные', 'ПРИЛ')],\n",
       " [('открытое', 'ПРИЛ'),\n",
       "  ('акционерное', None),\n",
       "  ('общество', None),\n",
       "  ('«', None),\n",
       "  ('Транспортные', None)],\n",
       " [('открытое', 'ПРИЛ'),\n",
       "  ('акционерное', None),\n",
       "  ('общество', None),\n",
       "  ('«', None),\n",
       "  ('Транспортные', None)]]"
      ]
     },
     "execution_count": 82,
     "metadata": {},
     "output_type": "execute_result"
    }
   ],
   "source": [
    "train_data = [[('открытое','ПРИЛ'),\n",
    "               ('общество','СУЩ'),\n",
    "               ('Транспортные','ПРИЛ'),\n",
    "               ('Республика','СУЩ'),\n",
    "               ('413-32-11', 'ТЕЛ')]]\n",
    "tags = [t.tag(tokens) for t in [UnigramTagger(train_data), BigramTagger(train_data), TrigramTagger(train_data)]]\n",
    "[t[:5] for t in tags]"
   ]
  },
  {
   "cell_type": "code",
   "execution_count": 83,
   "metadata": {},
   "outputs": [
    {
     "data": {
      "text/plain": [
       "[[('открытое', None),\n",
       "  ('акционерное', None),\n",
       "  ('общество', None),\n",
       "  ('«', None),\n",
       "  ('Транспортные', None)],\n",
       " [('открытое', None),\n",
       "  ('акционерное', None),\n",
       "  ('общество', None),\n",
       "  ('«', None),\n",
       "  ('Транспортные', None)],\n",
       " [('открытое', None),\n",
       "  ('акционерное', None),\n",
       "  ('общество', None),\n",
       "  ('«', None),\n",
       "  ('Транспортные', None)]]"
      ]
     },
     "execution_count": 83,
     "metadata": {},
     "output_type": "execute_result"
    }
   ],
   "source": [
    "train_data = [[('341210','ИНДЕКС'),\n",
    "               ('Республика Узбекистан','СТРАНА'),\n",
    "               ('г. Москва','ГОРОД'),\n",
    "               ('ул. Чайковского','УЛИЦА'),\n",
    "               ('103', 'Дом'),\n",
    "              ('АВС-987654-2020', 'НОМЕНКЛАТУРА'),\n",
    "              ('mai@gmail.com', 'EMAIL'),\n",
    "              ('11.04.2013', 'ДАТА')]]\n",
    "tags = [t.tag(tokens) for t in [UnigramTagger(train_data), BigramTagger(train_data), TrigramTagger(train_data)]]\n",
    "[t[:5] for t in tags]"
   ]
  },
  {
   "cell_type": "markdown",
   "metadata": {},
   "source": [
    "Данные averaged_perceptron_tagger_ru сохранились в /Users/maximdoroshenko/nltk_data, можно использовать ресурс в качестве тренировочного датасета для необученных теггеров (UnigramTagger, BigramTagger и др)"
   ]
  },
  {
   "cell_type": "code",
   "execution_count": 74,
   "metadata": {},
   "outputs": [],
   "source": [
    "# Загрузка массива служебных справочников\n",
    "nltk_tag_data = pd.read_pickle('/Users/maximdoroshenko/nltk_data/taggers/averaged_perceptron_tagger_ru/averaged_perceptron_tagger_ru.pickle')"
   ]
  },
  {
   "cell_type": "code",
   "execution_count": 73,
   "metadata": {},
   "outputs": [],
   "source": [
    "# Преобразование словаря {слово: тег} в [(слово, тег)], данные в nltk_tag_data[1]\n",
    "nltk_train_data = [(k, v) for k, v in nltk_tag_data[1].items()]"
   ]
  },
  {
   "cell_type": "code",
   "execution_count": 84,
   "metadata": {
    "scrolled": false
   },
   "outputs": [
    {
     "data": {
      "text/plain": [
       "[[('открытое', None),\n",
       "  ('акционерное', None),\n",
       "  ('общество', 'S'),\n",
       "  ('«', 'NONLEX'),\n",
       "  ('Транспортные', None)],\n",
       " [('открытое', None),\n",
       "  ('акционерное', None),\n",
       "  ('общество', None),\n",
       "  ('«', None),\n",
       "  ('Транспортные', None)],\n",
       " [('открытое', None),\n",
       "  ('акционерное', None),\n",
       "  ('общество', None),\n",
       "  ('«', None),\n",
       "  ('Транспортные', None)]]"
      ]
     },
     "execution_count": 84,
     "metadata": {},
     "output_type": "execute_result"
    }
   ],
   "source": [
    "t_data = [nltk_train_data]\n",
    "tags = [t.tag(tokens) for t in [UnigramTagger(t_data), BigramTagger(t_data), TrigramTagger(t_data)]]\n",
    "[t[:5] for t in tags]"
   ]
  },
  {
   "cell_type": "markdown",
   "metadata": {},
   "source": [
    "#### Комбинация теггеров"
   ]
  },
  {
   "cell_type": "code",
   "execution_count": 91,
   "metadata": {},
   "outputs": [
    {
     "data": {
      "text/plain": [
       "[('открытое', 'NN'),\n",
       " ('акционерное', 'NN'),\n",
       " ('общество', 'S'),\n",
       " ('«', 'NONLEX'),\n",
       " ('Транспортные', 'NN'),\n",
       " ('системы', 'S'),\n",
       " ('»', 'NN'),\n",
       " ('220567', 'NN'),\n",
       " (',', 'NONLEX'),\n",
       " ('Республика', 'NN'),\n",
       " ('Беларусь', 'NN'),\n",
       " (',', 'NONLEX'),\n",
       " ('г.', 'NN'),\n",
       " ('Минск', 'NN'),\n",
       " (',', 'NONLEX')]"
      ]
     },
     "execution_count": 91,
     "metadata": {},
     "output_type": "execute_result"
    }
   ],
   "source": [
    "def backoff_tagger(train_sents, tagger_classes, backoff=None):\n",
    "    for cls in tagger_classes:\n",
    "        backoff = cls(train_sents, backoff=backoff)\n",
    "    return backoff\n",
    "\n",
    "\n",
    "backoff = DefaultTagger('NN') \n",
    "tag = backoff_tagger(t_data,  \n",
    "                     [UnigramTagger, BigramTagger, TrigramTagger],  \n",
    "                     backoff = backoff) \n",
    "  \n",
    "# tag.evaluate(test_data) # Размеченных тестовых данных нет\n",
    "tag.tag(tokens)[:15]"
   ]
  },
  {
   "cell_type": "markdown",
   "metadata": {},
   "source": [
    "### Вывод:\n",
    "При использовании встроенных некомбинированных теггеров чуда не произошло, даже на довольно большом предобученном датасете. Теггеры сильно реагируют на похожие слова и встречаемость этих слов в корпусе. Также важен порядок для Bigram и Trigram. Замечу, что из предобученного датасета была взята только связь <слово: тег>, но не частота слов в корпусе.\n",
    "\n",
    "Для комбинации теггеров результат намного лучше.\n",
    "\n",
    "Сравнительно хорошо отработал предобученный теггер averaged_perceptron_tagger, правда к нему не удалось найти таблицу описаний тегов.\n",
    "\n",
    "Примечательно, что обучать можно со своими значениями тегов, не привязываясь к стандартным названиями тегов в nltk.\n",
    "\n",
    "Для обучаемых теггов требуются хорошие датасеты обучения.\n",
    "\n",
    "Если есть возможность описать теги регулярными выражениями, следует использовать RegexpTagger."
   ]
  },
  {
   "cell_type": "markdown",
   "metadata": {},
   "source": [
    "### Ручная подготовка датасета для обучения"
   ]
  },
  {
   "cell_type": "code",
   "execution_count": 96,
   "metadata": {},
   "outputs": [],
   "source": [
    "import pymorphy2\n",
    "import re"
   ]
  },
  {
   "cell_type": "code",
   "execution_count": 130,
   "metadata": {},
   "outputs": [],
   "source": [
    "text = 'Настоящим сообщаем Вам, что заказанная Вами продукция согласно Контракту No 134/456-345-08-090 от 27.03.2008 г.'"
   ]
  },
  {
   "cell_type": "code",
   "execution_count": 131,
   "metadata": {},
   "outputs": [],
   "source": [
    "def preprocess(text):\n",
    "    text = \" \".join(word.lower() for word in text.split()) #lowercasing and removing short words \n",
    "    text = re.sub('\\-\\s\\r\\n\\s{1,}|\\-\\s\\r\\n|\\r\\n', '', text) #deleting newlines and line-breaks\n",
    "#     text = re.sub('[.,:;%©?*,!@#$%^&()\\d]|[+=]|[[]|[]]|[/]|\"|\\s{2,}|-', ' ', text) #deleting symbols  \n",
    "    text = \" \".join(pymorphy2.MorphAnalyzer().parse(word)[0].normal_form for word in text.split())\n",
    "    return text"
   ]
  },
  {
   "cell_type": "code",
   "execution_count": 132,
   "metadata": {},
   "outputs": [
    {
     "data": {
      "text/plain": [
       "'настоящий сообщать вам, что заказать вы продукция согласно контракт no 134/456-345-08-090 от 27.03.2008 г.'"
      ]
     },
     "execution_count": 132,
     "metadata": {},
     "output_type": "execute_result"
    }
   ],
   "source": [
    "text = preprocess(text)\n",
    "text"
   ]
  },
  {
   "cell_type": "code",
   "execution_count": 133,
   "metadata": {},
   "outputs": [
    {
     "data": {
      "text/plain": [
       "['настоящий',\n",
       " 'сообщать',\n",
       " 'вам',\n",
       " ',',\n",
       " 'что',\n",
       " 'заказать',\n",
       " 'вы',\n",
       " 'продукция',\n",
       " 'согласно',\n",
       " 'контракт',\n",
       " 'no',\n",
       " '134/456-345-08-090',\n",
       " 'от',\n",
       " '27.03.2008',\n",
       " 'г',\n",
       " '.']"
      ]
     },
     "execution_count": 133,
     "metadata": {},
     "output_type": "execute_result"
    }
   ],
   "source": [
    "tokens = nltk.word_tokenize(text)\n",
    "tokens"
   ]
  },
  {
   "cell_type": "code",
   "execution_count": 134,
   "metadata": {},
   "outputs": [
    {
     "data": {
      "text/plain": [
       "[('настоящий', 'A=m'),\n",
       " ('сообщать', 'V'),\n",
       " ('вам', 'S-PRO'),\n",
       " (',', 'NONLEX'),\n",
       " ('что', 'CONJ'),\n",
       " ('заказать', 'V'),\n",
       " ('вы', 'S-PRO'),\n",
       " ('продукция', 'S'),\n",
       " ('согласно', 'ADV'),\n",
       " ('контракт', 'S'),\n",
       " ('no', 'NONLEX'),\n",
       " ('134/456-345-08-090', 'NONLEX'),\n",
       " ('от', 'PR'),\n",
       " ('27.03.2008', 'NUM=ciph'),\n",
       " ('г', 'S'),\n",
       " ('.', 'NONLEX')]"
      ]
     },
     "execution_count": 134,
     "metadata": {},
     "output_type": "execute_result"
    }
   ],
   "source": [
    "# Помощь в генерации датасета предобученным тэггером nltk\n",
    "pretrained_data = nltk.pos_tag(tokens, lang='rus')\n",
    "pretrained_data"
   ]
  },
  {
   "cell_type": "code",
   "execution_count": 136,
   "metadata": {},
   "outputs": [
    {
     "data": {
      "text/plain": [
       "[('настоящий', 'A=m'),\n",
       " ('сообщать', 'V'),\n",
       " ('вам', 'S-PRO'),\n",
       " (',', 'NONLEX'),\n",
       " ('что', 'CONJ'),\n",
       " ('заказать', 'V'),\n",
       " ('вы', 'S-PRO'),\n",
       " ('продукция', 'S'),\n",
       " ('согласно', 'ADV'),\n",
       " ('контракт', 'S'),\n",
       " ('no', 'NONLEX'),\n",
       " ('134/456-345-08-090', 'ITEM-NUMBER'),\n",
       " ('от', 'PR'),\n",
       " ('27.03.2008', 'DATE'),\n",
       " ('г', 'S'),\n",
       " ('.', 'NONLEX')]"
      ]
     },
     "execution_count": 136,
     "metadata": {},
     "output_type": "execute_result"
    }
   ],
   "source": [
    "# Дополнение предобученного датасета параметрами ITEM-NUMBER и DATE\n",
    "train_data = [('настоящий', 'A=m'),\n",
    " ('сообщать', 'V'),\n",
    " ('вам', 'S-PRO'),\n",
    " (',', 'NONLEX'),\n",
    " ('что', 'CONJ'),\n",
    " ('заказать', 'V'),\n",
    " ('вы', 'S-PRO'),\n",
    " ('продукция', 'S'),\n",
    " ('согласно', 'ADV'),\n",
    " ('контракт', 'S'),\n",
    " ('no', 'NONLEX'),\n",
    " ('134/456-345-08-090', 'ITEM-NUMBER'),\n",
    " ('от', 'PR'),\n",
    " ('27.03.2008', 'DATE'),\n",
    " ('г', 'S'),\n",
    " ('.', 'NONLEX')]\n",
    "train_data"
   ]
  },
  {
   "cell_type": "code",
   "execution_count": 137,
   "metadata": {},
   "outputs": [
    {
     "data": {
      "text/plain": [
       "[('настоящий', 'A=m'),\n",
       " ('сообщать', 'V'),\n",
       " ('вам', 'S-PRO'),\n",
       " (',', 'NONLEX'),\n",
       " ('что', 'CONJ'),\n",
       " ('заказать', 'V'),\n",
       " ('вы', 'S-PRO'),\n",
       " ('продукция', 'S'),\n",
       " ('согласно', 'ADV'),\n",
       " ('контракт', 'S'),\n",
       " ('no', 'NONLEX'),\n",
       " ('134/456-345-08-090', 'ITEM-NUMBER'),\n",
       " ('от', 'PR'),\n",
       " ('27.03.2008', 'DATE'),\n",
       " ('г', 'S'),\n",
       " ('.', 'NONLEX')]"
      ]
     },
     "execution_count": 137,
     "metadata": {},
     "output_type": "execute_result"
    }
   ],
   "source": [
    "# Проверка\n",
    "UnigramTagger([train_data]).tag(tokens)"
   ]
  },
  {
   "cell_type": "code",
   "execution_count": 138,
   "metadata": {},
   "outputs": [
    {
     "data": {
      "text/plain": [
       "'Настоящим уведомляем Вас, что купленная Вами продукция согласно Счёту No 125/410-345-98-092 от 13.04.2015 г. и 165/210-395-31-222 от 14.05.2016 г.'"
      ]
     },
     "execution_count": 138,
     "metadata": {},
     "output_type": "execute_result"
    }
   ],
   "source": [
    "# Тестовые данные\n",
    "text = 'Настоящим уведомляем Вас, что купленная Вами продукция согласно Счёту No 125/410-345-98-092 от 13.04.2015 г. и 165/210-395-31-222 от 14.05.2016 г.'\n",
    "text"
   ]
  },
  {
   "cell_type": "code",
   "execution_count": 139,
   "metadata": {},
   "outputs": [
    {
     "data": {
      "text/plain": [
       "'настоящий уведомлять вас, что купить вы продукция согласно счёт no 125/410-345-98-092 от 13.04.2015 г. и 165/210-395-31-222 от 14.05.2016 г.'"
      ]
     },
     "execution_count": 139,
     "metadata": {},
     "output_type": "execute_result"
    }
   ],
   "source": [
    "text = preprocess(text)\n",
    "text"
   ]
  },
  {
   "cell_type": "code",
   "execution_count": 140,
   "metadata": {},
   "outputs": [
    {
     "data": {
      "text/plain": [
       "['настоящий',\n",
       " 'уведомлять',\n",
       " 'вас',\n",
       " ',',\n",
       " 'что',\n",
       " 'купить',\n",
       " 'вы',\n",
       " 'продукция',\n",
       " 'согласно',\n",
       " 'счёт',\n",
       " 'no',\n",
       " '125/410-345-98-092',\n",
       " 'от',\n",
       " '13.04.2015',\n",
       " 'г.',\n",
       " 'и',\n",
       " '165/210-395-31-222',\n",
       " 'от',\n",
       " '14.05.2016',\n",
       " 'г',\n",
       " '.']"
      ]
     },
     "execution_count": 140,
     "metadata": {},
     "output_type": "execute_result"
    }
   ],
   "source": [
    "tokens = nltk.word_tokenize(text)\n",
    "tokens"
   ]
  },
  {
   "cell_type": "code",
   "execution_count": 141,
   "metadata": {},
   "outputs": [
    {
     "data": {
      "text/plain": [
       "[('настоящий', 'A=m'),\n",
       " ('уведомлять', 'V'),\n",
       " ('вас', 'S-PRO'),\n",
       " (',', 'NONLEX'),\n",
       " ('что', 'CONJ'),\n",
       " ('купить', 'V'),\n",
       " ('вы', 'S-PRO'),\n",
       " ('продукция', 'S'),\n",
       " ('согласно', 'ADV'),\n",
       " ('счёт', 'S'),\n",
       " ('no', 'NONLEX'),\n",
       " ('125/410-345-98-092', 'NONLEX'),\n",
       " ('от', 'PR'),\n",
       " ('13.04.2015', 'NUM=ciph'),\n",
       " ('г.', 'S'),\n",
       " ('и', 'CONJ'),\n",
       " ('165/210-395-31-222', 'S'),\n",
       " ('от', 'PR'),\n",
       " ('14.05.2016', 'NUM=ciph'),\n",
       " ('г', 'S'),\n",
       " ('.', 'NONLEX')]"
      ]
     },
     "execution_count": 141,
     "metadata": {},
     "output_type": "execute_result"
    }
   ],
   "source": [
    "# Помощь в генерации тестовых данных стандартным nltk тэггером\n",
    "test_data = nltk.pos_tag(tokens, lang='rus')\n",
    "test_data"
   ]
  },
  {
   "cell_type": "code",
   "execution_count": 142,
   "metadata": {},
   "outputs": [],
   "source": [
    "# Ручная корректировка для дополнительных тэггов ITEM-NUMBER и DATE\n",
    "test_data = [('настоящий', 'A=m'),\n",
    " ('уведомлять', 'V'),\n",
    " ('вас', 'S-PRO'),\n",
    " (',', 'NONLEX'),\n",
    " ('что', 'CONJ'),\n",
    " ('купить', 'V'),\n",
    " ('вы', 'S-PRO'),\n",
    " ('продукция', 'S'),\n",
    " ('согласно', 'ADV'),\n",
    " ('счёт', 'S'),\n",
    " ('no', 'NONLEX'),\n",
    " ('125/410-345-98-092', 'ITEM-NUMBER'),\n",
    " ('от', 'PR'),\n",
    " ('13.04.2015', 'DATE'),\n",
    " ('г.', 'S'),\n",
    " ('и', 'CONJ'),\n",
    " ('165/210-395-31-222', 'ITEM-NUMBER'),\n",
    " ('от', 'PR'),\n",
    " ('14.05.2016', 'DATE'),\n",
    " ('г', 'S'),\n",
    " ('.', 'NONLEX')]"
   ]
  },
  {
   "cell_type": "code",
   "execution_count": 151,
   "metadata": {},
   "outputs": [
    {
     "data": {
      "text/plain": [
       "[('настоящий', 'A=m'),\n",
       " ('уведомлять', None),\n",
       " ('вас', None),\n",
       " (',', None),\n",
       " ('что', None),\n",
       " ('купить', None),\n",
       " ('вы', None),\n",
       " ('продукция', None),\n",
       " ('согласно', None),\n",
       " ('счёт', None),\n",
       " ('no', None),\n",
       " ('125/410-345-98-092', None),\n",
       " ('от', None),\n",
       " ('13.04.2015', None),\n",
       " ('г.', None),\n",
       " ('и', None),\n",
       " ('165/210-395-31-222', None),\n",
       " ('от', None),\n",
       " ('14.05.2016', None),\n",
       " ('г', None),\n",
       " ('.', None)]"
      ]
     },
     "metadata": {},
     "output_type": "display_data"
    },
    {
     "data": {
      "text/plain": [
       "0.047619047619047616"
      ]
     },
     "metadata": {},
     "output_type": "display_data"
    }
   ],
   "source": [
    "# Тестирование UnigramTagger\n",
    "bigram_tagger = BigramTagger([train_data])\n",
    "display(bigram_tagger.tag(tokens), bigram_tagger.evaluate([test_data]))"
   ]
  },
  {
   "cell_type": "markdown",
   "metadata": {},
   "source": [
    "Удивительно, но BigramTagger почти ничего не разобрал, хотя в обоих датасетах присутствуют одинаковые слова."
   ]
  },
  {
   "cell_type": "code",
   "execution_count": 152,
   "metadata": {},
   "outputs": [
    {
     "data": {
      "text/plain": [
       "[('настоящий', 'A=m'),\n",
       " ('уведомлять', 'NN'),\n",
       " ('вас', 'S-PRO'),\n",
       " (',', 'NONLEX'),\n",
       " ('что', 'NN'),\n",
       " ('купить', 'V'),\n",
       " ('вы', 'S-PRO'),\n",
       " ('продукция', 'NN'),\n",
       " ('согласно', 'NN'),\n",
       " ('счёт', 'S'),\n",
       " ('no', 'NN'),\n",
       " ('125/410-345-98-092', 'NN'),\n",
       " ('от', 'PR'),\n",
       " ('13.04.2015', 'NN'),\n",
       " ('г.', 'NN'),\n",
       " ('и', 'CONJ'),\n",
       " ('165/210-395-31-222', 'NN'),\n",
       " ('от', 'PR'),\n",
       " ('14.05.2016', 'NN'),\n",
       " ('г', 'S'),\n",
       " ('.', 'NONLEX')]"
      ]
     },
     "metadata": {},
     "output_type": "display_data"
    },
    {
     "data": {
      "text/plain": [
       "0.5238095238095238"
      ]
     },
     "metadata": {},
     "output_type": "display_data"
    }
   ],
   "source": [
    "tagger = backoff_tagger(t_data,  \n",
    "                     [UnigramTagger, BigramTagger, TrigramTagger],  \n",
    "                     backoff = backoff)\n",
    "display(tagger.tag(tokens), tagger.evaluate([test_data]))"
   ]
  },
  {
   "cell_type": "markdown",
   "metadata": {},
   "source": [
    "Комбинированный теггер показал результат не сильно лучше"
   ]
  },
  {
   "cell_type": "markdown",
   "metadata": {},
   "source": [
    "#### Добавление кастомных тэггеров"
   ]
  },
  {
   "cell_type": "code",
   "execution_count": 153,
   "metadata": {},
   "outputs": [],
   "source": [
    "from nltk.tag import SequentialBackoffTagger"
   ]
  },
  {
   "cell_type": "code",
   "execution_count": 189,
   "metadata": {},
   "outputs": [],
   "source": [
    "class ItemNumberTagger(SequentialBackoffTagger):\n",
    "    def __init__(self, *args, **kwargs):\n",
    "        SequentialBackoffTagger.__init__(self, *args, **kwargs)\n",
    "        self.reg_exp = r'\\d{3}\\/\\d{3}-\\d{3}-\\d{2}-\\d{3}'\n",
    "        self.tag_name = 'ITEM-NUMBER'\n",
    "        \n",
    "    def choose_tag(self, tokens, index, history):\n",
    "        word = tokens[index]\n",
    "        if re.findall(self.reg_exp, word):  # word.lower() для цифр избыточно\n",
    "             return self.tag_name\n",
    "        else:\n",
    "             return None\n",
    "            \n",
    "class DateNumberTagger(SequentialBackoffTagger):\n",
    "    def __init__(self, *args, **kwargs):\n",
    "        SequentialBackoffTagger.__init__(self, *args, **kwargs)\n",
    "        self.reg_exp = r'\\d{2}.\\d{2}.\\d{4}'\n",
    "        self.tag_name = 'DATE'\n",
    "        \n",
    "    def choose_tag(self, tokens, index, history):\n",
    "        word = tokens[index]\n",
    "        if re.findall(self.reg_exp, word):  # word.lower() для цифр избыточно\n",
    "             return self.tag_name\n",
    "        else:\n",
    "             return None"
   ]
  },
  {
   "cell_type": "code",
   "execution_count": 190,
   "metadata": {},
   "outputs": [
    {
     "data": {
      "text/plain": [
       "[('настоящий', 'A=m'),\n",
       " ('уведомлять', 'NN'),\n",
       " ('вас', 'S-PRO'),\n",
       " (',', 'NONLEX'),\n",
       " ('что', 'NN'),\n",
       " ('купить', 'V'),\n",
       " ('вы', 'S-PRO'),\n",
       " ('продукция', 'NN'),\n",
       " ('согласно', 'NN'),\n",
       " ('счёт', 'S'),\n",
       " ('no', 'NN'),\n",
       " ('125/410-345-98-092', 'ITEM-NUMBER'),\n",
       " ('от', 'PR'),\n",
       " ('13.04.2015', 'DATE'),\n",
       " ('г.', 'NN'),\n",
       " ('и', 'CONJ'),\n",
       " ('165/210-395-31-222', 'ITEM-NUMBER'),\n",
       " ('от', 'PR'),\n",
       " ('14.05.2016', 'DATE'),\n",
       " ('г', 'S'),\n",
       " ('.', 'NONLEX')]"
      ]
     },
     "metadata": {},
     "output_type": "display_data"
    },
    {
     "data": {
      "text/plain": [
       "0.7142857142857143"
      ]
     },
     "metadata": {},
     "output_type": "display_data"
    }
   ],
   "source": [
    "backoff = DefaultTagger('NN') \n",
    "\n",
    "tagger = backoff_tagger(t_data,  \n",
    "                     [UnigramTagger, BigramTagger, TrigramTagger],  \n",
    "                     backoff = backoff)\n",
    "\n",
    "item_number_tagger = ItemNumberTagger(tagger) # backoff - Комбинированный теггер\n",
    "date_number_tagger = DateNumberTagger(item_number_tagger) # item_number_tagger в качестве backoff\n",
    "\n",
    "display(date_number_tagger.tag(tokens), date_number_tagger.evaluate([test_data]))"
   ]
  },
  {
   "cell_type": "markdown",
   "metadata": {},
   "source": [
    "Метрика заметно улучшилась"
   ]
  },
  {
   "cell_type": "markdown",
   "metadata": {},
   "source": [
    "### NER"
   ]
  },
  {
   "cell_type": "markdown",
   "metadata": {},
   "source": [
    "#### Задание 2. Проверить насколько хорошо работает NER\n",
    "\n",
    "данные брать из http://www.labinform.ru/pub/named_entities/\n",
    "1. проверить NER из nltk/spacy/deeppavlov\n",
    "2. написать свой нер попробовать разные подходы\n",
    "- передаём в сетку токен и его соседей\n",
    "- передаём в сетку только токен\n",
    "- свой вариант\n",
    "3. сравнить ваши реализованные подходы на качество (вывести precision/recall/f1_score)"
   ]
  },
  {
   "cell_type": "markdown",
   "metadata": {},
   "source": [
    "#### Подготовка данных"
   ]
  },
  {
   "cell_type": "code",
   "execution_count": 346,
   "metadata": {},
   "outputs": [
    {
     "data": {
      "text/plain": [
       "[('Марио', 'S'),\n",
       " ('Монти', 'S'),\n",
       " ('подаст', 'V'),\n",
       " ('в', 'PR'),\n",
       " ('отставку', 'S'),\n",
       " ('с', 'PR'),\n",
       " ('должности', 'S'),\n",
       " ('премьер-министра', 'S'),\n",
       " ('Италии', 'S'),\n",
       " ('Фото', 'S')]"
      ]
     },
     "execution_count": 346,
     "metadata": {},
     "output_type": "execute_result"
    }
   ],
   "source": [
    "path = 'ner_data/Collection3/04_12_12g.'\n",
    "text = open(path + 'txt', \"r\").read()\n",
    "tokens = nltk.pos_tag(nltk.word_tokenize(text), lang='rus')\n",
    "tokens[:10]"
   ]
  },
  {
   "cell_type": "code",
   "execution_count": 247,
   "metadata": {},
   "outputs": [
    {
     "data": {
      "text/html": [
       "<div>\n",
       "<style scoped>\n",
       "    .dataframe tbody tr th:only-of-type {\n",
       "        vertical-align: middle;\n",
       "    }\n",
       "\n",
       "    .dataframe tbody tr th {\n",
       "        vertical-align: top;\n",
       "    }\n",
       "\n",
       "    .dataframe thead th {\n",
       "        text-align: right;\n",
       "    }\n",
       "</style>\n",
       "<table border=\"1\" class=\"dataframe\">\n",
       "  <thead>\n",
       "    <tr style=\"text-align: right;\">\n",
       "      <th></th>\n",
       "      <th>id</th>\n",
       "      <th>type</th>\n",
       "      <th>text</th>\n",
       "    </tr>\n",
       "  </thead>\n",
       "  <tbody>\n",
       "    <tr>\n",
       "      <th>0</th>\n",
       "      <td>T1</td>\n",
       "      <td>PER 2 13</td>\n",
       "      <td>Марио Монти</td>\n",
       "    </tr>\n",
       "    <tr>\n",
       "      <th>1</th>\n",
       "      <td>T2</td>\n",
       "      <td>LOC 61 67</td>\n",
       "      <td>Италии</td>\n",
       "    </tr>\n",
       "    <tr>\n",
       "      <th>2</th>\n",
       "      <td>T3</td>\n",
       "      <td>ORG 75 82</td>\n",
       "      <td>Reuters</td>\n",
       "    </tr>\n",
       "    <tr>\n",
       "      <th>3</th>\n",
       "      <td>T4</td>\n",
       "      <td>ORG 89 96</td>\n",
       "      <td>Reuters</td>\n",
       "    </tr>\n",
       "    <tr>\n",
       "      <th>4</th>\n",
       "      <td>T5</td>\n",
       "      <td>ORG 103 110</td>\n",
       "      <td>Reuters</td>\n",
       "    </tr>\n",
       "  </tbody>\n",
       "</table>\n",
       "</div>"
      ],
      "text/plain": [
       "   id         type         text\n",
       "0  T1     PER 2 13  Марио Монти\n",
       "1  T2    LOC 61 67       Италии\n",
       "2  T3    ORG 75 82      Reuters\n",
       "3  T4    ORG 89 96      Reuters\n",
       "4  T5  ORG 103 110      Reuters"
      ]
     },
     "execution_count": 247,
     "metadata": {},
     "output_type": "execute_result"
    }
   ],
   "source": [
    "ann_df = pd.read_csv(path + 'ann', delimiter='\\t', header=None)\n",
    "ann_df.columns = ['id', 'type', 'text']\n",
    "ann_df.head()"
   ]
  },
  {
   "cell_type": "code",
   "execution_count": 248,
   "metadata": {
    "scrolled": true
   },
   "outputs": [
    {
     "data": {
      "text/html": [
       "<div>\n",
       "<style scoped>\n",
       "    .dataframe tbody tr th:only-of-type {\n",
       "        vertical-align: middle;\n",
       "    }\n",
       "\n",
       "    .dataframe tbody tr th {\n",
       "        vertical-align: top;\n",
       "    }\n",
       "\n",
       "    .dataframe thead th {\n",
       "        text-align: right;\n",
       "    }\n",
       "</style>\n",
       "<table border=\"1\" class=\"dataframe\">\n",
       "  <thead>\n",
       "    <tr style=\"text-align: right;\">\n",
       "      <th></th>\n",
       "      <th>id</th>\n",
       "      <th>type</th>\n",
       "      <th>text</th>\n",
       "      <th>start</th>\n",
       "      <th>end</th>\n",
       "    </tr>\n",
       "  </thead>\n",
       "  <tbody>\n",
       "    <tr>\n",
       "      <th>0</th>\n",
       "      <td>T1</td>\n",
       "      <td>PER</td>\n",
       "      <td>Марио Монти</td>\n",
       "      <td>2</td>\n",
       "      <td>13</td>\n",
       "    </tr>\n",
       "    <tr>\n",
       "      <th>1</th>\n",
       "      <td>T2</td>\n",
       "      <td>LOC</td>\n",
       "      <td>Италии</td>\n",
       "      <td>61</td>\n",
       "      <td>67</td>\n",
       "    </tr>\n",
       "    <tr>\n",
       "      <th>2</th>\n",
       "      <td>T3</td>\n",
       "      <td>ORG</td>\n",
       "      <td>Reuters</td>\n",
       "      <td>75</td>\n",
       "      <td>82</td>\n",
       "    </tr>\n",
       "    <tr>\n",
       "      <th>3</th>\n",
       "      <td>T4</td>\n",
       "      <td>ORG</td>\n",
       "      <td>Reuters</td>\n",
       "      <td>89</td>\n",
       "      <td>96</td>\n",
       "    </tr>\n",
       "    <tr>\n",
       "      <th>4</th>\n",
       "      <td>T5</td>\n",
       "      <td>ORG</td>\n",
       "      <td>Reuters</td>\n",
       "      <td>103</td>\n",
       "      <td>110</td>\n",
       "    </tr>\n",
       "  </tbody>\n",
       "</table>\n",
       "</div>"
      ],
      "text/plain": [
       "   id type         text start  end\n",
       "0  T1  PER  Марио Монти     2   13\n",
       "1  T2  LOC       Италии    61   67\n",
       "2  T3  ORG      Reuters    75   82\n",
       "3  T4  ORG      Reuters    89   96\n",
       "4  T5  ORG      Reuters   103  110"
      ]
     },
     "execution_count": 248,
     "metadata": {},
     "output_type": "execute_result"
    }
   ],
   "source": [
    "ann_df['tmp'] = ann_df.type.str.split(' ')\n",
    "ann_df['type'] = ann_df['tmp'].str[0]\n",
    "ann_df['start'] = ann_df['tmp'].str[1]\n",
    "ann_df['end'] = ann_df['tmp'].str[2]\n",
    "ann_df = ann_df.drop('tmp', 1)\n",
    "ann_df.head()"
   ]
  },
  {
   "cell_type": "markdown",
   "metadata": {},
   "source": [
    "#### NLTK"
   ]
  },
  {
   "cell_type": "code",
   "execution_count": 254,
   "metadata": {},
   "outputs": [
    {
     "name": "stderr",
     "output_type": "stream",
     "text": [
      "[nltk_data] Downloading package maxent_ne_chunker to\n",
      "[nltk_data]     /Users/maximdoroshenko/nltk_data...\n",
      "[nltk_data]   Package maxent_ne_chunker is already up-to-date!\n",
      "[nltk_data] Downloading package words to\n",
      "[nltk_data]     /Users/maximdoroshenko/nltk_data...\n",
      "[nltk_data]   Unzipping corpora/words.zip.\n"
     ]
    },
    {
     "data": {
      "text/plain": [
       "True"
      ]
     },
     "execution_count": 254,
     "metadata": {},
     "output_type": "execute_result"
    }
   ],
   "source": [
    "nltk.download('maxent_ne_chunker')\n",
    "nltk.download('words')"
   ]
  },
  {
   "cell_type": "code",
   "execution_count": null,
   "metadata": {},
   "outputs": [],
   "source": [
    "# При вызове nltk.ne_chunk(tokens) появляется ошибка The Ghostscript executable isn't found.\n",
    "# brew install ghostscript"
   ]
  },
  {
   "cell_type": "code",
   "execution_count": 259,
   "metadata": {},
   "outputs": [
    {
     "data": {
      "text/plain": [
       "set()"
      ]
     },
     "execution_count": 259,
     "metadata": {},
     "output_type": "execute_result"
    }
   ],
   "source": [
    "\n",
    "ner_nltk = {(' '.join(c[0] for c in chunk), chunk.label() ) for chunk in nltk.ne_chunk(tokens) if hasattr(chunk, 'label') }\n",
    "ner_nltk"
   ]
  },
  {
   "cell_type": "code",
   "execution_count": 258,
   "metadata": {},
   "outputs": [
    {
     "data": {
      "image/png": "[encoded data removed]",
      "text/plain": [
       "Tree('S', [('Марио', 'S'), ('Монти', 'S'), ('подаст', 'V'), ('в', 'PR'), ('отставку', 'S'), ('с', 'PR'), ('должности', 'S'), ('премьер-министра', 'S'), ('Италии', 'S'), ('Фото', 'S'), (':', 'NONLEX'), ('Reuters', 'NONLEX'), ('Фото', 'S'), (':', 'NONLEX'), ('Reuters', 'NONLEX'), ('Фото', 'S'), (':', 'NONLEX'), ('Reuters', 'NONLEX'), ('Фото', 'S'), (':', 'NONLEX'), ('Reuters', 'NONLEX'), ('Премьер-министр', 'S'), ('Италии', 'S'), ('Марио', 'S'), ('Монти', 'S'), ('подтвердил', 'V'), ('намерение', 'S'), ('подать', 'V'), ('прошение', 'S'), ('об', 'PR'), ('отставке', 'S'), ('после', 'PR'), ('того', 'S-PRO'), (',', 'NONLEX'), ('как', 'CONJ'), ('парламент', 'S'), ('одобрит', 'V'), ('закон', 'S'), ('о', 'PR'), ('государственном', 'A=m'), ('бюджете', 'S'), ('на', 'PR'), ('2013', 'NUM=ciph'), ('г.', 'S'), ('Этот', 'A-PRO=m'), ('и', 'CONJ'), ('другие', 'A-PRO=pl'), ('вопросы', 'S'), ('глава', 'S'), ('кабинета', 'S'), ('обсудил', 'V'), ('в', 'PR'), ('ходе', 'S'), ('двухчасовой', 'A=f'), ('беседы', 'S'), ('с', 'PR'), ('Президентом', 'S'), ('страны', 'S'), ('Джорджо', 'S'), ('Наполитано', 'S'), (',', 'NONLEX'), ('передает', 'V'), ('Reuters', 'NONLEX'), ('.', 'NONLEX'), ('Отметим', 'V'), (',', 'NONLEX'), ('что', 'CONJ'), ('ранее', 'ADV'), ('входившая', 'V'), ('в', 'PR'), ('парламентскую', 'A=f'), ('коалицию', 'S'), ('партия', 'S'), ('``', 'NONLEX'), ('Народ', 'S'), ('свободы', 'S'), (\"''\", 'NONLEX'), ('отказала', 'V'), ('Монти', 'S'), ('в', 'PR'), ('поддержке', 'S'), ('.', 'NONLEX'), ('В', 'PR'), ('свою', 'A-PRO=f'), ('очередь', 'S'), ('76-летний', 'A=m'), ('Сильвио', 'S'), ('Берлускони', 'S'), (',', 'NONLEX'), ('который', 'A-PRO=m'), ('является', 'V'), ('лидером', 'S'), ('указанной', 'A=f'), ('партии', 'S'), (',', 'NONLEX'), ('за', 'PR'), ('несколько', 'NUM=acc'), ('часов', 'S'), ('до', 'PR'), ('заявления', 'S'), ('Монти', 'S'), ('сообщил', 'V'), ('прессе', 'S'), (',', 'NONLEX'), ('что', 'CONJ'), ('сохраняет', 'V'), ('премьерские', 'A=pl'), ('амбиции', 'S'), ('и', 'CONJ'), ('готов', 'A=m'), ('вновь', 'ADV'), ('бороться', 'V'), ('за', 'PR'), ('пост', 'S'), ('главы', 'S'), ('правительства', 'S'), ('республики', 'S'), ('в', 'PR'), ('2013', 'NUM=ciph'), ('году', 'S'), ('.', 'NONLEX'), ('В', 'PR'), ('случае', 'S'), ('если', 'CONJ'), ('бюджет', 'S'), ('будет', 'V'), ('принят', 'V'), ('``', 'S'), ('быстро', 'ADV'), (\"''\", 'NONLEX'), (',', 'NONLEX'), ('Монти', 'S'), ('готов', 'A=m'), ('немедленно', 'ADV'), ('сложить', 'V'), ('с', 'PR'), ('себя', 'S-PRO=gen'), ('полномочия', 'S'), ('.', 'NONLEX'), ('Примечательно', 'ADV'), (',', 'NONLEX'), ('что', 'CONJ'), ('Президент', 'S'), ('имеет', 'V'), ('полномочия', 'S'), ('объявить', 'V'), ('о', 'PR'), ('роспуске', 'S'), ('парламента', 'S'), ('и', 'CONJ'), ('проведении', 'S'), ('досрочных', 'A=pl'), ('выборов', 'S'), ('.', 'NONLEX'), ('Несмотря', 'ADV'), ('на', 'PR'), ('то', 'S-PRO'), (',', 'NONLEX'), ('что', 'CONJ'), ('такой', 'A-PRO=m'), ('вариант', 'S'), ('является', 'V'), ('маловероятным', 'A=m'), (',', 'NONLEX'), ('итальянские', 'A=pl'), ('политологи', 'S'), ('рассматривают', 'V'), ('его', 'S-PRO'), ('в', 'PR'), ('качестве', 'S'), ('возможного', 'A=m'), ('исхода', 'S'), ('ситуации', 'S'), ('.', 'NONLEX'), ('Политологи', 'S'), ('заключили', 'V'), (',', 'NONLEX'), ('что', 'CONJ'), ('теперь', 'ADV-PRO'), ('Берлускони', 'S'), ('обрушится', 'V'), ('с', 'PR'), ('жесткой', 'A=f'), ('критикой', 'S'), ('на', 'PR'), ('действующий', 'A=m'), ('кабинет', 'S'), ('министров', 'S'), (',', 'NONLEX'), ('проводящий', 'V'), ('политику', 'S'), ('жесткой', 'A=f'), ('экономии', 'S'), ('.', 'NONLEX'), ('Читайте', 'V'), ('также', 'ADV'), (':', 'NONLEX'), ('Берлускони', 'S'), ('намерен', 'A'), ('в', 'PR'), ('2013', 'NUM=ciph'), ('г.', 'S'), ('снова', 'ADV'), ('баллотироваться', 'V'), ('на', 'PR'), ('пост', 'S'), ('премьер-министра', 'S'), ('Италии', 'S'), ('Берлускони', 'S'), ('ушел', 'V'), ('в', 'PR'), ('отставку', 'S'), ('немногим', 'S-PRO'), ('более', 'NUM=comp'), ('года', 'S'), ('назад', 'ADV'), (',', 'NONLEX'), ('после', 'PR'), ('чего', 'S-PRO'), ('в', 'PR'), ('стране', 'S'), ('с', 'PR'), ('согласия', 'S'), ('парламентского', 'A=n'), ('большинства', 'S'), ('было', 'V'), ('составлено', 'V'), ('правительство', 'S'), ('технократов', 'S'), (',', 'NONLEX'), ('которому', 'A-PRO=m'), ('было', 'V'), ('поручено', 'V'), ('проводить', 'V'), ('непопулярную', 'A=f'), ('экономическую', 'A=f'), ('политику', 'S'), ('.', 'NONLEX'), ('Как', 'ADV-PRO'), ('сообщалось', 'V'), (',', 'NONLEX'), ('26', 'NUM=ciph'), ('октября', 'S'), ('с.г', 'S'), ('.', 'NONLEX'), ('суд', 'S'), ('приговорил', 'V'), ('Берлускони', 'S'), ('к', 'PR'), ('году', 'S'), ('тюрьмы', 'S'), ('с', 'PR'), ('учетом', 'S'), ('закона', 'S'), ('об', 'PR'), ('амнистии', 'S'), ('.', 'NONLEX'), ('Отмечается', 'V'), (',', 'NONLEX'), ('что', 'CONJ'), ('документ', 'S'), ('был', 'V'), ('принят', 'V'), ('в', 'PR'), ('2006', 'NUM=ciph'), ('г.', 'S'), (',', 'NONLEX'), ('и', 'CONJ'), ('в', 'PR'), ('соответствии', 'S'), ('с', 'PR'), ('ним', 'S-PRO'), ('срок', 'S'), ('тюремного', 'A=n'), ('заключения', 'S'), ('бывшего', 'A=m'), ('итальянского', 'A=m'), ('премьера', 'S'), ('уменьшен', 'V'), ('с', 'PR'), ('четырех', 'S'), ('лет', 'S'), ('до', 'PR'), ('одного', 'ANUM=m'), ('года', 'S'), ('.', 'NONLEX'), ('Речь', 'S'), ('идет', 'V'), ('о', 'PR'), ('скандальном', 'A=n'), ('деле', 'S'), ('Mediaset', 'NONLEX'), (',', 'NONLEX'), ('в', 'PR'), ('рамках', 'S'), ('которого', 'A-PRO=m'), ('Берлускони', 'S'), ('обвинялся', 'V'), ('в', 'PR'), ('масштабных', 'A=pl'), ('финансовых', 'A=pl'), ('махинациях', 'S'), ('.', 'NONLEX'), ('Берлускони', 'S'), ('также', 'ADV'), ('отрицает', 'V'), ('обвинения', 'S'), ('в', 'PR'), ('сексе', 'S'), ('с', 'PR'), ('несовершеннолетней', 'A=f'), ('проституткой', 'S'), (',', 'NONLEX'), ('известной', 'A=f'), ('под', 'PR'), ('прозвищем', 'S'), ('``', 'NONLEX'), ('Руби', 'S'), (\"''\", 'NONLEX'), ('.', 'NONLEX'), ('Читайте', 'V'), ('также', 'ADV'), (':', 'NONLEX'), ('Адвокаты', 'S'), ('Берлускони', 'S'), ('обжалуют', 'V'), ('приговор', 'S'), ('экс-премьеру', 'S'), ('Отметим', 'V'), ('также', 'ADV'), (',', 'NONLEX'), ('действующий', 'V'), ('секретарь', 'S'), ('левоцентристской', 'A=f'), ('Демократической', 'S'), ('партии', 'S'), ('Италии', 'S'), ('Пьер', 'S'), ('Луиджи', 'S'), ('Берсани', 'S'), ('станет', 'V'), ('кандидатом', 'S'), ('на', 'PR'), ('пост', 'S'), ('премьер-министра', 'S'), ('страны', 'S'), ('.', 'NONLEX'), ('Именно', 'PART'), ('его', 'A-PRO'), ('кандидатуру', 'S'), ('поддержало', 'V'), ('большинство', 'S'), ('сторонников', 'S'), ('партии', 'S'), ('на', 'PR'), ('праймериз', 'S'), ('2', 'NUM=ciph'), ('декабря', 'S'), ('.', 'NONLEX'), ('На', 'PR'), ('выборах', 'S'), ('Берсани', 'S'), ('обошел', 'S'), ('мэра', 'S'), ('Флоренции', 'S'), ('Маттео', 'S'), ('Ренци', 'S'), (',', 'NONLEX'), ('считающегося', 'V'), ('одним', 'A-PRO=m'), ('из', 'PR'), ('наиболее', 'ADV'), ('заметных', 'A=pl'), ('политиков', 'S'), ('``', 'S'), ('новой', 'A=f'), ('волны', 'S'), (\"''\", 'NONLEX'), ('в', 'PR'), ('Италии', 'S'), ('.', 'NONLEX'), ('Демократическая', 'A=f'), ('партия', 'S'), (',', 'NONLEX'), ('созданная', 'V'), ('на', 'PR'), ('основе', 'S'), ('коалиции', 'S'), ('``', 'NONLEX'), ('Оливковое', 'A=n'), ('дерево', 'S'), (\"''\", 'S'), ('бывшего', 'A=m'), ('премьер-министра', 'S'), ('страны', 'S'), ('Романо', 'V'), ('Проди', 'S'), ('и', 'CONJ'), ('включающая', 'V'), ('в', 'PR'), ('себя', 'S-PRO=acc'), ('партии', 'S'), ('``', 'V'), ('Левые', 'S'), ('демократы', 'S'), (\"''\", 'NONLEX'), ('и', 'CONJ'), ('``', 'NONLEX'), ('Маргерита', 'S'), (\"''\", 'NONLEX'), (',', 'NONLEX'), ('занимает', 'V'), ('217', 'NUM=ciph'), ('мест', 'S'), ('в', 'PR'), ('630-местном', 'A=m'), ('парламенте', 'S'), ('Италии', 'S'), ('и', 'CONJ'), ('является', 'V'), ('одной', 'A-PRO=f'), ('из', 'PR'), ('главных', 'A=pl'), ('оппозиционных', 'A=pl'), ('сил', 'S'), ('страны', 'S'), ('.', 'NONLEX'), ('По', 'PR'), ('теме', 'S'), (':', 'NONLEX'), ('В', 'PR'), ('Италии', 'S'), ('тысячи', 'S'), ('людей', 'S'), ('выступили', 'V'), ('против', 'PR'), ('мер', 'S'), ('бюджетной', 'A=f'), ('экономии', 'S'), ('правительства', 'S'), ('Итальянский', 'A=m'), ('политик', 'S'), (',', 'NONLEX'), ('лидер', 'S'), ('партии', 'S'), ('``', 'NONLEX'), ('Народ', 'S'), ('свободы', 'S'), (\"''\", 'NONLEX'), ('и', 'CONJ'), ('крупный', 'A=m'), ('бизнесмен', 'S'), (',', 'NONLEX'), ('чей', 'A-PRO=m'), ('холдинг', 'S'), ('Fininvest', 'NONLEX'), ('владеет', 'V'), ('разнородными', 'A=pl'), ('активами', 'S'), ('-', 'NONLEX'), ('от', 'PR'), ('медиа', 'S'), ('и', 'CONJ'), ('строительного', 'A=m'), ('бизнеса', 'S'), ('до', 'PR'), ('футбольного', 'A=m'), ('клуба', 'S'), ('Milan', 'NONLEX'), ('(', 'NONLEX'), ('всего', 'PART'), ('около', 'PR'), ('150', 'NUM=ciph'), ('компаний', 'S'), (')', 'NONLEX'), ('трижды', 'ADV'), ('избирался', 'V'), ('на', 'PR'), ('пост', 'S'), ('главы', 'S'), ('правительства', 'S'), ('(', 'NONLEX'), ('абсолютный', 'A=m'), ('рекорд', 'S'), ('для', 'PR'), ('Италии', 'S'), (')', 'NONLEX'), (':', 'NONLEX'), ('возглавлял', 'V'), ('правительство', 'S'), ('Италии', 'S'), ('в', 'PR'), ('1994', 'NUM=ciph'), ('г.', 'S'), (',', 'NONLEX'), ('в', 'PR'), ('2001-2006', 'ANUM=sg'), ('гг', 'S'), ('.', 'NONLEX'), ('и', 'CONJ'), ('в', 'PR'), ('2008-2011', 'ANUM=m'), ('г.', 'S'), ('В', 'PR'), ('ноябре', 'S'), ('2011', 'NUM=ciph'), ('г.', 'S'), (',', 'NONLEX'), ('потеряв', 'V'), ('большинство', 'S'), ('в', 'PR'), ('парламенте', 'S'), ('страны', 'S'), (',', 'NONLEX'), ('добровольно', 'ADV'), ('ушел', 'V'), ('в', 'PR'), ('отставку', 'S'), ('.', 'NONLEX'), ('По', 'PR'), ('данным', 'S'), ('журнала', 'S'), ('Forbes', 'NONLEX'), (',', 'NONLEX'), ('в', 'PR'), ('марте', 'S'), ('2011', 'NUM=ciph'), ('г.', 'A=n'), ('состояние', 'S'), ('Берлускони', 'S'), ('оценивалось', 'V'), ('в', 'PR'), ('7,8', 'NUM=ciph'), ('млрд', 'S'), ('долл', 'S'), ('.', 'NONLEX'), ('Скандально', 'ADV'), ('известная', 'A=f'), ('фигура', 'S'), ('в', 'PR'), ('стране', 'S'), ('-', 'NONLEX'), ('Берлускони', 'S'), ('многократно', 'ADV'), ('обвинялся', 'V'), ('в', 'PR'), ('финансовых', 'A=pl'), ('аферах', 'S'), (',', 'NONLEX'), ('коррупции', 'S'), (',', 'NONLEX'), ('даче', 'CONJ'), ('взяток', 'S'), ('госчиновникам', 'S'), (',', 'NONLEX'), ('участии', 'S'), ('в', 'PR'), ('сексуальных', 'A=pl'), ('скандалах', 'S'), (',', 'NONLEX'), ('привлекался', 'V'), ('к', 'PR'), ('суду', 'S'), ('.', 'NONLEX'), ('Часть', 'S'), ('инициированных', 'V'), ('против', 'PR'), ('него', 'S-PRO'), ('уголовных', 'A=pl'), ('процессов', 'S'), ('закончились', 'V'), ('тюремными', 'A=pl'), ('сроками', 'S'), (',', 'NONLEX'), ('которые', 'A-PRO=pl'), (',', 'NONLEX'), ('впрочем', 'PARENTH'), (',', 'NONLEX'), ('предприимчивый', 'A=m'), ('политик', 'S'), ('ни', 'PART'), ('разу', 'S'), ('не', 'PART'), ('отсидел', 'V'), ('.', 'NONLEX'), ('Каждый', 'A-PRO=m'), ('раз', 'S'), ('Верховный', 'A=m'), ('суд', 'S'), ('аннулировал', 'V'), ('приговоры', 'S'), ('судов', 'S'), ('низших', 'A=pl'), ('инстанций', 'S'), ('.', 'NONLEX')])"
      ]
     },
     "execution_count": 258,
     "metadata": {},
     "output_type": "execute_result"
    }
   ],
   "source": [
    "nltk.ne_chunk(tokens)"
   ]
  },
  {
   "cell_type": "markdown",
   "metadata": {},
   "source": [
    "NLTK ничего не нашёл в русском тексте"
   ]
  },
  {
   "cell_type": "markdown",
   "metadata": {},
   "source": [
    "#### Spacy"
   ]
  },
  {
   "cell_type": "code",
   "execution_count": 263,
   "metadata": {},
   "outputs": [],
   "source": [
    "# !pip install -U spacy\n",
    "# !python -m spacy info"
   ]
  },
  {
   "cell_type": "code",
   "execution_count": 267,
   "metadata": {},
   "outputs": [],
   "source": [
    "# !python -m spacy download ru_core_news_sm\n",
    "# !python -m spacy download ru_core_news_md # 40 MB\n",
    "# !python -m spacy download ru_core_news_lg # 500 MB"
   ]
  },
  {
   "cell_type": "code",
   "execution_count": 268,
   "metadata": {},
   "outputs": [
    {
     "name": "stdout",
     "output_type": "stream",
     "text": [
      "Apple рассматривает возможность покупки стартапа из Соединённого Королевства за $1 млрд\n",
      "Apple PROPN nsubj\n",
      "рассматривает VERB ROOT\n",
      "возможность NOUN obj\n",
      "покупки NOUN nmod\n",
      "стартапа NOUN nmod\n",
      "из ADP case\n",
      "Соединённого ADJ amod\n",
      "Королевства PROPN nmod\n",
      "за ADP case\n",
      "$ SYM nmod\n",
      "1 NUM appos\n",
      "млрд NOUN punct\n"
     ]
    }
   ],
   "source": [
    "import spacy\n",
    "from spacy.lang.ru.examples import sentences \n",
    "\n",
    "nlp = spacy.load(\"ru_core_news_sm\")\n",
    "doc = nlp(sentences[0])\n",
    "print(doc.text)\n",
    "for token in doc:\n",
    "    print(token.text, token.pos_, token.dep_)"
   ]
  },
  {
   "cell_type": "code",
   "execution_count": 270,
   "metadata": {},
   "outputs": [],
   "source": [
    "from spacy import displacy"
   ]
  },
  {
   "cell_type": "code",
   "execution_count": 272,
   "metadata": {},
   "outputs": [
    {
     "data": {
      "text/html": [
       "<span class=\"tex2jax_ignore\"><div class=\"entities\" style=\"line-height: 2.5; direction: ltr\">\n",
       "<mark class=\"entity\" style=\"background: #7aecec; padding: 0.45em 0.6em; margin: 0 0.25em; line-height: 1; border-radius: 0.35em;\">\n",
       "    Apple\n",
       "    <span style=\"font-size: 0.8em; font-weight: bold; line-height: 1; border-radius: 0.35em; vertical-align: middle; margin-left: 0.5rem\">ORG</span>\n",
       "</mark>\n",
       " рассматривает возможность покупки стартапа из \n",
       "<mark class=\"entity\" style=\"background: #ff9561; padding: 0.45em 0.6em; margin: 0 0.25em; line-height: 1; border-radius: 0.35em;\">\n",
       "    Соединённого Королевства\n",
       "    <span style=\"font-size: 0.8em; font-weight: bold; line-height: 1; border-radius: 0.35em; vertical-align: middle; margin-left: 0.5rem\">LOC</span>\n",
       "</mark>\n",
       " за $1 млрд</div></span>"
      ],
      "text/plain": [
       "<IPython.core.display.HTML object>"
      ]
     },
     "metadata": {},
     "output_type": "display_data"
    }
   ],
   "source": [
    "nlp = spacy.load(\"ru_core_news_sm\")\n",
    "article = nlp(doc)\n",
    "displacy.render(article, jupyter=True, style='ent')"
   ]
  },
  {
   "cell_type": "code",
   "execution_count": 273,
   "metadata": {
    "scrolled": false
   },
   "outputs": [
    {
     "data": {
      "text/html": [
       "<span class=\"tex2jax_ignore\"><div class=\"entities\" style=\"line-height: 2.5; direction: ltr\"></br>\n",
       "<mark class=\"entity\" style=\"background: #ddd; padding: 0.45em 0.6em; margin: 0 0.25em; line-height: 1; border-radius: 0.35em;\">\n",
       "    Марио Монти\n",
       "    <span style=\"font-size: 0.8em; font-weight: bold; line-height: 1; border-radius: 0.35em; vertical-align: middle; margin-left: 0.5rem\">PER</span>\n",
       "</mark>\n",
       " подаст в отставку с должности премьер-министра \n",
       "<mark class=\"entity\" style=\"background: #ff9561; padding: 0.45em 0.6em; margin: 0 0.25em; line-height: 1; border-radius: 0.35em;\">\n",
       "    Италии\n",
       "    <span style=\"font-size: 0.8em; font-weight: bold; line-height: 1; border-radius: 0.35em; vertical-align: middle; margin-left: 0.5rem\">LOC</span>\n",
       "</mark>\n",
       "</br>Фото: \n",
       "<mark class=\"entity\" style=\"background: #7aecec; padding: 0.45em 0.6em; margin: 0 0.25em; line-height: 1; border-radius: 0.35em;\">\n",
       "    Reuters\n",
       "    <span style=\"font-size: 0.8em; font-weight: bold; line-height: 1; border-radius: 0.35em; vertical-align: middle; margin-left: 0.5rem\">ORG</span>\n",
       "</mark>\n",
       " Фото: \n",
       "<mark class=\"entity\" style=\"background: #7aecec; padding: 0.45em 0.6em; margin: 0 0.25em; line-height: 1; border-radius: 0.35em;\">\n",
       "    Reuters\n",
       "    <span style=\"font-size: 0.8em; font-weight: bold; line-height: 1; border-radius: 0.35em; vertical-align: middle; margin-left: 0.5rem\">ORG</span>\n",
       "</mark>\n",
       " Фото: \n",
       "<mark class=\"entity\" style=\"background: #7aecec; padding: 0.45em 0.6em; margin: 0 0.25em; line-height: 1; border-radius: 0.35em;\">\n",
       "    Reuters\n",
       "    <span style=\"font-size: 0.8em; font-weight: bold; line-height: 1; border-radius: 0.35em; vertical-align: middle; margin-left: 0.5rem\">ORG</span>\n",
       "</mark>\n",
       "</br>Фото: \n",
       "<mark class=\"entity\" style=\"background: #7aecec; padding: 0.45em 0.6em; margin: 0 0.25em; line-height: 1; border-radius: 0.35em;\">\n",
       "    Reuters\n",
       "    <span style=\"font-size: 0.8em; font-weight: bold; line-height: 1; border-radius: 0.35em; vertical-align: middle; margin-left: 0.5rem\">ORG</span>\n",
       "</mark>\n",
       "</br></br>Премьер-министр \n",
       "<mark class=\"entity\" style=\"background: #ff9561; padding: 0.45em 0.6em; margin: 0 0.25em; line-height: 1; border-radius: 0.35em;\">\n",
       "    Италии\n",
       "    <span style=\"font-size: 0.8em; font-weight: bold; line-height: 1; border-radius: 0.35em; vertical-align: middle; margin-left: 0.5rem\">LOC</span>\n",
       "</mark>\n",
       " \n",
       "<mark class=\"entity\" style=\"background: #ddd; padding: 0.45em 0.6em; margin: 0 0.25em; line-height: 1; border-radius: 0.35em;\">\n",
       "    Марио Монти\n",
       "    <span style=\"font-size: 0.8em; font-weight: bold; line-height: 1; border-radius: 0.35em; vertical-align: middle; margin-left: 0.5rem\">PER</span>\n",
       "</mark>\n",
       " подтвердил намерение подать прошение об отставке после того, как парламент одобрит закон о государственном бюджете на 2013 г. \n",
       "<mark class=\"entity\" style=\"background: #ff9561; padding: 0.45em 0.6em; margin: 0 0.25em; line-height: 1; border-radius: 0.35em;\">\n",
       "    Этот\n",
       "    <span style=\"font-size: 0.8em; font-weight: bold; line-height: 1; border-radius: 0.35em; vertical-align: middle; margin-left: 0.5rem\">LOC</span>\n",
       "</mark>\n",
       " и другие вопросы глава кабинета обсудил в ходе двухчасовой беседы с Президентом страны \n",
       "<mark class=\"entity\" style=\"background: #ddd; padding: 0.45em 0.6em; margin: 0 0.25em; line-height: 1; border-radius: 0.35em;\">\n",
       "    Джорджо Наполитано\n",
       "    <span style=\"font-size: 0.8em; font-weight: bold; line-height: 1; border-radius: 0.35em; vertical-align: middle; margin-left: 0.5rem\">PER</span>\n",
       "</mark>\n",
       ", передает \n",
       "<mark class=\"entity\" style=\"background: #7aecec; padding: 0.45em 0.6em; margin: 0 0.25em; line-height: 1; border-radius: 0.35em;\">\n",
       "    Reuters\n",
       "    <span style=\"font-size: 0.8em; font-weight: bold; line-height: 1; border-radius: 0.35em; vertical-align: middle; margin-left: 0.5rem\">ORG</span>\n",
       "</mark>\n",
       ".</br></br>Отметим, что ранее входившая в парламентскую коалицию партия &quot;\n",
       "<mark class=\"entity\" style=\"background: #7aecec; padding: 0.45em 0.6em; margin: 0 0.25em; line-height: 1; border-radius: 0.35em;\">\n",
       "    Народ свободы\n",
       "    <span style=\"font-size: 0.8em; font-weight: bold; line-height: 1; border-radius: 0.35em; vertical-align: middle; margin-left: 0.5rem\">ORG</span>\n",
       "</mark>\n",
       "&quot; отказала \n",
       "<mark class=\"entity\" style=\"background: #ddd; padding: 0.45em 0.6em; margin: 0 0.25em; line-height: 1; border-radius: 0.35em;\">\n",
       "    Монти\n",
       "    <span style=\"font-size: 0.8em; font-weight: bold; line-height: 1; border-radius: 0.35em; vertical-align: middle; margin-left: 0.5rem\">PER</span>\n",
       "</mark>\n",
       " в поддержке. В свою очередь 76-летний \n",
       "<mark class=\"entity\" style=\"background: #ddd; padding: 0.45em 0.6em; margin: 0 0.25em; line-height: 1; border-radius: 0.35em;\">\n",
       "    Сильвио Берлускони\n",
       "    <span style=\"font-size: 0.8em; font-weight: bold; line-height: 1; border-radius: 0.35em; vertical-align: middle; margin-left: 0.5rem\">PER</span>\n",
       "</mark>\n",
       ", который является лидером указанной партии, за несколько часов до заявления \n",
       "<mark class=\"entity\" style=\"background: #ddd; padding: 0.45em 0.6em; margin: 0 0.25em; line-height: 1; border-radius: 0.35em;\">\n",
       "    Монти\n",
       "    <span style=\"font-size: 0.8em; font-weight: bold; line-height: 1; border-radius: 0.35em; vertical-align: middle; margin-left: 0.5rem\">PER</span>\n",
       "</mark>\n",
       " сообщил прессе, что сохраняет премьерские амбиции и готов вновь бороться за пост главы правительства республики в 2013 году.</br></br>В случае если бюджет будет принят &quot;быстро&quot;, \n",
       "<mark class=\"entity\" style=\"background: #ddd; padding: 0.45em 0.6em; margin: 0 0.25em; line-height: 1; border-radius: 0.35em;\">\n",
       "    Монти\n",
       "    <span style=\"font-size: 0.8em; font-weight: bold; line-height: 1; border-radius: 0.35em; vertical-align: middle; margin-left: 0.5rem\">PER</span>\n",
       "</mark>\n",
       " готов немедленно сложить с себя полномочия. Примечательно, что Президент имеет полномочия объявить о роспуске парламента и проведении досрочных выборов. Несмотря на то, что такой вариант является маловероятным, итальянские политологи рассматривают его в качестве возможного исхода ситуации.</br></br>Политологи заключили, что теперь \n",
       "<mark class=\"entity\" style=\"background: #ddd; padding: 0.45em 0.6em; margin: 0 0.25em; line-height: 1; border-radius: 0.35em;\">\n",
       "    Берлускони\n",
       "    <span style=\"font-size: 0.8em; font-weight: bold; line-height: 1; border-radius: 0.35em; vertical-align: middle; margin-left: 0.5rem\">PER</span>\n",
       "</mark>\n",
       " обрушится с жесткой критикой на действующий кабинет министров, проводящий политику жесткой экономии.</br></br>    Читайте также: \n",
       "<mark class=\"entity\" style=\"background: #ddd; padding: 0.45em 0.6em; margin: 0 0.25em; line-height: 1; border-radius: 0.35em;\">\n",
       "    Берлускони\n",
       "    <span style=\"font-size: 0.8em; font-weight: bold; line-height: 1; border-radius: 0.35em; vertical-align: middle; margin-left: 0.5rem\">PER</span>\n",
       "</mark>\n",
       " намерен в 2013 г. снова баллотироваться на пост премьер-министра \n",
       "<mark class=\"entity\" style=\"background: #ff9561; padding: 0.45em 0.6em; margin: 0 0.25em; line-height: 1; border-radius: 0.35em;\">\n",
       "    Италии\n",
       "    <span style=\"font-size: 0.8em; font-weight: bold; line-height: 1; border-radius: 0.35em; vertical-align: middle; margin-left: 0.5rem\">LOC</span>\n",
       "</mark>\n",
       "</br></br>\n",
       "<mark class=\"entity\" style=\"background: #ddd; padding: 0.45em 0.6em; margin: 0 0.25em; line-height: 1; border-radius: 0.35em;\">\n",
       "    Берлускони\n",
       "    <span style=\"font-size: 0.8em; font-weight: bold; line-height: 1; border-radius: 0.35em; vertical-align: middle; margin-left: 0.5rem\">PER</span>\n",
       "</mark>\n",
       " ушел в отставку немногим более года назад, после чего в стране с согласия парламентского большинства было составлено правительство технократов, которому было поручено проводить непопулярную экономическую политику.</br></br>Как сообщалось, 26 октября \n",
       "<mark class=\"entity\" style=\"background: #ddd; padding: 0.45em 0.6em; margin: 0 0.25em; line-height: 1; border-radius: 0.35em;\">\n",
       "    с.г\n",
       "    <span style=\"font-size: 0.8em; font-weight: bold; line-height: 1; border-radius: 0.35em; vertical-align: middle; margin-left: 0.5rem\">PER</span>\n",
       "</mark>\n",
       ". суд приговорил \n",
       "<mark class=\"entity\" style=\"background: #ddd; padding: 0.45em 0.6em; margin: 0 0.25em; line-height: 1; border-radius: 0.35em;\">\n",
       "    Берлускони\n",
       "    <span style=\"font-size: 0.8em; font-weight: bold; line-height: 1; border-radius: 0.35em; vertical-align: middle; margin-left: 0.5rem\">PER</span>\n",
       "</mark>\n",
       " к году тюрьмы с учетом закона об амнистии. Отмечается, что документ был принят в 2006 г., и в соответствии с ним срок тюремного заключения бывшего итальянского премьера уменьшен с четырех лет до одного года. Речь идет о скандальном деле \n",
       "<mark class=\"entity\" style=\"background: #7aecec; padding: 0.45em 0.6em; margin: 0 0.25em; line-height: 1; border-radius: 0.35em;\">\n",
       "    Mediaset\n",
       "    <span style=\"font-size: 0.8em; font-weight: bold; line-height: 1; border-radius: 0.35em; vertical-align: middle; margin-left: 0.5rem\">ORG</span>\n",
       "</mark>\n",
       ", в рамках которого \n",
       "<mark class=\"entity\" style=\"background: #ddd; padding: 0.45em 0.6em; margin: 0 0.25em; line-height: 1; border-radius: 0.35em;\">\n",
       "    Берлускони\n",
       "    <span style=\"font-size: 0.8em; font-weight: bold; line-height: 1; border-radius: 0.35em; vertical-align: middle; margin-left: 0.5rem\">PER</span>\n",
       "</mark>\n",
       " обвинялся в масштабных финансовых махинациях. \n",
       "<mark class=\"entity\" style=\"background: #ddd; padding: 0.45em 0.6em; margin: 0 0.25em; line-height: 1; border-radius: 0.35em;\">\n",
       "    Берлускони\n",
       "    <span style=\"font-size: 0.8em; font-weight: bold; line-height: 1; border-radius: 0.35em; vertical-align: middle; margin-left: 0.5rem\">PER</span>\n",
       "</mark>\n",
       " также отрицает обвинения в сексе с несовершеннолетней проституткой, известной под прозвищем &quot;\n",
       "<mark class=\"entity\" style=\"background: #7aecec; padding: 0.45em 0.6em; margin: 0 0.25em; line-height: 1; border-radius: 0.35em;\">\n",
       "    Руби\n",
       "    <span style=\"font-size: 0.8em; font-weight: bold; line-height: 1; border-radius: 0.35em; vertical-align: middle; margin-left: 0.5rem\">ORG</span>\n",
       "</mark>\n",
       "&quot;.</br></br>    Читайте также: Адвокаты \n",
       "<mark class=\"entity\" style=\"background: #ddd; padding: 0.45em 0.6em; margin: 0 0.25em; line-height: 1; border-radius: 0.35em;\">\n",
       "    Берлускони\n",
       "    <span style=\"font-size: 0.8em; font-weight: bold; line-height: 1; border-radius: 0.35em; vertical-align: middle; margin-left: 0.5rem\">PER</span>\n",
       "</mark>\n",
       " обжалуют приговор экс-премьеру</br></br>Отметим также, действующий секретарь левоцентристской \n",
       "<mark class=\"entity\" style=\"background: #7aecec; padding: 0.45em 0.6em; margin: 0 0.25em; line-height: 1; border-radius: 0.35em;\">\n",
       "    Демократической партии\n",
       "    <span style=\"font-size: 0.8em; font-weight: bold; line-height: 1; border-radius: 0.35em; vertical-align: middle; margin-left: 0.5rem\">ORG</span>\n",
       "</mark>\n",
       " \n",
       "<mark class=\"entity\" style=\"background: #ff9561; padding: 0.45em 0.6em; margin: 0 0.25em; line-height: 1; border-radius: 0.35em;\">\n",
       "    Италии\n",
       "    <span style=\"font-size: 0.8em; font-weight: bold; line-height: 1; border-radius: 0.35em; vertical-align: middle; margin-left: 0.5rem\">LOC</span>\n",
       "</mark>\n",
       " \n",
       "<mark class=\"entity\" style=\"background: #ddd; padding: 0.45em 0.6em; margin: 0 0.25em; line-height: 1; border-radius: 0.35em;\">\n",
       "    Пьер Луиджи Берсани\n",
       "    <span style=\"font-size: 0.8em; font-weight: bold; line-height: 1; border-radius: 0.35em; vertical-align: middle; margin-left: 0.5rem\">PER</span>\n",
       "</mark>\n",
       " станет кандидатом на пост премьер-министра страны. Именно его кандидатуру поддержало большинство сторонников партии на праймериз 2 декабря. На выборах \n",
       "<mark class=\"entity\" style=\"background: #ff9561; padding: 0.45em 0.6em; margin: 0 0.25em; line-height: 1; border-radius: 0.35em;\">\n",
       "    Берсани\n",
       "    <span style=\"font-size: 0.8em; font-weight: bold; line-height: 1; border-radius: 0.35em; vertical-align: middle; margin-left: 0.5rem\">LOC</span>\n",
       "</mark>\n",
       " обошел мэра \n",
       "<mark class=\"entity\" style=\"background: #ff9561; padding: 0.45em 0.6em; margin: 0 0.25em; line-height: 1; border-radius: 0.35em;\">\n",
       "    Флоренции\n",
       "    <span style=\"font-size: 0.8em; font-weight: bold; line-height: 1; border-radius: 0.35em; vertical-align: middle; margin-left: 0.5rem\">LOC</span>\n",
       "</mark>\n",
       " \n",
       "<mark class=\"entity\" style=\"background: #ddd; padding: 0.45em 0.6em; margin: 0 0.25em; line-height: 1; border-radius: 0.35em;\">\n",
       "    Маттео Ренци\n",
       "    <span style=\"font-size: 0.8em; font-weight: bold; line-height: 1; border-radius: 0.35em; vertical-align: middle; margin-left: 0.5rem\">PER</span>\n",
       "</mark>\n",
       ", считающегося одним из наиболее заметных политиков &quot;новой волны&quot; в \n",
       "<mark class=\"entity\" style=\"background: #ff9561; padding: 0.45em 0.6em; margin: 0 0.25em; line-height: 1; border-radius: 0.35em;\">\n",
       "    Италии\n",
       "    <span style=\"font-size: 0.8em; font-weight: bold; line-height: 1; border-radius: 0.35em; vertical-align: middle; margin-left: 0.5rem\">LOC</span>\n",
       "</mark>\n",
       ". \n",
       "<mark class=\"entity\" style=\"background: #7aecec; padding: 0.45em 0.6em; margin: 0 0.25em; line-height: 1; border-radius: 0.35em;\">\n",
       "    Демократическая партия\n",
       "    <span style=\"font-size: 0.8em; font-weight: bold; line-height: 1; border-radius: 0.35em; vertical-align: middle; margin-left: 0.5rem\">ORG</span>\n",
       "</mark>\n",
       ", созданная на основе коалиции &quot;Оливковое дерево&quot; бывшего премьер-министра страны \n",
       "<mark class=\"entity\" style=\"background: #ddd; padding: 0.45em 0.6em; margin: 0 0.25em; line-height: 1; border-radius: 0.35em;\">\n",
       "    Романо Проди\n",
       "    <span style=\"font-size: 0.8em; font-weight: bold; line-height: 1; border-radius: 0.35em; vertical-align: middle; margin-left: 0.5rem\">PER</span>\n",
       "</mark>\n",
       " и включающая в себя партии &quot;\n",
       "<mark class=\"entity\" style=\"background: #7aecec; padding: 0.45em 0.6em; margin: 0 0.25em; line-height: 1; border-radius: 0.35em;\">\n",
       "    Левые демократы\n",
       "    <span style=\"font-size: 0.8em; font-weight: bold; line-height: 1; border-radius: 0.35em; vertical-align: middle; margin-left: 0.5rem\">ORG</span>\n",
       "</mark>\n",
       "&quot; и &quot;\n",
       "<mark class=\"entity\" style=\"background: #7aecec; padding: 0.45em 0.6em; margin: 0 0.25em; line-height: 1; border-radius: 0.35em;\">\n",
       "    Маргерита\n",
       "    <span style=\"font-size: 0.8em; font-weight: bold; line-height: 1; border-radius: 0.35em; vertical-align: middle; margin-left: 0.5rem\">ORG</span>\n",
       "</mark>\n",
       "&quot;, занимает 217 мест в 630-местном парламенте \n",
       "<mark class=\"entity\" style=\"background: #ff9561; padding: 0.45em 0.6em; margin: 0 0.25em; line-height: 1; border-radius: 0.35em;\">\n",
       "    Италии\n",
       "    <span style=\"font-size: 0.8em; font-weight: bold; line-height: 1; border-radius: 0.35em; vertical-align: middle; margin-left: 0.5rem\">LOC</span>\n",
       "</mark>\n",
       " и является одной из главных оппозиционных сил страны.</br></br>    По теме: В \n",
       "<mark class=\"entity\" style=\"background: #ff9561; padding: 0.45em 0.6em; margin: 0 0.25em; line-height: 1; border-radius: 0.35em;\">\n",
       "    Италии\n",
       "    <span style=\"font-size: 0.8em; font-weight: bold; line-height: 1; border-radius: 0.35em; vertical-align: middle; margin-left: 0.5rem\">LOC</span>\n",
       "</mark>\n",
       " тысячи людей выступили против мер бюджетной экономии правительства</br></br>Итальянский политик, лидер партии &quot;\n",
       "<mark class=\"entity\" style=\"background: #7aecec; padding: 0.45em 0.6em; margin: 0 0.25em; line-height: 1; border-radius: 0.35em;\">\n",
       "    Народ свободы\n",
       "    <span style=\"font-size: 0.8em; font-weight: bold; line-height: 1; border-radius: 0.35em; vertical-align: middle; margin-left: 0.5rem\">ORG</span>\n",
       "</mark>\n",
       "&quot; и крупный бизнесмен, чей холдинг \n",
       "<mark class=\"entity\" style=\"background: #7aecec; padding: 0.45em 0.6em; margin: 0 0.25em; line-height: 1; border-radius: 0.35em;\">\n",
       "    Fininvest\n",
       "    <span style=\"font-size: 0.8em; font-weight: bold; line-height: 1; border-radius: 0.35em; vertical-align: middle; margin-left: 0.5rem\">ORG</span>\n",
       "</mark>\n",
       " владеет разнородными активами - от медиа и строительного бизнеса до футбольного клуба \n",
       "<mark class=\"entity\" style=\"background: #7aecec; padding: 0.45em 0.6em; margin: 0 0.25em; line-height: 1; border-radius: 0.35em;\">\n",
       "    Milan\n",
       "    <span style=\"font-size: 0.8em; font-weight: bold; line-height: 1; border-radius: 0.35em; vertical-align: middle; margin-left: 0.5rem\">ORG</span>\n",
       "</mark>\n",
       " (всего около 150 компаний) трижды избирался на пост главы правительства (абсолютный рекорд для \n",
       "<mark class=\"entity\" style=\"background: #ff9561; padding: 0.45em 0.6em; margin: 0 0.25em; line-height: 1; border-radius: 0.35em;\">\n",
       "    Италии\n",
       "    <span style=\"font-size: 0.8em; font-weight: bold; line-height: 1; border-radius: 0.35em; vertical-align: middle; margin-left: 0.5rem\">LOC</span>\n",
       "</mark>\n",
       "): возглавлял правительство \n",
       "<mark class=\"entity\" style=\"background: #ff9561; padding: 0.45em 0.6em; margin: 0 0.25em; line-height: 1; border-radius: 0.35em;\">\n",
       "    Италии\n",
       "    <span style=\"font-size: 0.8em; font-weight: bold; line-height: 1; border-radius: 0.35em; vertical-align: middle; margin-left: 0.5rem\">LOC</span>\n",
       "</mark>\n",
       " в 1994 г., в 2001-2006 гг. и в 2008-2011 г. В ноябре 2011 г., потеряв большинство в парламенте страны, добровольно ушел в отставку. По данным журнала \n",
       "<mark class=\"entity\" style=\"background: #7aecec; padding: 0.45em 0.6em; margin: 0 0.25em; line-height: 1; border-radius: 0.35em;\">\n",
       "    Forbes\n",
       "    <span style=\"font-size: 0.8em; font-weight: bold; line-height: 1; border-radius: 0.35em; vertical-align: middle; margin-left: 0.5rem\">ORG</span>\n",
       "</mark>\n",
       ", в марте 2011 г. состояние \n",
       "<mark class=\"entity\" style=\"background: #ddd; padding: 0.45em 0.6em; margin: 0 0.25em; line-height: 1; border-radius: 0.35em;\">\n",
       "    Берлускони\n",
       "    <span style=\"font-size: 0.8em; font-weight: bold; line-height: 1; border-radius: 0.35em; vertical-align: middle; margin-left: 0.5rem\">PER</span>\n",
       "</mark>\n",
       " оценивалось в 7,8 млрд долл.</br></br>Скандально известная фигура в стране - Берлускони многократно обвинялся в финансовых аферах, коррупции, даче взяток госчиновникам, участии в сексуальных скандалах, привлекался к суду. Часть инициированных против него уголовных процессов закончились тюремными сроками, которые, впрочем, предприимчивый политик ни разу не отсидел. Каждый раз \n",
       "<mark class=\"entity\" style=\"background: #7aecec; padding: 0.45em 0.6em; margin: 0 0.25em; line-height: 1; border-radius: 0.35em;\">\n",
       "    Верховный суд\n",
       "    <span style=\"font-size: 0.8em; font-weight: bold; line-height: 1; border-radius: 0.35em; vertical-align: middle; margin-left: 0.5rem\">ORG</span>\n",
       "</mark>\n",
       " аннулировал приговоры судов низших инстанций.</br></div></span>"
      ],
      "text/plain": [
       "<IPython.core.display.HTML object>"
      ]
     },
     "metadata": {},
     "output_type": "display_data"
    }
   ],
   "source": [
    "nlp = spacy.load(\"ru_core_news_sm\")\n",
    "article = nlp(text)\n",
    "displacy.render(article, jupyter=True, style='ent')"
   ]
  },
  {
   "cell_type": "code",
   "execution_count": 278,
   "metadata": {},
   "outputs": [],
   "source": [
    "# Результат с использованием ru_core_news_md совпадает ru_core_news_sm\n",
    "# nlp = spacy.load(\"ru_core_news_md\")\n",
    "# article = nlp(text)\n",
    "# displacy.render(article, jupyter=True, style='ent')"
   ]
  },
  {
   "cell_type": "code",
   "execution_count": 277,
   "metadata": {},
   "outputs": [],
   "source": [
    "# for token in nlp(text):\n",
    "#     print(token.text, token.pos_, token.dep_)\n",
    "# Малополезная информация"
   ]
  },
  {
   "cell_type": "markdown",
   "metadata": {},
   "source": [
    "#### Вывод: Spacy визуально показывает достаточно хороший результат.\n",
    "Пропуски присутствуют, но, возможно с использованием большого сета ru_core_news_lg - пропусков станет меньше.\n",
    "\n",
    "Spacy docs:https://spacy.io/models/ru#ru_core_news_lg"
   ]
  },
  {
   "cell_type": "markdown",
   "metadata": {},
   "source": [
    "#### Другие инструменты"
   ]
  },
  {
   "cell_type": "markdown",
   "metadata": {},
   "source": [
    "#### Stanza"
   ]
  },
  {
   "cell_type": "code",
   "execution_count": 281,
   "metadata": {},
   "outputs": [
    {
     "data": {
      "application/vnd.jupyter.widget-view+json": {
       "model_id": "7ca1b066b1b1473b94f4beed31682370",
       "version_major": 2,
       "version_minor": 0
      },
      "text/plain": [
       "HBox(children=(HTML(value='Downloading https://raw.githubusercontent.com/stanfordnlp/stanza-resources/main/res…"
      ]
     },
     "metadata": {},
     "output_type": "display_data"
    },
    {
     "name": "stdout",
     "output_type": "stream",
     "text": [
      "\n"
     ]
    },
    {
     "name": "stderr",
     "output_type": "stream",
     "text": [
      "2022-06-13 12:25:12 INFO: Loading these models for language: ru (Russian):\n",
      "=========================\n",
      "| Processor | Package   |\n",
      "-------------------------\n",
      "| tokenize  | syntagrus |\n",
      "| ner       | wikiner   |\n",
      "=========================\n",
      "\n",
      "2022-06-13 12:25:12 INFO: Use device: cpu\n",
      "2022-06-13 12:25:12 INFO: Loading: tokenize\n",
      "2022-06-13 12:25:12 INFO: Loading: ner\n",
      "2022-06-13 12:25:13 INFO: Done loading processors!\n"
     ]
    },
    {
     "name": "stdout",
     "output_type": "stream",
     "text": [
      "entity: Марио Монти\ttype: PER\n",
      "entity: Италии\ttype: LOC\n",
      "entity: Фото: Reuters Фото: Reuters Фото: Reuters\n",
      "Фото: Reuters\ttype: MISC\n",
      "entity: Италии\ttype: LOC\n",
      "entity: Марио Монти\ttype: PER\n",
      "entity: Президентом страны\ttype: ORG\n",
      "entity: Джорджо Наполитано\ttype: PER\n",
      "entity: Reuters\ttype: ORG\n",
      "entity: Народ свободы\ttype: ORG\n",
      "entity: Монти\ttype: PER\n",
      "entity: Сильвио Берлускони\ttype: PER\n",
      "entity: Монти\ttype: PER\n",
      "entity: Монти\ttype: PER\n",
      "entity: Президент\ttype: ORG\n",
      "entity: итальянские\ttype: MISC\n",
      "entity: Берлускони\ttype: PER\n",
      "entity: Берлускони\ttype: PER\n",
      "entity: Италии\ttype: LOC\n",
      "entity: Берлускони\ttype: PER\n",
      "entity: Берлускони\ttype: PER\n",
      "entity: Mediaset\ttype: ORG\n",
      "entity: Берлускони\ttype: PER\n",
      "entity: Берлускони\ttype: PER\n",
      "entity: Руби\ttype: MISC\n",
      "entity: Берлускони\ttype: PER\n",
      "entity: Демократической партии Италии\ttype: ORG\n",
      "entity: Пьер Луиджи Берсани\ttype: PER\n",
      "entity: Берсани\ttype: PER\n",
      "entity: Флоренции\ttype: LOC\n",
      "entity: Маттео Ренци\ttype: PER\n",
      "entity: Италии\ttype: LOC\n",
      "entity: Демократическая партия\ttype: ORG\n",
      "entity: Оливковое дерево\ttype: ORG\n",
      "entity: Романо Проди\ttype: PER\n",
      "entity: Левые демократы\ttype: ORG\n",
      "entity: Маргерита\ttype: ORG\n",
      "entity: Италии\ttype: LOC\n",
      "entity: Италии\ttype: LOC\n",
      "entity: Fininvest\ttype: ORG\n",
      "entity: Milan\ttype: ORG\n",
      "entity: Италии\ttype: LOC\n",
      "entity: Италии\ttype: LOC\n",
      "entity: Forbes\ttype: ORG\n",
      "entity: Берлускони\ttype: PER\n",
      "entity: Берлускони\ttype: PER\n",
      "entity: Верховный суд\ttype: ORG\n"
     ]
    }
   ],
   "source": [
    "# !pip install stanza\n",
    "import stanza\n",
    "# stanza.download('ru')\n",
    "def stanza_nlp_ru(text):\n",
    "  nlp = stanza.Pipeline(lang='ru', processors='tokenize,ner')\n",
    "  doc = nlp(text)\n",
    "  print(*[f'entity: {ent.text}\\ttype: {ent.type}' for sent in doc.sentences for ent in sent.ents], sep='\\n')\n",
    "stanza_nlp_ru(text)"
   ]
  },
  {
   "cell_type": "markdown",
   "metadata": {},
   "source": [
    "#### Natasha"
   ]
  },
  {
   "cell_type": "code",
   "execution_count": 283,
   "metadata": {},
   "outputs": [
    {
     "data": {
      "text/plain": [
       "Doc(text='\\nМарио Монти подаст в отставку с должности премь...)"
      ]
     },
     "execution_count": 283,
     "metadata": {},
     "output_type": "execute_result"
    }
   ],
   "source": [
    "from natasha import (\n",
    "    Segmenter,\n",
    "    MorphVocab,\n",
    "    \n",
    "    NewsEmbedding,\n",
    "    NewsMorphTagger,\n",
    "    NewsSyntaxParser,\n",
    "    NewsNERTagger,\n",
    "    \n",
    "    PER,\n",
    "    NamesExtractor,\n",
    "\n",
    "    Doc\n",
    ")\n",
    "\n",
    "segmenter = Segmenter()\n",
    "morph_vocab = MorphVocab()\n",
    "\n",
    "emb = NewsEmbedding()\n",
    "morph_tagger = NewsMorphTagger(emb)\n",
    "syntax_parser = NewsSyntaxParser(emb)\n",
    "ner_tagger = NewsNERTagger(emb)\n",
    "\n",
    "names_extractor = NamesExtractor(morph_vocab)\n",
    "\n",
    "doc = Doc(text)\n",
    "doc"
   ]
  },
  {
   "cell_type": "code",
   "execution_count": 284,
   "metadata": {},
   "outputs": [
    {
     "data": {
      "text/plain": [
       "[DocToken(start=1, stop=6, text='Марио'),\n",
       " DocToken(start=7, stop=12, text='Монти'),\n",
       " DocToken(start=13, stop=19, text='подаст'),\n",
       " DocToken(start=20, stop=21, text='в'),\n",
       " DocToken(start=22, stop=30, text='отставку')]"
      ]
     },
     "metadata": {},
     "output_type": "display_data"
    },
    {
     "data": {
      "text/plain": [
       "[DocSent(start=1, stop=414, text='Марио Монти подаст в отставку с должности премьер..., tokens=[...]),\n",
       " DocSent(start=416, stop=520, text='Отметим, что ранее входившая в парламентскую коал..., tokens=[...]),\n",
       " DocSent(start=521, stop=771, text='В свою очередь 76-летний Сильвио Берлускони, кото..., tokens=[...]),\n",
       " DocSent(start=773, stop=866, text='В случае если бюджет будет принят \"быстро\", Монти..., tokens=[...]),\n",
       " DocSent(start=867, stop=975, text='Примечательно, что Президент имеет полномочия объ..., tokens=[...])]"
      ]
     },
     "metadata": {},
     "output_type": "display_data"
    }
   ],
   "source": [
    "doc.segment(segmenter)\n",
    "display(doc.tokens[:5])\n",
    "display(doc.sents[:5])"
   ]
  },
  {
   "cell_type": "code",
   "execution_count": 285,
   "metadata": {},
   "outputs": [
    {
     "name": "stdout",
     "output_type": "stream",
     "text": [
      "               Марио PROPN|Animacy=Anim|Case=Nom|Gender=Masc|Number=Sing\n",
      "               Монти PROPN|Animacy=Anim|Case=Nom|Gender=Masc|Number=Sing\n",
      "              подаст VERB|Aspect=Perf|Mood=Ind|Number=Sing|Person=3|Tense=Fut|VerbForm=Fin|Voice=Act\n",
      "                   в ADP\n",
      "            отставку NOUN|Animacy=Inan|Case=Acc|Gender=Fem|Number=Sing\n",
      "                   с ADP\n",
      "           должности NOUN|Animacy=Inan|Case=Gen|Gender=Fem|Number=Sing\n",
      "    премьер-министра NOUN|Animacy=Anim|Case=Gen|Gender=Masc|Number=Sing\n",
      "              Италии PROPN|Animacy=Inan|Case=Gen|Gender=Fem|Number=Sing\n",
      "                Фото PROPN|Animacy=Inan|Case=Nom|Gender=Neut|Number=Sing\n",
      "                   : PUNCT\n",
      "             Reuters PROPN|Foreign=Yes\n",
      "                Фото PROPN|Animacy=Inan|Case=Nom|Gender=Neut|Number=Sing\n",
      "                   : PUNCT\n",
      "             Reuters PROPN|Foreign=Yes\n",
      "                Фото PROPN|Animacy=Inan|Case=Nom|Gender=Neut|Number=Sing\n",
      "                   : PUNCT\n",
      "             Reuters PROPN|Foreign=Yes\n",
      "                Фото PROPN|Animacy=Inan|Case=Nom|Gender=Neut|Number=Sing\n",
      "                   : PUNCT\n",
      "             Reuters PROPN|Foreign=Yes\n",
      "     Премьер-министр NOUN|Animacy=Anim|Case=Nom|Gender=Masc|Number=Sing\n",
      "              Италии PROPN|Animacy=Inan|Case=Gen|Gender=Fem|Number=Sing\n",
      "               Марио PROPN|Animacy=Anim|Case=Nom|Gender=Masc|Number=Sing\n",
      "               Монти PROPN|Animacy=Anim|Case=Nom|Gender=Masc|Number=Sing\n",
      "          подтвердил VERB|Aspect=Perf|Gender=Masc|Mood=Ind|Number=Sing|Tense=Past|VerbForm=Fin|Voice=Act\n",
      "           намерение NOUN|Animacy=Inan|Case=Acc|Gender=Neut|Number=Sing\n",
      "              подать VERB|Aspect=Perf|VerbForm=Inf|Voice=Act\n",
      "            прошение NOUN|Animacy=Inan|Case=Acc|Gender=Neut|Number=Sing\n",
      "                  об ADP\n",
      "            отставке NOUN|Animacy=Inan|Case=Loc|Gender=Fem|Number=Sing\n",
      "               после ADP\n",
      "                того PRON|Animacy=Inan|Case=Gen|Gender=Neut|Number=Sing\n",
      "                   , PUNCT\n",
      "                 как SCONJ\n",
      "           парламент NOUN|Animacy=Inan|Case=Nom|Gender=Masc|Number=Sing\n",
      "             одобрит VERB|Aspect=Perf|Mood=Ind|Number=Sing|Person=3|Tense=Fut|VerbForm=Fin|Voice=Act\n",
      "               закон NOUN|Animacy=Inan|Case=Acc|Gender=Masc|Number=Sing\n",
      "                   о ADP\n",
      "     государственном ADJ|Case=Loc|Degree=Pos|Gender=Masc|Number=Sing\n",
      "             бюджете NOUN|Animacy=Inan|Case=Loc|Gender=Masc|Number=Sing\n",
      "                  на ADP\n",
      "                2013 ADJ\n",
      "                   г NOUN|Animacy=Inan|Case=Loc|Gender=Masc|Number=Sing\n",
      "                   . PUNCT\n",
      "                Этот DET|Case=Nom|Gender=Masc|Number=Sing\n",
      "                   и CCONJ\n",
      "              другие ADJ|Case=Nom|Degree=Pos|Number=Plur\n",
      "             вопросы NOUN|Animacy=Inan|Case=Acc|Gender=Masc|Number=Plur\n",
      "               глава NOUN|Animacy=Anim|Case=Nom|Gender=Masc|Number=Sing\n",
      "            кабинета NOUN|Animacy=Inan|Case=Gen|Gender=Masc|Number=Sing\n",
      "             обсудил VERB|Aspect=Perf|Gender=Masc|Mood=Ind|Number=Sing|Tense=Past|VerbForm=Fin|Voice=Act\n",
      "                   в ADP\n",
      "                ходе NOUN|Animacy=Inan|Case=Loc|Gender=Masc|Number=Sing\n",
      "         двухчасовой ADJ|Case=Gen|Degree=Pos|Gender=Fem|Number=Sing\n",
      "              беседы NOUN|Animacy=Inan|Case=Gen|Gender=Fem|Number=Sing\n",
      "                   с ADP\n",
      "         Президентом PROPN|Animacy=Anim|Case=Ins|Gender=Masc|Number=Sing\n",
      "              страны NOUN|Animacy=Inan|Case=Gen|Gender=Fem|Number=Sing\n",
      "             Джорджо PROPN|Animacy=Anim|Case=Ins|Gender=Masc|Number=Sing\n",
      "          Наполитано PROPN|Animacy=Anim|Case=Ins|Gender=Masc|Number=Sing\n",
      "                   , PUNCT\n",
      "            передает VERB|Aspect=Imp|Mood=Ind|Number=Sing|Person=3|Tense=Pres|VerbForm=Fin|Voice=Act\n",
      "             Reuters PROPN|Foreign=Yes\n",
      "                   . PUNCT\n"
     ]
    }
   ],
   "source": [
    "doc.segment(segmenter)\n",
    "doc.tag_morph(morph_tagger)\n",
    "doc.parse_syntax(syntax_parser)\n",
    "sent = doc.sents[0]\n",
    "sent.morph.print()"
   ]
  },
  {
   "cell_type": "code",
   "execution_count": 286,
   "metadata": {
    "scrolled": false
   },
   "outputs": [
    {
     "name": "stdout",
     "output_type": "stream",
     "text": [
      "                              ┌► Марио            nsubj\n",
      "                              │  Монти            \n",
      "┌─┌───┌─────┌─────────────┌─┌─└─ подаст           \n",
      "│ │   │     │             │ │ ┌► в                case\n",
      "│ │   │     │             │ └►└─ отставку         obl\n",
      "│ │   │     │             │   ┌► с                case\n",
      "│ │   │     │             └►┌─└─ должности        obl\n",
      "│ │ ┌─│     │             ┌─└►┌─ премьер-министра nmod\n",
      "│ │ │ │     │             │   └► Италии           nmod\n",
      "│ │ │ │     │             └────► Фото             appos\n",
      "│ │ │ │     │               ┌──► :                punct\n",
      "│ │ │ │     │ ┌──────►┌───┌─│ ┌─ Reuters          acl\n",
      "│ │ │ │     │ │       │   │ │ └► Фото             flat:name\n",
      "│ │ │ │     │ │       │   │ │ ┌► :                punct\n",
      "│ │ │ │     │ │   ┌──►│ ┌─│ └─└─ Reuters          acl\n",
      "│ │ │ │     │ │   │   │ │ └►│    Фото             flat:name\n",
      "│ │ │ │     │ │   │   │ │   └──► :                punct\n",
      "│ │ │ │     │ │   │ ┌►│ │        Reuters          acl\n",
      "│ │ │ │     │ │   │ │ └►│        Фото             flat:name\n",
      "│ │ │ │     │ │   │ │   └──────► :                punct\n",
      "│ │ │ │ ┌──►│ │   │ │            Reuters          nsubj\n",
      "│ │ │ │ │ ┌►│ │   │ │       ┌─┌─ Премьер-министр  nsubj\n",
      "│ │ │ │ │ │ │ │   │ │       │ └► Италии           nmod\n",
      "│ │ │ │ │ │ │ │   │ │       └►┌─ Марио            appos\n",
      "│ │ │ │ │ │ │ │   │ │         └► Монти            flat:name\n",
      "│ │ │ │ │ │ │ │ ┌─│ │         ┌─ подтвердил       \n",
      "│ │ │ │ │ │ │ │ │ │ │       ┌─└► намерение        obj\n",
      "│ │ │ │ │ │ │ │ │ │ │       └►┌─ подать           nmod\n",
      "│ │ │ │ │ │ │ │ │ │ │       ┌─└► прошение         obj\n",
      "│ │ │ │ │ │ │ │ │ │ │       │ ┌► об               case\n",
      "│ │ │ │ │ │ │ │ │ │ │       └►└─ отставке         nmod\n",
      "│ │ │ │ │ │ │ │ │ │ │         ┌► после            case\n",
      "│ │ │ │ │ │ └►└─│ └─└───┌─────└─ того             obl\n",
      "│ │ │ │ │ │     │       │ ┌────► ,                punct\n",
      "│ │ │ │ │ │     │       │ │ ┌──► как              mark\n",
      "│ │ │ │ │ │     │       │ │ │ ┌► парламент        nsubj\n",
      "│ │ │ │ │ │     │       └►└─└─└─ одобрит          acl\n",
      "│ │ │ │ │ │     │         ┌─└──► закон            obj\n",
      "│ │ │ │ │ │     │         │ ┌──► о                case\n",
      "│ │ │ │ │ │     │         │ │ ┌► государственном  amod\n",
      "│ │ │ │ │ │     │       ┌─└►└─└─ бюджете          nmod\n",
      "│ │ │ │ │ │     │       │   ┌──► на               case\n",
      "│ │ │ │ │ │     │       │   │ ┌► 2013             amod\n",
      "│ │ │ │ │ │     │       └──►└─└─ г                nmod\n",
      "│ │ │ │ │ │     └──────────────► .                punct\n",
      "│ │ │ │ │ │               ┌────► Этот             det\n",
      "│ │ │ │ │ │               │ ┌──► и                cc\n",
      "│ │ │ │ │ │               │ │ ┌► другие           amod\n",
      "│ │ │ └►│ │               └─└─└─ вопросы          obj\n",
      "│ │ │   │ │                 ┌►┌─ глава            nsubj\n",
      "│ │ │   │ │                 │ └► кабинета         nmod\n",
      "│ │ │   └─└─────────────────└─── обсудил          \n",
      "│ │ │                       ┌►┌─ в                case\n",
      "│ │ │                       │ └► ходе             fixed\n",
      "│ │ │                       │ ┌► двухчасовой      amod\n",
      "│ └►│                       └─└─ беседы           obl\n",
      "│   │                       │ ┌► с                case\n",
      "│   │                       └►└─ Президентом      nmod\n",
      "│   │                       └──► страны           nmod\n",
      "│   └────────────────────────►┌─ Джорджо          appos\n",
      "│                             └► Наполитано       flat:name\n",
      "│                             ┌► ,                punct\n",
      "│                           ┌─└─ передает         \n",
      "│                           └──► Reuters          nsubj\n",
      "└──────────────────────────────► .                punct\n"
     ]
    }
   ],
   "source": [
    "sent.syntax.print()"
   ]
  },
  {
   "cell_type": "code",
   "execution_count": 287,
   "metadata": {},
   "outputs": [
    {
     "name": "stdout",
     "output_type": "stream",
     "text": [
      "Марио Монти подаст в отставку с должности премьер-министра Италии\n",
      "PER────────                                                LOC───\n",
      "Фото: Reuters Фото: Reuters Фото: Reuters\n",
      "Фото: Reuters\n",
      "      ORG────\n",
      "Премьер-министр Италии Марио Монти подтвердил намерение подать \n",
      "                LOC─── PER────────                             \n",
      "прошение об отставке после того, как парламент одобрит закон о \n",
      "государственном бюджете на 2013 г. Этот и другие вопросы глава \n",
      "кабинета обсудил в ходе двухчасовой беседы с Президентом страны \n",
      "Джорджо Наполитано, передает Reuters.\n",
      "PER───────────────           ORG──── \n",
      "Отметим, что ранее входившая в парламентскую коалицию партия \"Народ \n",
      "                                                              ORG───\n",
      "свободы\" отказала Монти в поддержке. В свою очередь 76-летний Сильвио \n",
      "───────           PER──                                       PER─────\n",
      "Берлускони, который является лидером указанной партии, за несколько \n",
      "──────────                                                          \n",
      "часов до заявления Монти сообщил прессе, что сохраняет премьерские \n",
      "                   PER──                                           \n",
      "амбиции и готов вновь бороться за пост главы правительства республики \n",
      "в 2013 году.\n",
      "В случае если бюджет будет принят \"быстро\", Монти готов немедленно \n",
      "                                            PER──                  \n",
      "сложить с себя полномочия. Примечательно, что Президент имеет \n",
      "полномочия объявить о роспуске парламента и проведении досрочных \n",
      "выборов. Несмотря на то, что такой вариант является маловероятным, \n",
      "итальянские политологи рассматривают его в качестве возможного исхода \n",
      "ситуации.\n",
      "Политологи заключили, что теперь Берлускони обрушится с жесткой \n",
      "                                 PER───────                     \n",
      "критикой на действующий кабинет министров, проводящий политику жесткой\n",
      " экономии.\n",
      "    Читайте также: Берлускони намерен в 2013 г. снова баллотироваться \n",
      "                   PER───────                                         \n",
      "на пост премьер-министра Италии\n",
      "                         LOC───\n",
      "Берлускони ушел в отставку немногим более года назад, после чего в \n",
      "PER───────                                                         \n",
      "стране с согласия парламентского большинства было составлено \n",
      "правительство технократов, которому было поручено проводить \n",
      "непопулярную экономическую политику.\n",
      "Как сообщалось, 26 октября с.г. суд приговорил Берлускони к году \n",
      "                                               PER───────        \n",
      "тюрьмы с учетом закона об амнистии. Отмечается, что документ был \n",
      "принят в 2006 г., и в соответствии с ним срок тюремного заключения \n",
      "бывшего итальянского премьера уменьшен с четырех лет до одного года. \n",
      "Речь идет о скандальном деле Mediaset, в рамках которого Берлускони \n",
      "                             ORG─────                    PER─────── \n",
      "обвинялся в масштабных финансовых махинациях. Берлускони также \n",
      "                                              PER───────       \n",
      "отрицает обвинения в сексе с несовершеннолетней проституткой, \n",
      "известной под прозвищем \"Руби\".\n",
      "                         PER─  \n",
      "    Читайте также: Адвокаты Берлускони обжалуют приговор экс-премьеру\n",
      "                            PER───────                               \n",
      "Отметим также, действующий секретарь левоцентристской Демократической \n",
      "PER────                                               ORG─────────────\n",
      "партии Италии Пьер Луиджи Берсани станет кандидатом на пост премьер-\n",
      "────── LOC─── PER────────────────                                   \n",
      "министра страны. Именно его кандидатуру поддержало большинство \n",
      "сторонников партии на праймериз 2 декабря. На выборах Берсани обошел \n",
      "                                                      PER────        \n",
      "мэра Флоренции Маттео Ренци, считающегося одним из наиболее заметных \n",
      "     LOC────── PER─────────                                          \n",
      "политиков \"новой волны\" в Италии. Демократическая партия, созданная на\n",
      "                          LOC───  ORG───────────────────              \n",
      " основе коалиции \"Оливковое дерево\" бывшего премьер-министра страны \n",
      "Романо Проди и включающая в себя партии \"Левые демократы\" и \n",
      "PER─────────                             ORG────────────    \n",
      "\"Маргерита\", занимает 217 мест в 630-местном парламенте Италии и \n",
      " ORG──────                                              LOC───   \n",
      "является одной из главных оппозиционных сил страны.\n",
      "    По теме: В Италии тысячи людей выступили против мер бюджетной \n",
      "               LOC───                                             \n",
      "экономии правительства\n",
      "Итальянский политик, лидер партии \"Народ свободы\" и крупный бизнесмен,\n",
      "                                   ORG──────────                      \n",
      " чей холдинг Fininvest владеет разнородными активами - от медиа и \n",
      "             ORG──────                                            \n",
      "строительного бизнеса до футбольного клуба Milan (всего около 150 \n",
      "                                           ORG──                  \n",
      "компаний) трижды избирался на пост главы правительства (абсолютный \n",
      "рекорд для Италии): возглавлял правительство Италии в 1994 г., в \n",
      "           LOC───                            LOC───              \n",
      "2001-2006 гг. и в 2008-2011 г. В ноябре 2011 г., потеряв большинство в\n",
      " парламенте страны, добровольно ушел в отставку. По данным журнала \n",
      "Forbes, в марте 2011 г. состояние Берлускони оценивалось в 7,8 млрд \n",
      "ORG───                            PER───────                        \n",
      "долл.\n",
      "Скандально известная фигура в стране - Берлускони многократно \n",
      "                                       PER───────             \n",
      "обвинялся в финансовых аферах, коррупции, даче взяток госчиновникам, \n",
      "участии в сексуальных скандалах, привлекался к суду. Часть \n",
      "инициированных против него уголовных процессов закончились тюремными \n",
      "сроками, которые, впрочем, предприимчивый политик ни разу не отсидел. \n",
      "Каждый раз Верховный суд аннулировал приговоры судов низших инстанций.\n",
      "           ORG──────────                                              \n"
     ]
    }
   ],
   "source": [
    "doc.tag_ner(ner_tagger)\n",
    "doc.ner.print()"
   ]
  },
  {
   "cell_type": "markdown",
   "metadata": {},
   "source": [
    "#### NN"
   ]
  },
  {
   "cell_type": "code",
   "execution_count": 291,
   "metadata": {},
   "outputs": [],
   "source": [
    "#!pip install corus"
   ]
  },
  {
   "cell_type": "code",
   "execution_count": 347,
   "metadata": {},
   "outputs": [],
   "source": [
    "import corus\n",
    "from corus import load_ne5\n",
    "\n",
    "dir = 'ner_data/Collection3/'\n",
    "records = load_ne5(dir)"
   ]
  },
  {
   "cell_type": "code",
   "execution_count": 293,
   "metadata": {},
   "outputs": [],
   "source": [
    "from razdel import tokenize\n",
    "\n",
    "words_docs = []\n",
    "for ix, rec in enumerate(records):\n",
    "    words = []\n",
    "    for token in tokenize(rec.text):\n",
    "        type_ent = 'OUT'\n",
    "        for ent in rec.spans:\n",
    "            if (token.start >= ent.start) and (token.stop <= ent.stop):\n",
    "                type_ent = ent.type\n",
    "                break\n",
    "        words.append([token.text, type_ent])\n",
    "    words_docs.extend(words)"
   ]
  },
  {
   "cell_type": "code",
   "execution_count": 294,
   "metadata": {},
   "outputs": [
    {
     "data": {
      "text/html": [
       "<div>\n",
       "<style scoped>\n",
       "    .dataframe tbody tr th:only-of-type {\n",
       "        vertical-align: middle;\n",
       "    }\n",
       "\n",
       "    .dataframe tbody tr th {\n",
       "        vertical-align: top;\n",
       "    }\n",
       "\n",
       "    .dataframe thead th {\n",
       "        text-align: right;\n",
       "    }\n",
       "</style>\n",
       "<table border=\"1\" class=\"dataframe\">\n",
       "  <thead>\n",
       "    <tr style=\"text-align: right;\">\n",
       "      <th></th>\n",
       "      <th>word</th>\n",
       "      <th>tag</th>\n",
       "    </tr>\n",
       "  </thead>\n",
       "  <tbody>\n",
       "    <tr>\n",
       "      <th>0</th>\n",
       "      <td>Д</td>\n",
       "      <td>PER</td>\n",
       "    </tr>\n",
       "    <tr>\n",
       "      <th>1</th>\n",
       "      <td>.</td>\n",
       "      <td>PER</td>\n",
       "    </tr>\n",
       "    <tr>\n",
       "      <th>2</th>\n",
       "      <td>Медведев</td>\n",
       "      <td>PER</td>\n",
       "    </tr>\n",
       "    <tr>\n",
       "      <th>3</th>\n",
       "      <td>назначил</td>\n",
       "      <td>OUT</td>\n",
       "    </tr>\n",
       "    <tr>\n",
       "      <th>4</th>\n",
       "      <td>ряд</td>\n",
       "      <td>OUT</td>\n",
       "    </tr>\n",
       "  </tbody>\n",
       "</table>\n",
       "</div>"
      ],
      "text/plain": [
       "       word  tag\n",
       "0         Д  PER\n",
       "1         .  PER\n",
       "2  Медведев  PER\n",
       "3  назначил  OUT\n",
       "4       ряд  OUT"
      ]
     },
     "execution_count": 294,
     "metadata": {},
     "output_type": "execute_result"
    }
   ],
   "source": [
    "df_words = pd.DataFrame(words_docs, columns=['word', 'tag'])\n",
    "df_words.head()"
   ]
  },
  {
   "cell_type": "code",
   "execution_count": 295,
   "metadata": {},
   "outputs": [
    {
     "data": {
      "text/plain": [
       "OUT    219014\n",
       "PER     21178\n",
       "ORG     16122\n",
       "LOC      8913\n",
       "Name: tag, dtype: int64"
      ]
     },
     "execution_count": 295,
     "metadata": {},
     "output_type": "execute_result"
    }
   ],
   "source": [
    "df_words['tag'].value_counts()"
   ]
  },
  {
   "cell_type": "code",
   "execution_count": 296,
   "metadata": {},
   "outputs": [],
   "source": [
    "import tensorflow as tf\n",
    "\n",
    "from tensorflow.keras import Sequential\n",
    "from tensorflow.keras.layers import Dense, Embedding, GlobalAveragePooling1D, GlobalMaxPooling1D, Conv1D, GRU, LSTM, Dropout, Input\n",
    "from tensorflow.keras.layers.experimental.preprocessing import TextVectorization"
   ]
  },
  {
   "cell_type": "code",
   "execution_count": 297,
   "metadata": {},
   "outputs": [],
   "source": [
    "from sklearn import model_selection, preprocessing, linear_model\n",
    "\n",
    "train_x, valid_x, train_y, valid_y = model_selection.train_test_split(df_words['word'], df_words['tag'])\n",
    "\n",
    "# labelEncode целевую переменную\n",
    "encoder = preprocessing.LabelEncoder()\n",
    "train_y = encoder.fit_transform(train_y)\n",
    "valid_y = encoder.fit_transform(valid_y)"
   ]
  },
  {
   "cell_type": "code",
   "execution_count": 300,
   "metadata": {},
   "outputs": [
    {
     "data": {
      "text/plain": [
       "55"
      ]
     },
     "execution_count": 300,
     "metadata": {},
     "output_type": "execute_result"
    }
   ],
   "source": [
    "train_x.apply(len).max(axis=0)"
   ]
  },
  {
   "cell_type": "code",
   "execution_count": 301,
   "metadata": {},
   "outputs": [],
   "source": [
    "train_data = tf.data.Dataset.from_tensor_slices((train_x, train_y))\n",
    "valid_data = tf.data.Dataset.from_tensor_slices((valid_x, valid_y))\n",
    "\n",
    "train_data = train_data.batch(16)\n",
    "valid_data = valid_data.batch(16)"
   ]
  },
  {
   "cell_type": "code",
   "execution_count": 302,
   "metadata": {},
   "outputs": [],
   "source": [
    "AUTOTUNE = tf.data.AUTOTUNE\n",
    "\n",
    "train_data = train_data.cache().prefetch(buffer_size=AUTOTUNE)\n",
    "valid_data = valid_data.cache().prefetch(buffer_size=AUTOTUNE)"
   ]
  },
  {
   "cell_type": "code",
   "execution_count": 303,
   "metadata": {},
   "outputs": [],
   "source": [
    "def custom_standardization(input_data):\n",
    "    return input_data\n",
    "\n",
    "vocab_size = 30000\n",
    "seq_len = 10\n",
    "\n",
    "vectorize_layer = TextVectorization(\n",
    "    standardize=custom_standardization,\n",
    "    max_tokens=vocab_size,\n",
    "    output_mode='int',\n",
    "    #ngrams=(1, 3),\n",
    "    output_sequence_length=seq_len)\n",
    "\n",
    "# Make a text-only dataset (no labels) and call adapt to build the vocabulary.\n",
    "text_data = train_data.map(lambda x, y: x)\n",
    "vectorize_layer.adapt(text_data)"
   ]
  },
  {
   "cell_type": "code",
   "execution_count": 304,
   "metadata": {},
   "outputs": [],
   "source": [
    "embedding_dim = 64\n",
    "\n",
    "class modelNER(tf.keras.Model):\n",
    "    def __init__(self):\n",
    "        super(modelNER, self).__init__()\n",
    "        self.emb = Embedding(vocab_size, embedding_dim)\n",
    "        self.gPool = GlobalMaxPooling1D()\n",
    "        self.fc1 = Dense(300, activation='relu')\n",
    "        self.fc2 = Dense(50, activation='relu')\n",
    "        self.fc3 = Dense(6, activation='softmax')\n",
    "\n",
    "    def call(self, x):\n",
    "        x = vectorize_layer(x)\n",
    "        x = self.emb(x)\n",
    "        pool_x = self.gPool(x)\n",
    "        \n",
    "        fc_x = self.fc1(pool_x)\n",
    "        fc_x = self.fc2(fc_x)\n",
    "        \n",
    "        concat_x = tf.concat([pool_x, fc_x], axis=1)\n",
    "        prob = self.fc3(concat_x)\n",
    "        return prob"
   ]
  },
  {
   "cell_type": "code",
   "execution_count": 305,
   "metadata": {},
   "outputs": [
    {
     "name": "stdout",
     "output_type": "stream",
     "text": [
      "Epoch 1/3\n",
      "12433/12433 [==============================] - 140s 11ms/step - loss: 0.2728 - accuracy: 0.9167 - val_loss: 0.1935 - val_accuracy: 0.9394\n",
      "Epoch 2/3\n",
      "12433/12433 [==============================] - 132s 11ms/step - loss: 0.1151 - accuracy: 0.9645 - val_loss: 0.1942 - val_accuracy: 0.9419\n",
      "Epoch 3/3\n",
      "12433/12433 [==============================] - 131s 11ms/step - loss: 0.1017 - accuracy: 0.9669 - val_loss: 0.1921 - val_accuracy: 0.9416\n"
     ]
    },
    {
     "data": {
      "text/plain": [
       "<keras.callbacks.History at 0x7ff270949d30>"
      ]
     },
     "execution_count": 305,
     "metadata": {},
     "output_type": "execute_result"
    }
   ],
   "source": [
    "mmodel = modelNER()\n",
    "mmodel.compile(optimizer='adam',\n",
    "              loss=tf.keras.losses.SparseCategoricalCrossentropy(),\n",
    "              metrics=['accuracy'])\n",
    "mmodel.fit(train_data, validation_data=valid_data, epochs=3)"
   ]
  },
  {
   "cell_type": "code",
   "execution_count": 312,
   "metadata": {},
   "outputs": [],
   "source": [
    "preds = mmodel.predict(valid_x)\n",
    "labels_valid_y = encoder.inverse_transform(valid_y) # Обратная трансформация индексов в название"
   ]
  },
  {
   "cell_type": "code",
   "execution_count": 336,
   "metadata": {},
   "outputs": [],
   "source": [
    "preds_proba_max = [np.argmax(l) for l in preds] # Максимальная вероятность из списка вероятностей\n",
    "preds_proba = encoder.inverse_transform(preds_proba_max) # Обратная трансформация индексов в название"
   ]
  },
  {
   "cell_type": "code",
   "execution_count": 338,
   "metadata": {},
   "outputs": [
    {
     "name": "stdout",
     "output_type": "stream",
     "text": [
      "              precision    recall  f1-score   support\n",
      "\n",
      "         LOC       0.88      0.86      0.87      2115\n",
      "         ORG       0.92      0.58      0.71      4037\n",
      "         OUT       0.94      0.99      0.97     54851\n",
      "         PER       0.97      0.71      0.82      5304\n",
      "\n",
      "    accuracy                           0.94     66307\n",
      "   macro avg       0.93      0.79      0.84     66307\n",
      "weighted avg       0.94      0.94      0.94     66307\n",
      "\n"
     ]
    }
   ],
   "source": [
    "from sklearn.metrics import classification_report\n",
    "\n",
    "print(classification_report(labels_valid_y, preds_proba))"
   ]
  }
 ],
 "metadata": {
  "kernelspec": {
   "display_name": "Python 3",
   "language": "python",
   "name": "python3"
  },
  "language_info": {
   "codemirror_mode": {
    "name": "ipython",
    "version": 3
   },
   "file_extension": ".py",
   "mimetype": "text/x-python",
   "name": "python",
   "nbconvert_exporter": "python",
   "pygments_lexer": "ipython3",
   "version": "3.8.5"
  }
 },
 "nbformat": 4,
 "nbformat_minor": 4
}
