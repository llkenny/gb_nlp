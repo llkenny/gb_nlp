{
 "cells": [
  {
   "cell_type": "markdown",
   "metadata": {},
   "source": [
    "### 1. объединить в одну выборку (это только для твитов)"
   ]
  },
  {
   "cell_type": "code",
   "execution_count": 14,
   "metadata": {},
   "outputs": [
    {
     "name": "stderr",
     "output_type": "stream",
     "text": [
      "/Users/maximdoroshenko/opt/anaconda3/lib/python3.8/site-packages/ipykernel/ipkernel.py:287: DeprecationWarning: `should_run_async` will not call `transform_cell` automatically in the future. Please pass the result to `transformed_cell` argument and any exception that happen during thetransform in `preprocessing_exc_tuple` in IPython 7.17 and above.\n",
      "  and should_run_async(code)\n"
     ]
    }
   ],
   "source": [
    "import pandas as pd\n",
    "import numpy as np"
   ]
  },
  {
   "cell_type": "code",
   "execution_count": 15,
   "metadata": {},
   "outputs": [
    {
     "name": "stderr",
     "output_type": "stream",
     "text": [
      "/Users/maximdoroshenko/opt/anaconda3/lib/python3.8/site-packages/ipykernel/ipkernel.py:287: DeprecationWarning: `should_run_async` will not call `transform_cell` automatically in the future. Please pass the result to `transformed_cell` argument and any exception that happen during thetransform in `preprocessing_exc_tuple` in IPython 7.17 and above.\n",
      "  and should_run_async(code)\n"
     ]
    }
   ],
   "source": [
    "df = pd.read_pickle('tweets.pkl') # Предобработка из первого ДЗ"
   ]
  },
  {
   "cell_type": "code",
   "execution_count": 16,
   "metadata": {},
   "outputs": [
    {
     "name": "stderr",
     "output_type": "stream",
     "text": [
      "/Users/maximdoroshenko/opt/anaconda3/lib/python3.8/site-packages/ipykernel/ipkernel.py:287: DeprecationWarning: `should_run_async` will not call `transform_cell` automatically in the future. Please pass the result to `transformed_cell` argument and any exception that happen during thetransform in `preprocessing_exc_tuple` in IPython 7.17 and above.\n",
      "  and should_run_async(code)\n"
     ]
    },
    {
     "data": {
      "text/html": [
       "<div>\n",
       "<style scoped>\n",
       "    .dataframe tbody tr th:only-of-type {\n",
       "        vertical-align: middle;\n",
       "    }\n",
       "\n",
       "    .dataframe tbody tr th {\n",
       "        vertical-align: top;\n",
       "    }\n",
       "\n",
       "    .dataframe thead th {\n",
       "        text-align: right;\n",
       "    }\n",
       "</style>\n",
       "<table border=\"1\" class=\"dataframe\">\n",
       "  <thead>\n",
       "    <tr style=\"text-align: right;\">\n",
       "      <th></th>\n",
       "      <th>id</th>\n",
       "      <th>label</th>\n",
       "      <th>tweet</th>\n",
       "      <th>tweet_token</th>\n",
       "      <th>tweet_token_filtered</th>\n",
       "      <th>tweet_stemmed</th>\n",
       "      <th>tweet_lemmatized</th>\n",
       "    </tr>\n",
       "  </thead>\n",
       "  <tbody>\n",
       "    <tr>\n",
       "      <th>0</th>\n",
       "      <td>1</td>\n",
       "      <td>0.0</td>\n",
       "      <td>when father is dysfunctional and is so selfish...</td>\n",
       "      <td>[when, father, is, dysfunctional, and, is, so,...</td>\n",
       "      <td>[father, dysfunctional, selfish, drags, kids, ...</td>\n",
       "      <td>father dysfunctional selfish drags kids dysfun...</td>\n",
       "      <td>father dysfunctional selfish drags kids dysfun...</td>\n",
       "    </tr>\n",
       "    <tr>\n",
       "      <th>1</th>\n",
       "      <td>2</td>\n",
       "      <td>0.0</td>\n",
       "      <td>thanks for lyft credit cannot use cause they d...</td>\n",
       "      <td>[thanks, for, lyft, credit, can, not, use, cau...</td>\n",
       "      <td>[thanks, lyft, credit, use, cause, offer, whee...</td>\n",
       "      <td>thanks lyft credit use cause offer wheelchair ...</td>\n",
       "      <td>thanks lyft credit use cause offer wheelchair ...</td>\n",
       "    </tr>\n",
       "    <tr>\n",
       "      <th>2</th>\n",
       "      <td>3</td>\n",
       "      <td>0.0</td>\n",
       "      <td>bihday your majesty</td>\n",
       "      <td>[bihday, your, majesty]</td>\n",
       "      <td>[bihday, majesty]</td>\n",
       "      <td>bihday majesti</td>\n",
       "      <td>bihday majesty</td>\n",
       "    </tr>\n",
       "    <tr>\n",
       "      <th>3</th>\n",
       "      <td>4</td>\n",
       "      <td>0.0</td>\n",
       "      <td>model love yoyou take with yoyou all the time ...</td>\n",
       "      <td>[model, love, yoyou, take, with, yoyou, all, t...</td>\n",
       "      <td>[model, love, yoyou, take, yoyou, time, yoyour]</td>\n",
       "      <td>model love yoyou take yoyou time yoyour</td>\n",
       "      <td>model love yoyou take yoyou time yoyour</td>\n",
       "    </tr>\n",
       "    <tr>\n",
       "      <th>4</th>\n",
       "      <td>5</td>\n",
       "      <td>0.0</td>\n",
       "      <td>factsguide society now motivation</td>\n",
       "      <td>[factsguide, society, now, motivation]</td>\n",
       "      <td>[factsguide, society, motivation]</td>\n",
       "      <td>factsguide society motiv</td>\n",
       "      <td>factsguide society motivation</td>\n",
       "    </tr>\n",
       "  </tbody>\n",
       "</table>\n",
       "</div>"
      ],
      "text/plain": [
       "   id  label                                              tweet  \\\n",
       "0   1    0.0  when father is dysfunctional and is so selfish...   \n",
       "1   2    0.0  thanks for lyft credit cannot use cause they d...   \n",
       "2   3    0.0                                bihday your majesty   \n",
       "3   4    0.0  model love yoyou take with yoyou all the time ...   \n",
       "4   5    0.0                  factsguide society now motivation   \n",
       "\n",
       "                                         tweet_token  \\\n",
       "0  [when, father, is, dysfunctional, and, is, so,...   \n",
       "1  [thanks, for, lyft, credit, can, not, use, cau...   \n",
       "2                            [bihday, your, majesty]   \n",
       "3  [model, love, yoyou, take, with, yoyou, all, t...   \n",
       "4             [factsguide, society, now, motivation]   \n",
       "\n",
       "                                tweet_token_filtered  \\\n",
       "0  [father, dysfunctional, selfish, drags, kids, ...   \n",
       "1  [thanks, lyft, credit, use, cause, offer, whee...   \n",
       "2                                  [bihday, majesty]   \n",
       "3    [model, love, yoyou, take, yoyou, time, yoyour]   \n",
       "4                  [factsguide, society, motivation]   \n",
       "\n",
       "                                       tweet_stemmed  \\\n",
       "0  father dysfunctional selfish drags kids dysfun...   \n",
       "1  thanks lyft credit use cause offer wheelchair ...   \n",
       "2                                     bihday majesti   \n",
       "3            model love yoyou take yoyou time yoyour   \n",
       "4                           factsguide society motiv   \n",
       "\n",
       "                                    tweet_lemmatized  \n",
       "0  father dysfunctional selfish drags kids dysfun...  \n",
       "1  thanks lyft credit use cause offer wheelchair ...  \n",
       "2                                     bihday majesty  \n",
       "3            model love yoyou take yoyou time yoyour  \n",
       "4                      factsguide society motivation  "
      ]
     },
     "execution_count": 16,
     "metadata": {},
     "output_type": "execute_result"
    }
   ],
   "source": [
    "df.head()"
   ]
  },
  {
   "cell_type": "markdown",
   "metadata": {},
   "source": [
    "###  2. провести исследование и выявить тематики о которых говорят в твитах (для твитов)"
   ]
  },
  {
   "cell_type": "code",
   "execution_count": 17,
   "metadata": {},
   "outputs": [
    {
     "name": "stderr",
     "output_type": "stream",
     "text": [
      "/Users/maximdoroshenko/opt/anaconda3/lib/python3.8/site-packages/ipykernel/ipkernel.py:287: DeprecationWarning: `should_run_async` will not call `transform_cell` automatically in the future. Please pass the result to `transformed_cell` argument and any exception that happen during thetransform in `preprocessing_exc_tuple` in IPython 7.17 and above.\n",
      "  and should_run_async(code)\n",
      "/Users/maximdoroshenko/opt/anaconda3/lib/python3.8/site-packages/scipy/sparse/sparsetools.py:21: DeprecationWarning: `scipy.sparse.sparsetools` is deprecated!\n",
      "scipy.sparse.sparsetools is a private module for scipy.sparse, and should not be used.\n",
      "  _deprecated()\n"
     ]
    }
   ],
   "source": [
    "from gensim.models import *\n",
    "from gensim import corpora"
   ]
  },
  {
   "cell_type": "code",
   "execution_count": 18,
   "metadata": {},
   "outputs": [
    {
     "name": "stderr",
     "output_type": "stream",
     "text": [
      "/Users/maximdoroshenko/opt/anaconda3/lib/python3.8/site-packages/ipykernel/ipkernel.py:287: DeprecationWarning: `should_run_async` will not call `transform_cell` automatically in the future. Please pass the result to `transformed_cell` argument and any exception that happen during thetransform in `preprocessing_exc_tuple` in IPython 7.17 and above.\n",
      "  and should_run_async(code)\n"
     ]
    }
   ],
   "source": [
    "dictionary = corpora.Dictionary(df['tweet_token'])\n",
    "\n",
    "dictionary.filter_extremes(no_below = 10, no_above = 0.9, keep_n=None) # игнорируем слова, которые встречаются реже 10 раз или составляют более 0.9 словаря \n",
    "dictionary.save('tweets.dict')"
   ]
  },
  {
   "cell_type": "code",
   "execution_count": 19,
   "metadata": {},
   "outputs": [
    {
     "name": "stderr",
     "output_type": "stream",
     "text": [
      "/Users/maximdoroshenko/opt/anaconda3/lib/python3.8/site-packages/ipykernel/ipkernel.py:287: DeprecationWarning: `should_run_async` will not call `transform_cell` automatically in the future. Please pass the result to `transformed_cell` argument and any exception that happen during thetransform in `preprocessing_exc_tuple` in IPython 7.17 and above.\n",
      "  and should_run_async(code)\n"
     ]
    }
   ],
   "source": [
    "corpus = [dictionary.doc2bow(text) for text in df['tweet_token']]\n",
    "corpora.MmCorpus.serialize('tweets.model', corpus) "
   ]
  },
  {
   "cell_type": "code",
   "execution_count": 20,
   "metadata": {},
   "outputs": [
    {
     "name": "stderr",
     "output_type": "stream",
     "text": [
      "/Users/maximdoroshenko/opt/anaconda3/lib/python3.8/site-packages/ipykernel/ipkernel.py:287: DeprecationWarning: `should_run_async` will not call `transform_cell` automatically in the future. Please pass the result to `transformed_cell` argument and any exception that happen during thetransform in `preprocessing_exc_tuple` in IPython 7.17 and above.\n",
      "  and should_run_async(code)\n"
     ]
    },
    {
     "name": "stdout",
     "output_type": "stream",
     "text": [
      "CPU times: user 25.6 s, sys: 168 ms, total: 25.8 s\n",
      "Wall time: 26 s\n"
     ]
    }
   ],
   "source": [
    "%time lda = ldamodel.LdaModel(corpus, id2word=dictionary, num_topics=20, chunksize=50, update_every=1, passes=2)"
   ]
  },
  {
   "cell_type": "code",
   "execution_count": 21,
   "metadata": {},
   "outputs": [
    {
     "name": "stderr",
     "output_type": "stream",
     "text": [
      "/Users/maximdoroshenko/opt/anaconda3/lib/python3.8/site-packages/ipykernel/ipkernel.py:287: DeprecationWarning: `should_run_async` will not call `transform_cell` automatically in the future. Please pass the result to `transformed_cell` argument and any exception that happen during thetransform in `preprocessing_exc_tuple` in IPython 7.17 and above.\n",
      "  and should_run_async(code)\n"
     ]
    },
    {
     "data": {
      "text/plain": [
       "[(5,\n",
       "  '0.496*\"the\" + 0.270*\"of\" + 0.062*\"on\" + 0.044*\"one\" + 0.041*\"more\" + 0.029*\"great\" + 0.026*\"only\" + 0.012*\"once\" + 0.009*\"word\" + 0.002*\"service\"'),\n",
       " (1,\n",
       "  '0.580*\"for\" + 0.330*\"am\" + 0.058*\"positive\" + 0.012*\"sunshine\" + 0.000*\"at\" + 0.000*\"me\" + 0.000*\"ready\" + 0.000*\"healthy\" + 0.000*\"new\" + 0.000*\"what\"'),\n",
       " (18,\n",
       "  '0.274*\"not\" + 0.209*\"that\" + 0.138*\"can\" + 0.084*\"you\" + 0.067*\"if\" + 0.045*\"think\" + 0.039*\"year\" + 0.032*\"hate\" + 0.032*\"girl\" + 0.029*\"next\"'),\n",
       " (10,\n",
       "  '0.391*\"thankful\" + 0.299*\"positive\" + 0.168*\"tomorrow\" + 0.077*\"having\" + 0.000*\"learn\" + 0.000*\"instagood\" + 0.000*\"how\" + 0.000*\"instagram\" + 0.000*\"freedom\" + 0.000*\"new\"'),\n",
       " (12,\n",
       "  '0.308*\"from\" + 0.245*\"no\" + 0.117*\"blog\" + 0.085*\"silver\" + 0.077*\"gold\" + 0.067*\"forex\" + 0.044*\"may\" + 0.012*\"australia\" + 0.002*\"price\" + 0.000*\"eur\"'),\n",
       " (6,\n",
       "  '0.145*\"with\" + 0.115*\"the\" + 0.081*\"in\" + 0.072*\"just\" + 0.069*\"time\" + 0.057*\"as\" + 0.053*\"yoyou\" + 0.050*\"bihday\" + 0.046*\"got\" + 0.046*\"an\"'),\n",
       " (2,\n",
       "  '0.338*\"in\" + 0.204*\"so\" + 0.181*\"on\" + 0.046*\"finally\" + 0.041*\"been\" + 0.041*\"amazing\" + 0.040*\"affirmation\" + 0.023*\"were\" + 0.020*\"oh\" + 0.014*\"book\"'),\n",
       " (13,\n",
       "  '0.000*\"roof\" + 0.000*\"hole\" + 0.000*\"area\" + 0.000*\"impact\" + 0.000*\"showcase\" + 0.000*\"spain\" + 0.000*\"circle\" + 0.000*\"laughing\" + 0.000*\"parliament\" + 0.000*\"determined\"'),\n",
       " (17,\n",
       "  '0.308*\"sad\" + 0.221*\"feeling\" + 0.166*\"little\" + 0.101*\"funny\" + 0.081*\"blue\" + 0.028*\"cats\" + 0.000*\"wedding\" + 0.000*\"me\" + 0.000*\"at\" + 0.000*\"new\"'),\n",
       " (14,\n",
       "  '0.288*\"happy\" + 0.124*\"to\" + 0.092*\"father\" + 0.088*\"he\" + 0.072*\"who\" + 0.072*\"about\" + 0.058*\"best\" + 0.040*\"his\" + 0.032*\"tonight\" + 0.027*\"kids\"')]"
      ]
     },
     "execution_count": 21,
     "metadata": {},
     "output_type": "execute_result"
    }
   ],
   "source": [
    "lda.show_topics(num_topics=10, num_words=10, formatted=True)"
   ]
  },
  {
   "cell_type": "markdown",
   "metadata": {},
   "source": [
    "### 3. сделать визуализацию кластеров тематик"
   ]
  },
  {
   "cell_type": "code",
   "execution_count": 22,
   "metadata": {},
   "outputs": [
    {
     "name": "stderr",
     "output_type": "stream",
     "text": [
      "/Users/maximdoroshenko/opt/anaconda3/lib/python3.8/site-packages/ipykernel/ipkernel.py:287: DeprecationWarning: `should_run_async` will not call `transform_cell` automatically in the future. Please pass the result to `transformed_cell` argument and any exception that happen during thetransform in `preprocessing_exc_tuple` in IPython 7.17 and above.\n",
      "  and should_run_async(code)\n"
     ]
    }
   ],
   "source": [
    "#!pip install pyLDAvis --upgrade"
   ]
  },
  {
   "cell_type": "code",
   "execution_count": 32,
   "metadata": {},
   "outputs": [
    {
     "name": "stderr",
     "output_type": "stream",
     "text": [
      "/Users/maximdoroshenko/opt/anaconda3/lib/python3.8/site-packages/ipykernel/ipkernel.py:287: DeprecationWarning: `should_run_async` will not call `transform_cell` automatically in the future. Please pass the result to `transformed_cell` argument and any exception that happen during thetransform in `preprocessing_exc_tuple` in IPython 7.17 and above.\n",
      "  and should_run_async(code)\n"
     ]
    }
   ],
   "source": [
    "#!pip install --upgrade pandas==1.2.3"
   ]
  },
  {
   "cell_type": "code",
   "execution_count": 33,
   "metadata": {},
   "outputs": [
    {
     "name": "stderr",
     "output_type": "stream",
     "text": [
      "/Users/maximdoroshenko/opt/anaconda3/lib/python3.8/site-packages/ipykernel/ipkernel.py:287: DeprecationWarning: `should_run_async` will not call `transform_cell` automatically in the future. Please pass the result to `transformed_cell` argument and any exception that happen during thetransform in `preprocessing_exc_tuple` in IPython 7.17 and above.\n",
      "  and should_run_async(code)\n"
     ]
    },
    {
     "ename": "BrokenProcessPool",
     "evalue": "A task has failed to un-serialize. Please ensure that the arguments of the function are all picklable.",
     "output_type": "error",
     "traceback": [
      "\u001b[0;31m---------------------------------------------------------------------------\u001b[0m",
      "\u001b[0;31m_RemoteTraceback\u001b[0m                          Traceback (most recent call last)",
      "\u001b[0;31m_RemoteTraceback\u001b[0m: \n\"\"\"\nTraceback (most recent call last):\n  File \"/Users/maximdoroshenko/opt/anaconda3/lib/python3.8/site-packages/joblib/externals/loky/process_executor.py\", line 404, in _process_worker\n    call_item = call_queue.get(block=True, timeout=timeout)\n  File \"/Users/maximdoroshenko/opt/anaconda3/lib/python3.8/multiprocessing/queues.py\", line 116, in get\n    return _ForkingPickler.loads(res)\nAttributeError: Can't get attribute 'new_block' on <module 'pandas.core.internals.blocks' from '/Users/maximdoroshenko/opt/anaconda3/lib/python3.8/site-packages/pandas/core/internals/blocks.py'>\n\"\"\"",
      "\nThe above exception was the direct cause of the following exception:\n",
      "\u001b[0;31mBrokenProcessPool\u001b[0m                         Traceback (most recent call last)",
      "\u001b[0;32m<ipython-input-33-ec34e6e07cdb>\u001b[0m in \u001b[0;36m<module>\u001b[0;34m\u001b[0m\n\u001b[1;32m      4\u001b[0m \u001b[0mpyLDAvis\u001b[0m\u001b[0;34m.\u001b[0m\u001b[0menable_notebook\u001b[0m\u001b[0;34m(\u001b[0m\u001b[0;34m)\u001b[0m\u001b[0;34m\u001b[0m\u001b[0;34m\u001b[0m\u001b[0m\n\u001b[1;32m      5\u001b[0m \u001b[0;34m\u001b[0m\u001b[0m\n\u001b[0;32m----> 6\u001b[0;31m \u001b[0mvis\u001b[0m \u001b[0;34m=\u001b[0m \u001b[0mgensimvis\u001b[0m\u001b[0;34m.\u001b[0m\u001b[0mprepare\u001b[0m\u001b[0;34m(\u001b[0m\u001b[0mlda\u001b[0m\u001b[0;34m,\u001b[0m \u001b[0mcorpus\u001b[0m\u001b[0;34m,\u001b[0m \u001b[0mdictionary\u001b[0m\u001b[0;34m)\u001b[0m\u001b[0;34m\u001b[0m\u001b[0;34m\u001b[0m\u001b[0m\n\u001b[0m\u001b[1;32m      7\u001b[0m \u001b[0mvis\u001b[0m\u001b[0;34m\u001b[0m\u001b[0;34m\u001b[0m\u001b[0m\n",
      "\u001b[0;32m~/opt/anaconda3/lib/python3.8/site-packages/pyLDAvis/gensim_models.py\u001b[0m in \u001b[0;36mprepare\u001b[0;34m(topic_model, corpus, dictionary, doc_topic_dist, **kwargs)\u001b[0m\n\u001b[1;32m    121\u001b[0m     \"\"\"\n\u001b[1;32m    122\u001b[0m     \u001b[0mopts\u001b[0m \u001b[0;34m=\u001b[0m \u001b[0mfp\u001b[0m\u001b[0;34m.\u001b[0m\u001b[0mmerge\u001b[0m\u001b[0;34m(\u001b[0m\u001b[0m_extract_data\u001b[0m\u001b[0;34m(\u001b[0m\u001b[0mtopic_model\u001b[0m\u001b[0;34m,\u001b[0m \u001b[0mcorpus\u001b[0m\u001b[0;34m,\u001b[0m \u001b[0mdictionary\u001b[0m\u001b[0;34m,\u001b[0m \u001b[0mdoc_topic_dist\u001b[0m\u001b[0;34m)\u001b[0m\u001b[0;34m,\u001b[0m \u001b[0mkwargs\u001b[0m\u001b[0;34m)\u001b[0m\u001b[0;34m\u001b[0m\u001b[0;34m\u001b[0m\u001b[0m\n\u001b[0;32m--> 123\u001b[0;31m     \u001b[0;32mreturn\u001b[0m \u001b[0mpyLDAvis\u001b[0m\u001b[0;34m.\u001b[0m\u001b[0mprepare\u001b[0m\u001b[0;34m(\u001b[0m\u001b[0;34m**\u001b[0m\u001b[0mopts\u001b[0m\u001b[0;34m)\u001b[0m\u001b[0;34m\u001b[0m\u001b[0;34m\u001b[0m\u001b[0m\n\u001b[0m",
      "\u001b[0;32m~/opt/anaconda3/lib/python3.8/site-packages/pyLDAvis/_prepare.py\u001b[0m in \u001b[0;36mprepare\u001b[0;34m(topic_term_dists, doc_topic_dists, doc_lengths, vocab, term_frequency, R, lambda_step, mds, n_jobs, plot_opts, sort_topics)\u001b[0m\n\u001b[1;32m    396\u001b[0m         \u001b[0;32melse\u001b[0m\u001b[0;34m:\u001b[0m\u001b[0;34m\u001b[0m\u001b[0;34m\u001b[0m\u001b[0m\n\u001b[1;32m    397\u001b[0m             \u001b[0mlogging\u001b[0m\u001b[0;34m.\u001b[0m\u001b[0mwarning\u001b[0m\u001b[0;34m(\u001b[0m\u001b[0;34m'Unknown mds `%s`, switch to PCoA'\u001b[0m \u001b[0;34m%\u001b[0m \u001b[0mmds\u001b[0m\u001b[0;34m)\u001b[0m\u001b[0;34m\u001b[0m\u001b[0;34m\u001b[0m\u001b[0m\n\u001b[0;32m--> 398\u001b[0;31m             \u001b[0mmds\u001b[0m \u001b[0;34m=\u001b[0m \u001b[0mjs_PCoA\u001b[0m\u001b[0;34m\u001b[0m\u001b[0;34m\u001b[0m\u001b[0m\n\u001b[0m\u001b[1;32m    399\u001b[0m \u001b[0;34m\u001b[0m\u001b[0m\n\u001b[1;32m    400\u001b[0m     \u001b[0;31m# Conceptually, the items in `topic_term_dists` end up as individual rows in the\u001b[0m\u001b[0;34m\u001b[0m\u001b[0;34m\u001b[0m\u001b[0;34m\u001b[0m\u001b[0m\n",
      "\u001b[0;32m~/opt/anaconda3/lib/python3.8/site-packages/pyLDAvis/_prepare.py\u001b[0m in \u001b[0;36m_topic_info\u001b[0;34m(topic_term_dists, topic_proportion, term_frequency, term_topic_freq, vocab, lambda_step, R, n_jobs)\u001b[0m\n\u001b[1;32m    252\u001b[0m     \u001b[0mdefault_term_info\u001b[0m\u001b[0;34m[\u001b[0m\u001b[0;34m'logprob'\u001b[0m\u001b[0;34m]\u001b[0m \u001b[0;34m=\u001b[0m \u001b[0mdefault_term_info\u001b[0m\u001b[0;34m[\u001b[0m\u001b[0;34m'loglift'\u001b[0m\u001b[0;34m]\u001b[0m \u001b[0;34m=\u001b[0m \u001b[0mranks\u001b[0m\u001b[0;34m\u001b[0m\u001b[0;34m\u001b[0m\u001b[0m\n\u001b[1;32m    253\u001b[0m     default_term_info = default_term_info.reindex(columns=[\n\u001b[0;32m--> 254\u001b[0;31m         \u001b[0;34m\"Term\"\u001b[0m\u001b[0;34m,\u001b[0m \u001b[0;34m\"Freq\"\u001b[0m\u001b[0;34m,\u001b[0m \u001b[0;34m\"Total\"\u001b[0m\u001b[0;34m,\u001b[0m \u001b[0;34m\"Category\"\u001b[0m\u001b[0;34m,\u001b[0m \u001b[0;34m\"logprob\"\u001b[0m\u001b[0;34m,\u001b[0m \u001b[0;34m\"loglift\"\u001b[0m\u001b[0;34m\u001b[0m\u001b[0;34m\u001b[0m\u001b[0m\n\u001b[0m\u001b[1;32m    255\u001b[0m     ])\n\u001b[1;32m    256\u001b[0m \u001b[0;34m\u001b[0m\u001b[0m\n",
      "\u001b[0;32m~/opt/anaconda3/lib/python3.8/site-packages/joblib/parallel.py\u001b[0m in \u001b[0;36m__call__\u001b[0;34m(self, iterable)\u001b[0m\n\u001b[1;32m   1059\u001b[0m \u001b[0;34m\u001b[0m\u001b[0m\n\u001b[1;32m   1060\u001b[0m             \u001b[0;32mwith\u001b[0m \u001b[0mself\u001b[0m\u001b[0;34m.\u001b[0m\u001b[0m_backend\u001b[0m\u001b[0;34m.\u001b[0m\u001b[0mretrieval_context\u001b[0m\u001b[0;34m(\u001b[0m\u001b[0;34m)\u001b[0m\u001b[0;34m:\u001b[0m\u001b[0;34m\u001b[0m\u001b[0;34m\u001b[0m\u001b[0m\n\u001b[0;32m-> 1061\u001b[0;31m                 \u001b[0mself\u001b[0m\u001b[0;34m.\u001b[0m\u001b[0mretrieve\u001b[0m\u001b[0;34m(\u001b[0m\u001b[0;34m)\u001b[0m\u001b[0;34m\u001b[0m\u001b[0;34m\u001b[0m\u001b[0m\n\u001b[0m\u001b[1;32m   1062\u001b[0m             \u001b[0;31m# Make sure that we get a last message telling us we are done\u001b[0m\u001b[0;34m\u001b[0m\u001b[0;34m\u001b[0m\u001b[0;34m\u001b[0m\u001b[0m\n\u001b[1;32m   1063\u001b[0m             \u001b[0melapsed_time\u001b[0m \u001b[0;34m=\u001b[0m \u001b[0mtime\u001b[0m\u001b[0;34m.\u001b[0m\u001b[0mtime\u001b[0m\u001b[0;34m(\u001b[0m\u001b[0;34m)\u001b[0m \u001b[0;34m-\u001b[0m \u001b[0mself\u001b[0m\u001b[0;34m.\u001b[0m\u001b[0m_start_time\u001b[0m\u001b[0;34m\u001b[0m\u001b[0;34m\u001b[0m\u001b[0m\n",
      "\u001b[0;32m~/opt/anaconda3/lib/python3.8/site-packages/joblib/parallel.py\u001b[0m in \u001b[0;36mretrieve\u001b[0;34m(self)\u001b[0m\n\u001b[1;32m    938\u001b[0m             \u001b[0;32mtry\u001b[0m\u001b[0;34m:\u001b[0m\u001b[0;34m\u001b[0m\u001b[0;34m\u001b[0m\u001b[0m\n\u001b[1;32m    939\u001b[0m                 \u001b[0;32mif\u001b[0m \u001b[0mgetattr\u001b[0m\u001b[0;34m(\u001b[0m\u001b[0mself\u001b[0m\u001b[0;34m.\u001b[0m\u001b[0m_backend\u001b[0m\u001b[0;34m,\u001b[0m \u001b[0;34m'supports_timeout'\u001b[0m\u001b[0;34m,\u001b[0m \u001b[0;32mFalse\u001b[0m\u001b[0;34m)\u001b[0m\u001b[0;34m:\u001b[0m\u001b[0;34m\u001b[0m\u001b[0;34m\u001b[0m\u001b[0m\n\u001b[0;32m--> 940\u001b[0;31m                     \u001b[0mself\u001b[0m\u001b[0;34m.\u001b[0m\u001b[0m_output\u001b[0m\u001b[0;34m.\u001b[0m\u001b[0mextend\u001b[0m\u001b[0;34m(\u001b[0m\u001b[0mjob\u001b[0m\u001b[0;34m.\u001b[0m\u001b[0mget\u001b[0m\u001b[0;34m(\u001b[0m\u001b[0mtimeout\u001b[0m\u001b[0;34m=\u001b[0m\u001b[0mself\u001b[0m\u001b[0;34m.\u001b[0m\u001b[0mtimeout\u001b[0m\u001b[0;34m)\u001b[0m\u001b[0;34m)\u001b[0m\u001b[0;34m\u001b[0m\u001b[0;34m\u001b[0m\u001b[0m\n\u001b[0m\u001b[1;32m    941\u001b[0m                 \u001b[0;32melse\u001b[0m\u001b[0;34m:\u001b[0m\u001b[0;34m\u001b[0m\u001b[0;34m\u001b[0m\u001b[0m\n\u001b[1;32m    942\u001b[0m                     \u001b[0mself\u001b[0m\u001b[0;34m.\u001b[0m\u001b[0m_output\u001b[0m\u001b[0;34m.\u001b[0m\u001b[0mextend\u001b[0m\u001b[0;34m(\u001b[0m\u001b[0mjob\u001b[0m\u001b[0;34m.\u001b[0m\u001b[0mget\u001b[0m\u001b[0;34m(\u001b[0m\u001b[0;34m)\u001b[0m\u001b[0;34m)\u001b[0m\u001b[0;34m\u001b[0m\u001b[0;34m\u001b[0m\u001b[0m\n",
      "\u001b[0;32m~/opt/anaconda3/lib/python3.8/site-packages/joblib/_parallel_backends.py\u001b[0m in \u001b[0;36mwrap_future_result\u001b[0;34m(future, timeout)\u001b[0m\n\u001b[1;32m    540\u001b[0m         AsyncResults.get from multiprocessing.\"\"\"\n\u001b[1;32m    541\u001b[0m         \u001b[0;32mtry\u001b[0m\u001b[0;34m:\u001b[0m\u001b[0;34m\u001b[0m\u001b[0;34m\u001b[0m\u001b[0m\n\u001b[0;32m--> 542\u001b[0;31m             \u001b[0;32mreturn\u001b[0m \u001b[0mfuture\u001b[0m\u001b[0;34m.\u001b[0m\u001b[0mresult\u001b[0m\u001b[0;34m(\u001b[0m\u001b[0mtimeout\u001b[0m\u001b[0;34m=\u001b[0m\u001b[0mtimeout\u001b[0m\u001b[0;34m)\u001b[0m\u001b[0;34m\u001b[0m\u001b[0;34m\u001b[0m\u001b[0m\n\u001b[0m\u001b[1;32m    543\u001b[0m         \u001b[0;32mexcept\u001b[0m \u001b[0mCfTimeoutError\u001b[0m \u001b[0;32mas\u001b[0m \u001b[0me\u001b[0m\u001b[0;34m:\u001b[0m\u001b[0;34m\u001b[0m\u001b[0;34m\u001b[0m\u001b[0m\n\u001b[1;32m    544\u001b[0m             \u001b[0;32mraise\u001b[0m \u001b[0mTimeoutError\u001b[0m \u001b[0;32mfrom\u001b[0m \u001b[0me\u001b[0m\u001b[0;34m\u001b[0m\u001b[0;34m\u001b[0m\u001b[0m\n",
      "\u001b[0;32m~/opt/anaconda3/lib/python3.8/concurrent/futures/_base.py\u001b[0m in \u001b[0;36mresult\u001b[0;34m(self, timeout)\u001b[0m\n\u001b[1;32m    437\u001b[0m                 \u001b[0;32mraise\u001b[0m \u001b[0mCancelledError\u001b[0m\u001b[0;34m(\u001b[0m\u001b[0;34m)\u001b[0m\u001b[0;34m\u001b[0m\u001b[0;34m\u001b[0m\u001b[0m\n\u001b[1;32m    438\u001b[0m             \u001b[0;32melif\u001b[0m \u001b[0mself\u001b[0m\u001b[0;34m.\u001b[0m\u001b[0m_state\u001b[0m \u001b[0;34m==\u001b[0m \u001b[0mFINISHED\u001b[0m\u001b[0;34m:\u001b[0m\u001b[0;34m\u001b[0m\u001b[0;34m\u001b[0m\u001b[0m\n\u001b[0;32m--> 439\u001b[0;31m                 \u001b[0;32mreturn\u001b[0m \u001b[0mself\u001b[0m\u001b[0;34m.\u001b[0m\u001b[0m__get_result\u001b[0m\u001b[0;34m(\u001b[0m\u001b[0;34m)\u001b[0m\u001b[0;34m\u001b[0m\u001b[0;34m\u001b[0m\u001b[0m\n\u001b[0m\u001b[1;32m    440\u001b[0m             \u001b[0;32melse\u001b[0m\u001b[0;34m:\u001b[0m\u001b[0;34m\u001b[0m\u001b[0;34m\u001b[0m\u001b[0m\n\u001b[1;32m    441\u001b[0m                 \u001b[0;32mraise\u001b[0m \u001b[0mTimeoutError\u001b[0m\u001b[0;34m(\u001b[0m\u001b[0;34m)\u001b[0m\u001b[0;34m\u001b[0m\u001b[0;34m\u001b[0m\u001b[0m\n",
      "\u001b[0;32m~/opt/anaconda3/lib/python3.8/concurrent/futures/_base.py\u001b[0m in \u001b[0;36m__get_result\u001b[0;34m(self)\u001b[0m\n\u001b[1;32m    386\u001b[0m     \u001b[0;32mdef\u001b[0m \u001b[0m__get_result\u001b[0m\u001b[0;34m(\u001b[0m\u001b[0mself\u001b[0m\u001b[0;34m)\u001b[0m\u001b[0;34m:\u001b[0m\u001b[0;34m\u001b[0m\u001b[0;34m\u001b[0m\u001b[0m\n\u001b[1;32m    387\u001b[0m         \u001b[0;32mif\u001b[0m \u001b[0mself\u001b[0m\u001b[0;34m.\u001b[0m\u001b[0m_exception\u001b[0m\u001b[0;34m:\u001b[0m\u001b[0;34m\u001b[0m\u001b[0;34m\u001b[0m\u001b[0m\n\u001b[0;32m--> 388\u001b[0;31m             \u001b[0;32mraise\u001b[0m \u001b[0mself\u001b[0m\u001b[0;34m.\u001b[0m\u001b[0m_exception\u001b[0m\u001b[0;34m\u001b[0m\u001b[0;34m\u001b[0m\u001b[0m\n\u001b[0m\u001b[1;32m    389\u001b[0m         \u001b[0;32melse\u001b[0m\u001b[0;34m:\u001b[0m\u001b[0;34m\u001b[0m\u001b[0;34m\u001b[0m\u001b[0m\n\u001b[1;32m    390\u001b[0m             \u001b[0;32mreturn\u001b[0m \u001b[0mself\u001b[0m\u001b[0;34m.\u001b[0m\u001b[0m_result\u001b[0m\u001b[0;34m\u001b[0m\u001b[0;34m\u001b[0m\u001b[0m\n",
      "\u001b[0;31mBrokenProcessPool\u001b[0m: A task has failed to un-serialize. Please ensure that the arguments of the function are all picklable."
     ]
    }
   ],
   "source": [
    "# import pyLDAvis\n",
    "# import pyLDAvis.gensim_models as gensimvis\n",
    "\n",
    "# pyLDAvis.enable_notebook()\n",
    "\n",
    "# vis = gensimvis.prepare(lda, corpus, dictionary)\n",
    "# vis"
   ]
  },
  {
   "cell_type": "code",
   "execution_count": 42,
   "metadata": {},
   "outputs": [
    {
     "name": "stderr",
     "output_type": "stream",
     "text": [
      "/Users/maximdoroshenko/opt/anaconda3/lib/python3.8/site-packages/ipykernel/ipkernel.py:287: DeprecationWarning: `should_run_async` will not call `transform_cell` automatically in the future. Please pass the result to `transformed_cell` argument and any exception that happen during thetransform in `preprocessing_exc_tuple` in IPython 7.17 and above.\n",
      "  and should_run_async(code)\n"
     ]
    },
    {
     "name": "stdout",
     "output_type": "stream",
     "text": [
      "Перплексия:  1.646719669117689e-08\n",
      "Средняя когерентность:  0.34488988128056014\n"
     ]
    }
   ],
   "source": [
    "print('Перплексия: ', np.exp(lda.log_perplexity(corpus)))\n",
    "coherence_model_lda = CoherenceModel(model=lda, texts=df['tweet_token'], dictionary=dictionary, coherence='c_v')\n",
    "coherence_lda = coherence_model_lda.get_coherence()\n",
    "print('Средняя когерентность: ', coherence_lda)"
   ]
  },
  {
   "cell_type": "code",
   "execution_count": 45,
   "metadata": {},
   "outputs": [
    {
     "name": "stderr",
     "output_type": "stream",
     "text": [
      "/Users/maximdoroshenko/opt/anaconda3/lib/python3.8/site-packages/ipykernel/ipkernel.py:287: DeprecationWarning: `should_run_async` will not call `transform_cell` automatically in the future. Please pass the result to `transformed_cell` argument and any exception that happen during thetransform in `preprocessing_exc_tuple` in IPython 7.17 and above.\n",
      "  and should_run_async(code)\n"
     ]
    }
   ],
   "source": [
    "import matplotlib.pyplot as plt\n",
    "from tqdm.notebook import tqdm\n",
    "%matplotlib inline"
   ]
  },
  {
   "cell_type": "code",
   "execution_count": 46,
   "metadata": {},
   "outputs": [
    {
     "name": "stderr",
     "output_type": "stream",
     "text": [
      "/Users/maximdoroshenko/opt/anaconda3/lib/python3.8/site-packages/ipykernel/ipkernel.py:287: DeprecationWarning: `should_run_async` will not call `transform_cell` automatically in the future. Please pass the result to `transformed_cell` argument and any exception that happen during thetransform in `preprocessing_exc_tuple` in IPython 7.17 and above.\n",
      "  and should_run_async(code)\n"
     ]
    },
    {
     "data": {
      "application/vnd.jupyter.widget-view+json": {
       "model_id": "4b48e635398b4a7991968d07464f2af3",
       "version_major": 2,
       "version_minor": 0
      },
      "text/plain": [
       "HBox(children=(HTML(value=''), FloatProgress(value=0.0, max=5.0), HTML(value='')))"
      ]
     },
     "metadata": {},
     "output_type": "display_data"
    },
    {
     "name": "stdout",
     "output_type": "stream",
     "text": [
      "\n"
     ]
    },
    {
     "data": {
      "image/png": "[encoded data removed]",
      "text/plain": [
       "<Figure size 432x288 with 1 Axes>"
      ]
     },
     "metadata": {
      "needs_background": "light"
     },
     "output_type": "display_data"
    }
   ],
   "source": [
    "topics_list = [5, 10, 15, 20, 25]\n",
    "coherences = []\n",
    "\n",
    "for num in tqdm(topics_list):\n",
    "    lda = ldamodel.LdaModel(corpus, id2word=dictionary, num_topics=num, chunksize=50, update_every=1, passes=2)\n",
    "    coherences.append(CoherenceModel(model=lda, texts=df['tweet_token'], dictionary=dictionary, coherence='c_v').get_coherence())\n",
    "\n",
    "plt.plot(topics_list, coherences)\n",
    "plt.xlabel(\"Число тем\")\n",
    "plt.ylabel(\"Средняя когерентность\")\n",
    "plt.show()"
   ]
  },
  {
   "cell_type": "code",
   "execution_count": 51,
   "metadata": {},
   "outputs": [
    {
     "name": "stderr",
     "output_type": "stream",
     "text": [
      "/Users/maximdoroshenko/opt/anaconda3/lib/python3.8/site-packages/ipykernel/ipkernel.py:287: DeprecationWarning: `should_run_async` will not call `transform_cell` automatically in the future. Please pass the result to `transformed_cell` argument and any exception that happen during thetransform in `preprocessing_exc_tuple` in IPython 7.17 and above.\n",
      "  and should_run_async(code)\n"
     ]
    },
    {
     "data": {
      "application/vnd.jupyter.widget-view+json": {
       "model_id": "13d9494eb55440ed817d2fdb2c9d25c9",
       "version_major": 2,
       "version_minor": 0
      },
      "text/plain": [
       "HBox(children=(HTML(value=''), FloatProgress(value=0.0, max=5.0), HTML(value='')))"
      ]
     },
     "metadata": {},
     "output_type": "display_data"
    },
    {
     "name": "stdout",
     "output_type": "stream",
     "text": [
      "\n"
     ]
    },
    {
     "data": {
      "image/png": "[encoded data removed]",
      "text/plain": [
       "<Figure size 432x288 with 1 Axes>"
      ]
     },
     "metadata": {
      "needs_background": "light"
     },
     "output_type": "display_data"
    }
   ],
   "source": [
    "topics_list = np.arange(30, 180, 30)\n",
    "coherences = []\n",
    "\n",
    "for num in tqdm(topics_list):\n",
    "    lda = ldamodel.LdaModel(corpus, id2word=dictionary, num_topics=num, chunksize=50, update_every=1, passes=2)\n",
    "    coherences.append(CoherenceModel(model=lda, texts=df['tweet_token'], dictionary=dictionary, coherence='c_v').get_coherence())\n",
    "\n",
    "plt.plot(topics_list, coherences)\n",
    "plt.xlabel(\"Число тем\")\n",
    "plt.ylabel(\"Средняя когерентность\")\n",
    "plt.show()"
   ]
  },
  {
   "cell_type": "code",
   "execution_count": 57,
   "metadata": {},
   "outputs": [
    {
     "name": "stderr",
     "output_type": "stream",
     "text": [
      "/Users/maximdoroshenko/opt/anaconda3/lib/python3.8/site-packages/ipykernel/ipkernel.py:287: DeprecationWarning: `should_run_async` will not call `transform_cell` automatically in the future. Please pass the result to `transformed_cell` argument and any exception that happen during thetransform in `preprocessing_exc_tuple` in IPython 7.17 and above.\n",
      "  and should_run_async(code)\n"
     ]
    }
   ],
   "source": [
    "lda_60 = ldamodel.LdaModel(corpus, id2word=dictionary, num_topics=60, chunksize=50, update_every=1, passes=2)"
   ]
  },
  {
   "cell_type": "markdown",
   "metadata": {},
   "source": [
    "### 4.  Проинтерпретировать получившиеся тематики"
   ]
  },
  {
   "cell_type": "code",
   "execution_count": 59,
   "metadata": {},
   "outputs": [
    {
     "name": "stderr",
     "output_type": "stream",
     "text": [
      "/Users/maximdoroshenko/opt/anaconda3/lib/python3.8/site-packages/ipykernel/ipkernel.py:287: DeprecationWarning: `should_run_async` will not call `transform_cell` automatically in the future. Please pass the result to `transformed_cell` argument and any exception that happen during thetransform in `preprocessing_exc_tuple` in IPython 7.17 and above.\n",
      "  and should_run_async(code)\n"
     ]
    },
    {
     "data": {
      "text/plain": [
       "[(59,\n",
       "  [('parliament', 0.00021399531),\n",
       "   ('active', 0.00021399531),\n",
       "   ('mix', 0.00021399531),\n",
       "   ('moon', 0.00021399531),\n",
       "   ('conservative', 0.00021399531),\n",
       "   ('unfair', 0.00021399531),\n",
       "   ('playlist', 0.00021399531),\n",
       "   ('spotify', 0.00021399531),\n",
       "   ('ibiza', 0.00021399531),\n",
       "   ('divorce', 0.00021399531),\n",
       "   ('tb', 0.00021399531),\n",
       "   ('wake', 0.00021399531),\n",
       "   ('arkansas', 0.00021399531),\n",
       "   ('area', 0.00021399531),\n",
       "   ('impact', 0.00021399531),\n",
       "   ('showcase', 0.00021399531),\n",
       "   ('spain', 0.00021399531),\n",
       "   ('circle', 0.00021399531),\n",
       "   ('laughing', 0.00021399531),\n",
       "   ('roof', 0.00021399531),\n",
       "   ('hole', 0.00021399531),\n",
       "   ('deal', 0.00021399531),\n",
       "   ('spoke', 0.00021399531),\n",
       "   ('determined', 0.00021399531),\n",
       "   ('strikes', 0.00021399531),\n",
       "   ('visiting', 0.00021399531),\n",
       "   ('wonder', 0.00021399531),\n",
       "   ('angels', 0.00021399531),\n",
       "   ('reply', 0.00021399531),\n",
       "   ('window', 0.00021399531)]),\n",
       " (1,\n",
       "  [('happy', 0.42447546),\n",
       "   ('day', 0.40572324),\n",
       "   ('man', 0.050179794),\n",
       "   ('after', 0.049111065),\n",
       "   ('open', 0.015173551),\n",
       "   ('each', 0.014032532),\n",
       "   ('drink', 0.013054318),\n",
       "   ('wine', 0.010738406),\n",
       "   ('social', 0.0095426245),\n",
       "   ('hole', 1.7086156e-06),\n",
       "   ('conservative', 1.7086156e-06),\n",
       "   ('playlist', 1.7086156e-06),\n",
       "   ('thi', 1.7086156e-06),\n",
       "   ('spotify', 1.7086156e-06),\n",
       "   ('determined', 1.7086156e-06),\n",
       "   ('window', 1.7086156e-06),\n",
       "   ('lisa', 1.7086156e-06),\n",
       "   ('angels', 1.7086156e-06),\n",
       "   ('parliament', 1.7086156e-06),\n",
       "   ('arkansas', 1.7086156e-06),\n",
       "   ('area', 1.7086156e-06),\n",
       "   ('impact', 1.7086156e-06),\n",
       "   ('ibiza', 1.7086156e-06),\n",
       "   ('showcase', 1.7086156e-06),\n",
       "   ('spain', 1.7086156e-06),\n",
       "   ('circle', 1.7086156e-06),\n",
       "   ('laughing', 1.7086156e-06),\n",
       "   ('deal', 1.7086156e-06),\n",
       "   ('roof', 1.7086156e-06),\n",
       "   ('censorship', 1.7086156e-06)]),\n",
       " (8,\n",
       "  [('parliament', 0.00021399531),\n",
       "   ('active', 0.00021399531),\n",
       "   ('mix', 0.00021399531),\n",
       "   ('moon', 0.00021399531),\n",
       "   ('conservative', 0.00021399531),\n",
       "   ('unfair', 0.00021399531),\n",
       "   ('playlist', 0.00021399531),\n",
       "   ('spotify', 0.00021399531),\n",
       "   ('ibiza', 0.00021399531),\n",
       "   ('divorce', 0.00021399531),\n",
       "   ('tb', 0.00021399531),\n",
       "   ('wake', 0.00021399531),\n",
       "   ('arkansas', 0.00021399531),\n",
       "   ('area', 0.00021399531),\n",
       "   ('impact', 0.00021399531),\n",
       "   ('showcase', 0.00021399531),\n",
       "   ('spain', 0.00021399531),\n",
       "   ('circle', 0.00021399531),\n",
       "   ('laughing', 0.00021399531),\n",
       "   ('roof', 0.00021399531),\n",
       "   ('hole', 0.00021399531),\n",
       "   ('deal', 0.00021399531),\n",
       "   ('spoke', 0.00021399531),\n",
       "   ('determined', 0.00021399531),\n",
       "   ('strikes', 0.00021399531),\n",
       "   ('visiting', 0.00021399531),\n",
       "   ('wonder', 0.00021399531),\n",
       "   ('angels', 0.00021399531),\n",
       "   ('reply', 0.00021399531),\n",
       "   ('window', 0.00021399531)]),\n",
       " (7,\n",
       "  [('parliament', 0.00021399531),\n",
       "   ('active', 0.00021399531),\n",
       "   ('mix', 0.00021399531),\n",
       "   ('moon', 0.00021399531),\n",
       "   ('conservative', 0.00021399531),\n",
       "   ('unfair', 0.00021399531),\n",
       "   ('playlist', 0.00021399531),\n",
       "   ('spotify', 0.00021399531),\n",
       "   ('ibiza', 0.00021399531),\n",
       "   ('divorce', 0.00021399531),\n",
       "   ('tb', 0.00021399531),\n",
       "   ('wake', 0.00021399531),\n",
       "   ('arkansas', 0.00021399531),\n",
       "   ('area', 0.00021399531),\n",
       "   ('impact', 0.00021399531),\n",
       "   ('showcase', 0.00021399531),\n",
       "   ('spain', 0.00021399531),\n",
       "   ('circle', 0.00021399531),\n",
       "   ('laughing', 0.00021399531),\n",
       "   ('roof', 0.00021399531),\n",
       "   ('hole', 0.00021399531),\n",
       "   ('deal', 0.00021399531),\n",
       "   ('spoke', 0.00021399531),\n",
       "   ('determined', 0.00021399531),\n",
       "   ('strikes', 0.00021399531),\n",
       "   ('visiting', 0.00021399531),\n",
       "   ('wonder', 0.00021399531),\n",
       "   ('angels', 0.00021399531),\n",
       "   ('reply', 0.00021399531),\n",
       "   ('window', 0.00021399531)]),\n",
       " (30,\n",
       "  [('parliament', 0.00021399531),\n",
       "   ('active', 0.00021399531),\n",
       "   ('mix', 0.00021399531),\n",
       "   ('moon', 0.00021399531),\n",
       "   ('conservative', 0.00021399531),\n",
       "   ('unfair', 0.00021399531),\n",
       "   ('playlist', 0.00021399531),\n",
       "   ('spotify', 0.00021399531),\n",
       "   ('ibiza', 0.00021399531),\n",
       "   ('divorce', 0.00021399531),\n",
       "   ('tb', 0.00021399531),\n",
       "   ('wake', 0.00021399531),\n",
       "   ('arkansas', 0.00021399531),\n",
       "   ('area', 0.00021399531),\n",
       "   ('impact', 0.00021399531),\n",
       "   ('showcase', 0.00021399531),\n",
       "   ('spain', 0.00021399531),\n",
       "   ('circle', 0.00021399531),\n",
       "   ('laughing', 0.00021399531),\n",
       "   ('roof', 0.00021399531),\n",
       "   ('hole', 0.00021399531),\n",
       "   ('deal', 0.00021399531),\n",
       "   ('spoke', 0.00021399531),\n",
       "   ('determined', 0.00021399531),\n",
       "   ('strikes', 0.00021399531),\n",
       "   ('visiting', 0.00021399531),\n",
       "   ('wonder', 0.00021399531),\n",
       "   ('angels', 0.00021399531),\n",
       "   ('reply', 0.00021399531),\n",
       "   ('window', 0.00021399531)]),\n",
       " (52,\n",
       "  [('parliament', 0.00021399531),\n",
       "   ('active', 0.00021399531),\n",
       "   ('mix', 0.00021399531),\n",
       "   ('moon', 0.00021399531),\n",
       "   ('conservative', 0.00021399531),\n",
       "   ('unfair', 0.00021399531),\n",
       "   ('playlist', 0.00021399531),\n",
       "   ('spotify', 0.00021399531),\n",
       "   ('ibiza', 0.00021399531),\n",
       "   ('divorce', 0.00021399531),\n",
       "   ('tb', 0.00021399531),\n",
       "   ('wake', 0.00021399531),\n",
       "   ('arkansas', 0.00021399531),\n",
       "   ('area', 0.00021399531),\n",
       "   ('impact', 0.00021399531),\n",
       "   ('showcase', 0.00021399531),\n",
       "   ('spain', 0.00021399531),\n",
       "   ('circle', 0.00021399531),\n",
       "   ('laughing', 0.00021399531),\n",
       "   ('roof', 0.00021399531),\n",
       "   ('hole', 0.00021399531),\n",
       "   ('deal', 0.00021399531),\n",
       "   ('spoke', 0.00021399531),\n",
       "   ('determined', 0.00021399531),\n",
       "   ('strikes', 0.00021399531),\n",
       "   ('visiting', 0.00021399531),\n",
       "   ('wonder', 0.00021399531),\n",
       "   ('angels', 0.00021399531),\n",
       "   ('reply', 0.00021399531),\n",
       "   ('window', 0.00021399531)]),\n",
       " (9,\n",
       "  [('parliament', 0.00021399531),\n",
       "   ('active', 0.00021399531),\n",
       "   ('mix', 0.00021399531),\n",
       "   ('moon', 0.00021399531),\n",
       "   ('conservative', 0.00021399531),\n",
       "   ('unfair', 0.00021399531),\n",
       "   ('playlist', 0.00021399531),\n",
       "   ('spotify', 0.00021399531),\n",
       "   ('ibiza', 0.00021399531),\n",
       "   ('divorce', 0.00021399531),\n",
       "   ('tb', 0.00021399531),\n",
       "   ('wake', 0.00021399531),\n",
       "   ('arkansas', 0.00021399531),\n",
       "   ('area', 0.00021399531),\n",
       "   ('impact', 0.00021399531),\n",
       "   ('showcase', 0.00021399531),\n",
       "   ('spain', 0.00021399531),\n",
       "   ('circle', 0.00021399531),\n",
       "   ('laughing', 0.00021399531),\n",
       "   ('roof', 0.00021399531),\n",
       "   ('hole', 0.00021399531),\n",
       "   ('deal', 0.00021399531),\n",
       "   ('spoke', 0.00021399531),\n",
       "   ('determined', 0.00021399531),\n",
       "   ('strikes', 0.00021399531),\n",
       "   ('visiting', 0.00021399531),\n",
       "   ('wonder', 0.00021399531),\n",
       "   ('angels', 0.00021399531),\n",
       "   ('reply', 0.00021399531),\n",
       "   ('window', 0.00021399531)]),\n",
       " (57,\n",
       "  [('people', 0.32035223),\n",
       "   ('make', 0.19547512),\n",
       "   ('friday', 0.16970152),\n",
       "   ('via', 0.11719661),\n",
       "   ('its', 0.07982563),\n",
       "   ('around', 0.07202689),\n",
       "   ('smiles', 0.02932736),\n",
       "   ('playlist', 3.4493312e-06),\n",
       "   ('spotify', 3.4493312e-06),\n",
       "   ('cuddles', 3.4493312e-06),\n",
       "   ('copaamerica', 3.4493312e-06),\n",
       "   ('impact', 3.4493312e-06),\n",
       "   ('conservative', 3.4493312e-06),\n",
       "   ('terrific', 3.4493312e-06),\n",
       "   ('moon', 3.4493312e-06),\n",
       "   ('spain', 3.4493312e-06),\n",
       "   ('unfair', 3.4493312e-06),\n",
       "   ('showcase', 3.4493312e-06),\n",
       "   ('tb', 3.4493312e-06),\n",
       "   ('laughing', 3.4493312e-06),\n",
       "   ('roof', 3.4493312e-06),\n",
       "   ('hole', 3.4493312e-06),\n",
       "   ('deal', 3.4493312e-06),\n",
       "   ('spoke', 3.4493312e-06),\n",
       "   ('determined', 3.4493312e-06),\n",
       "   ('strikes', 3.4493312e-06),\n",
       "   ('visiting', 3.4493312e-06),\n",
       "   ('area', 3.4493312e-06),\n",
       "   ('circle', 3.4493312e-06),\n",
       "   ('divorce', 3.4493312e-06)]),\n",
       " (20,\n",
       "  [('to', 0.76428384),\n",
       "   ('good', 0.08902395),\n",
       "   ('their', 0.039971575),\n",
       "   ('night', 0.035989452),\n",
       "   ('those', 0.017423838),\n",
       "   ('lost', 0.0132307615),\n",
       "   ('means', 0.012192481),\n",
       "   ('rip', 0.010458444),\n",
       "   ('went', 0.008006034),\n",
       "   ('families', 0.004260193),\n",
       "   ('nightclub', 0.00044341618),\n",
       "   ('thi', 1.011604e-06),\n",
       "   ('ibiza', 1.011604e-06),\n",
       "   ('spotify', 1.011604e-06),\n",
       "   ('parliament', 1.011604e-06),\n",
       "   ('unfair', 1.011604e-06),\n",
       "   ('tb', 1.011604e-06),\n",
       "   ('conservative', 1.011604e-06),\n",
       "   ('playlist', 1.011604e-06),\n",
       "   ('moon', 1.011604e-06),\n",
       "   ('showcase', 1.011604e-06),\n",
       "   ('lisa', 1.011604e-06),\n",
       "   ('arkansas', 1.011604e-06),\n",
       "   ('area', 1.011604e-06),\n",
       "   ('impact', 1.011604e-06),\n",
       "   ('roof', 1.011604e-06),\n",
       "   ('spain', 1.011604e-06),\n",
       "   ('circle', 1.011604e-06),\n",
       "   ('angels', 1.011604e-06),\n",
       "   ('cuddles', 1.011604e-06)]),\n",
       " (54,\n",
       "  [('parliament', 0.00021399531),\n",
       "   ('active', 0.00021399531),\n",
       "   ('mix', 0.00021399531),\n",
       "   ('moon', 0.00021399531),\n",
       "   ('conservative', 0.00021399531),\n",
       "   ('unfair', 0.00021399531),\n",
       "   ('playlist', 0.00021399531),\n",
       "   ('spotify', 0.00021399531),\n",
       "   ('ibiza', 0.00021399531),\n",
       "   ('divorce', 0.00021399531),\n",
       "   ('tb', 0.00021399531),\n",
       "   ('wake', 0.00021399531),\n",
       "   ('arkansas', 0.00021399531),\n",
       "   ('area', 0.00021399531),\n",
       "   ('impact', 0.00021399531),\n",
       "   ('showcase', 0.00021399531),\n",
       "   ('spain', 0.00021399531),\n",
       "   ('circle', 0.00021399531),\n",
       "   ('laughing', 0.00021399531),\n",
       "   ('roof', 0.00021399531),\n",
       "   ('hole', 0.00021399531),\n",
       "   ('deal', 0.00021399531),\n",
       "   ('spoke', 0.00021399531),\n",
       "   ('determined', 0.00021399531),\n",
       "   ('strikes', 0.00021399531),\n",
       "   ('visiting', 0.00021399531),\n",
       "   ('wonder', 0.00021399531),\n",
       "   ('angels', 0.00021399531),\n",
       "   ('reply', 0.00021399531),\n",
       "   ('window', 0.00021399531)])]"
      ]
     },
     "execution_count": 59,
     "metadata": {},
     "output_type": "execute_result"
    }
   ],
   "source": [
    "lda_60.show_topics(num_topics=10, num_words=30, formatted=False)"
   ]
  },
  {
   "cell_type": "markdown",
   "metadata": {},
   "source": [
    "Из графиков выше видно, что в датасете примерно 60 наиболее выраженных тем.\n",
    "В show_topic заметны 2 темы: обсуждение праздников и чем люди занимаются по пятницам."
   ]
  },
  {
   "cell_type": "code",
   "execution_count": null,
   "metadata": {},
   "outputs": [],
   "source": []
  }
 ],
 "metadata": {
  "kernelspec": {
   "display_name": "Python 3",
   "language": "python",
   "name": "python3"
  },
  "language_info": {
   "codemirror_mode": {
    "name": "ipython",
    "version": 3
   },
   "file_extension": ".py",
   "mimetype": "text/x-python",
   "name": "python",
   "nbconvert_exporter": "python",
   "pygments_lexer": "ipython3",
   "version": "3.8.5"
  }
 },
 "nbformat": 4,
 "nbformat_minor": 4
}
