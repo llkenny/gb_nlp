{
 "cells": [
  {
   "cell_type": "markdown",
   "metadata": {},
   "source": [
    "#### Задание\n",
    "1. Взять предобученную трансформерную архитектуру и решить задачу перевода (для тогоже корпуса что вы выбрали из предыдущего дз)"
   ]
  },
  {
   "cell_type": "code",
   "execution_count": 12,
   "metadata": {},
   "outputs": [],
   "source": [
    "import pandas as pd\n",
    "import numpy as np"
   ]
  },
  {
   "cell_type": "code",
   "execution_count": 2,
   "metadata": {},
   "outputs": [],
   "source": [
    "from transformers import FSMTForConditionalGeneration, FSMTTokenizer\n",
    "mname = \"facebook/wmt19-en-ru\"\n",
    "tokenizer = FSMTTokenizer.from_pretrained(mname)\n",
    "model = FSMTForConditionalGeneration.from_pretrained(mname)"
   ]
  },
  {
   "cell_type": "code",
   "execution_count": 1,
   "metadata": {},
   "outputs": [
    {
     "data": {
      "application/vnd.jupyter.widget-view+json": {
       "model_id": "4cf56f4910204414b86c0b74e44a692f",
       "version_major": 2,
       "version_minor": 0
      },
      "text/plain": [
       "Downloading builder script:   0%|          | 0.00/1.60k [00:00<?, ?B/s]"
      ]
     },
     "metadata": {},
     "output_type": "display_data"
    },
    {
     "data": {
      "application/vnd.jupyter.widget-view+json": {
       "model_id": "4cca0655b2b64ca08cd98a700f35f55c",
       "version_major": 2,
       "version_minor": 0
      },
      "text/plain": [
       "Downloading metadata:   0%|          | 0.00/1.03k [00:00<?, ?B/s]"
      ]
     },
     "metadata": {},
     "output_type": "display_data"
    },
    {
     "name": "stderr",
     "output_type": "stream",
     "text": [
      "Using custom data configuration default\n"
     ]
    },
    {
     "name": "stdout",
     "output_type": "stream",
     "text": [
      "Downloading and preparing dataset cosmos_qa/default (download: 23.27 MiB, generated: 23.37 MiB, post-processed: Unknown size, total: 46.64 MiB) to /Users/maximdoroshenko/.cache/huggingface/datasets/cosmos_qa/default/0.1.0/e4e873eafb86b174fbfdf309a8baac27525753e655fe93f48f99023efa950ae6...\n"
     ]
    },
    {
     "data": {
      "application/vnd.jupyter.widget-view+json": {
       "model_id": "ca663b5fd19c47d095aea8ee9ecabb91",
       "version_major": 2,
       "version_minor": 0
      },
      "text/plain": [
       "Downloading data files:   0%|          | 0/3 [00:00<?, ?it/s]"
      ]
     },
     "metadata": {},
     "output_type": "display_data"
    },
    {
     "data": {
      "application/vnd.jupyter.widget-view+json": {
       "model_id": "105a099cefff4856a95e64aeb36d161d",
       "version_major": 2,
       "version_minor": 0
      },
      "text/plain": [
       "Downloading data:   0%|          | 0.00/5.15M [00:00<?, ?B/s]"
      ]
     },
     "metadata": {},
     "output_type": "display_data"
    },
    {
     "data": {
      "application/vnd.jupyter.widget-view+json": {
       "model_id": "33b7097225024398ba42d3816da599fa",
       "version_major": 2,
       "version_minor": 0
      },
      "text/plain": [
       "Downloading data:   0%|          | 0.00/1.86M [00:00<?, ?B/s]"
      ]
     },
     "metadata": {},
     "output_type": "display_data"
    },
    {
     "data": {
      "application/vnd.jupyter.widget-view+json": {
       "model_id": "2be4633c4ab24ea7969acc6ea95b2f0e",
       "version_major": 2,
       "version_minor": 0
      },
      "text/plain": [
       "Downloading data:   0%|          | 0.00/776k [00:00<?, ?B/s]"
      ]
     },
     "metadata": {},
     "output_type": "display_data"
    },
    {
     "data": {
      "application/vnd.jupyter.widget-view+json": {
       "model_id": "dfb870d1d48e43aab9b5e29d2c402c2e",
       "version_major": 2,
       "version_minor": 0
      },
      "text/plain": [
       "Extracting data files:   0%|          | 0/3 [00:00<?, ?it/s]"
      ]
     },
     "metadata": {},
     "output_type": "display_data"
    },
    {
     "data": {
      "application/vnd.jupyter.widget-view+json": {
       "model_id": "",
       "version_major": 2,
       "version_minor": 0
      },
      "text/plain": [
       "Generating train split:   0%|          | 0/25262 [00:00<?, ? examples/s]"
      ]
     },
     "metadata": {},
     "output_type": "display_data"
    },
    {
     "data": {
      "application/vnd.jupyter.widget-view+json": {
       "model_id": "",
       "version_major": 2,
       "version_minor": 0
      },
      "text/plain": [
       "Generating test split:   0%|          | 0/6963 [00:00<?, ? examples/s]"
      ]
     },
     "metadata": {},
     "output_type": "display_data"
    },
    {
     "data": {
      "application/vnd.jupyter.widget-view+json": {
       "model_id": "",
       "version_major": 2,
       "version_minor": 0
      },
      "text/plain": [
       "Generating validation split:   0%|          | 0/2985 [00:00<?, ? examples/s]"
      ]
     },
     "metadata": {},
     "output_type": "display_data"
    },
    {
     "name": "stdout",
     "output_type": "stream",
     "text": [
      "Dataset cosmos_qa downloaded and prepared to /Users/maximdoroshenko/.cache/huggingface/datasets/cosmos_qa/default/0.1.0/e4e873eafb86b174fbfdf309a8baac27525753e655fe93f48f99023efa950ae6. Subsequent calls will reuse this data.\n"
     ]
    },
    {
     "data": {
      "application/vnd.jupyter.widget-view+json": {
       "model_id": "3a9742e81160488c993a1a3a9a917ed4",
       "version_major": 2,
       "version_minor": 0
      },
      "text/plain": [
       "  0%|          | 0/3 [00:00<?, ?it/s]"
      ]
     },
     "metadata": {},
     "output_type": "display_data"
    }
   ],
   "source": [
    "from datasets import load_dataset\n",
    "\n",
    "dataset = load_dataset(\"cosmos_qa\")"
   ]
  },
  {
   "cell_type": "code",
   "execution_count": 7,
   "metadata": {},
   "outputs": [],
   "source": [
    "df = pd.DataFrame(dataset[\"train\"])"
   ]
  },
  {
   "cell_type": "code",
   "execution_count": 8,
   "metadata": {},
   "outputs": [
    {
     "data": {
      "text/html": [
       "<div>\n",
       "<style scoped>\n",
       "    .dataframe tbody tr th:only-of-type {\n",
       "        vertical-align: middle;\n",
       "    }\n",
       "\n",
       "    .dataframe tbody tr th {\n",
       "        vertical-align: top;\n",
       "    }\n",
       "\n",
       "    .dataframe thead th {\n",
       "        text-align: right;\n",
       "    }\n",
       "</style>\n",
       "<table border=\"1\" class=\"dataframe\">\n",
       "  <thead>\n",
       "    <tr style=\"text-align: right;\">\n",
       "      <th></th>\n",
       "      <th>id</th>\n",
       "      <th>context</th>\n",
       "      <th>question</th>\n",
       "      <th>answer0</th>\n",
       "      <th>answer1</th>\n",
       "      <th>answer2</th>\n",
       "      <th>answer3</th>\n",
       "      <th>label</th>\n",
       "    </tr>\n",
       "  </thead>\n",
       "  <tbody>\n",
       "    <tr>\n",
       "      <th>0</th>\n",
       "      <td>3Q9SPIIRWJKVQ8244310E8TUS6YWAC##34V1S5K3GTZMDU...</td>\n",
       "      <td>Good Old War and person L : I saw both of thes...</td>\n",
       "      <td>In the future , will this person go to see oth...</td>\n",
       "      <td>None of the above choices .</td>\n",
       "      <td>This person likes music and likes to see the s...</td>\n",
       "      <td>This person only likes Good Old War and Person...</td>\n",
       "      <td>Other Bands is not on tour and this person can...</td>\n",
       "      <td>1</td>\n",
       "    </tr>\n",
       "    <tr>\n",
       "      <th>1</th>\n",
       "      <td>3E24UO25QZOMYXHZN4TEH9EMT9GO6L##3UN61F00HXNWYQ...</td>\n",
       "      <td>I mean it : not one person said ANYTHING to me...</td>\n",
       "      <td>Why might have the temp agency tell me I am no...</td>\n",
       "      <td>The company hiring the temp workers might have...</td>\n",
       "      <td>The temp agency hiring the temp workers might ...</td>\n",
       "      <td>None of the above choices .</td>\n",
       "      <td>I might have had a change of mind working for ...</td>\n",
       "      <td>0</td>\n",
       "    </tr>\n",
       "    <tr>\n",
       "      <th>2</th>\n",
       "      <td>3M4KL7H8KVL125AYH2V35D1E0A016T##3SB5N7Y3O426ET...</td>\n",
       "      <td>Leaving my shift Thursday day shift I arrived ...</td>\n",
       "      <td>What may have caused the radio to erupt with d...</td>\n",
       "      <td>My partner needed a medic unit .</td>\n",
       "      <td>Someone was running from the ambulances after ...</td>\n",
       "      <td>None of the above choices .</td>\n",
       "      <td>Someone was running from the cops and got into...</td>\n",
       "      <td>3</td>\n",
       "    </tr>\n",
       "    <tr>\n",
       "      <th>3</th>\n",
       "      <td>3D5G8J4N5CI2K40F4RZLF9OG2L4VTJ##34MAJL3QP721EU...</td>\n",
       "      <td>So , last day in Seattle , and my flight was a...</td>\n",
       "      <td>Why did I chit chat with my old manager ?</td>\n",
       "      <td>Because my flight was at 1:30 .</td>\n",
       "      <td>Because I left Seattle feeling really good and...</td>\n",
       "      <td>Because it 's my last day in Seattle .</td>\n",
       "      <td>Because I enjoy talking to him .</td>\n",
       "      <td>3</td>\n",
       "    </tr>\n",
       "    <tr>\n",
       "      <th>4</th>\n",
       "      <td>3MQKOF1EE428I44N8B42W7P86DKDW4##3NJM2BJS4ZLBGN...</td>\n",
       "      <td>Ms. Mumma informed Mr. Dail that evidence had ...</td>\n",
       "      <td>Why did I burst into tears ?</td>\n",
       "      <td>Because Ms. Mumma was informative .</td>\n",
       "      <td>Because I had an intense emotional response to...</td>\n",
       "      <td>Because Mr. Dail was informed .</td>\n",
       "      <td>Because I fell out of my chair .</td>\n",
       "      <td>1</td>\n",
       "    </tr>\n",
       "  </tbody>\n",
       "</table>\n",
       "</div>"
      ],
      "text/plain": [
       "                                                  id  \\\n",
       "0  3Q9SPIIRWJKVQ8244310E8TUS6YWAC##34V1S5K3GTZMDU...   \n",
       "1  3E24UO25QZOMYXHZN4TEH9EMT9GO6L##3UN61F00HXNWYQ...   \n",
       "2  3M4KL7H8KVL125AYH2V35D1E0A016T##3SB5N7Y3O426ET...   \n",
       "3  3D5G8J4N5CI2K40F4RZLF9OG2L4VTJ##34MAJL3QP721EU...   \n",
       "4  3MQKOF1EE428I44N8B42W7P86DKDW4##3NJM2BJS4ZLBGN...   \n",
       "\n",
       "                                             context  \\\n",
       "0  Good Old War and person L : I saw both of thes...   \n",
       "1  I mean it : not one person said ANYTHING to me...   \n",
       "2  Leaving my shift Thursday day shift I arrived ...   \n",
       "3  So , last day in Seattle , and my flight was a...   \n",
       "4  Ms. Mumma informed Mr. Dail that evidence had ...   \n",
       "\n",
       "                                            question  \\\n",
       "0  In the future , will this person go to see oth...   \n",
       "1  Why might have the temp agency tell me I am no...   \n",
       "2  What may have caused the radio to erupt with d...   \n",
       "3          Why did I chit chat with my old manager ?   \n",
       "4                       Why did I burst into tears ?   \n",
       "\n",
       "                                             answer0  \\\n",
       "0                        None of the above choices .   \n",
       "1  The company hiring the temp workers might have...   \n",
       "2                   My partner needed a medic unit .   \n",
       "3                    Because my flight was at 1:30 .   \n",
       "4                Because Ms. Mumma was informative .   \n",
       "\n",
       "                                             answer1  \\\n",
       "0  This person likes music and likes to see the s...   \n",
       "1  The temp agency hiring the temp workers might ...   \n",
       "2  Someone was running from the ambulances after ...   \n",
       "3  Because I left Seattle feeling really good and...   \n",
       "4  Because I had an intense emotional response to...   \n",
       "\n",
       "                                             answer2  \\\n",
       "0  This person only likes Good Old War and Person...   \n",
       "1                        None of the above choices .   \n",
       "2                        None of the above choices .   \n",
       "3             Because it 's my last day in Seattle .   \n",
       "4                    Because Mr. Dail was informed .   \n",
       "\n",
       "                                             answer3  label  \n",
       "0  Other Bands is not on tour and this person can...      1  \n",
       "1  I might have had a change of mind working for ...      0  \n",
       "2  Someone was running from the cops and got into...      3  \n",
       "3                   Because I enjoy talking to him .      3  \n",
       "4                   Because I fell out of my chair .      1  "
      ]
     },
     "execution_count": 8,
     "metadata": {},
     "output_type": "execute_result"
    }
   ],
   "source": [
    "df.head()"
   ]
  },
  {
   "cell_type": "code",
   "execution_count": 9,
   "metadata": {},
   "outputs": [],
   "source": [
    "def translate(text):\n",
    "    input_ids = tokenizer.encode(text, return_tensors=\"pt\")\n",
    "    outputs = model.generate(input_ids)\n",
    "    decoded = tokenizer.decode(outputs[0], skip_special_tokens=True)\n",
    "    return decoded"
   ]
  },
  {
   "cell_type": "code",
   "execution_count": 16,
   "metadata": {
    "scrolled": true
   },
   "outputs": [],
   "source": [
    "#df['context_ru'] = df['context'].apply(np.vectorize(translate))"
   ]
  },
  {
   "cell_type": "code",
   "execution_count": 20,
   "metadata": {},
   "outputs": [],
   "source": [
    "df_slice = df.iloc[:10, :]"
   ]
  },
  {
   "cell_type": "code",
   "execution_count": 29,
   "metadata": {},
   "outputs": [
    {
     "name": "stderr",
     "output_type": "stream",
     "text": [
      "/Users/maximdoroshenko/opt/anaconda3/lib/python3.8/site-packages/pandas/core/indexing.py:1773: SettingWithCopyWarning: \n",
      "A value is trying to be set on a copy of a slice from a DataFrame.\n",
      "Try using .loc[row_indexer,col_indexer] = value instead\n",
      "\n",
      "See the caveats in the documentation: https://pandas.pydata.org/pandas-docs/stable/user_guide/indexing.html#returning-a-view-versus-a-copy\n",
      "  self._setitem_single_column(ilocs[0], value, pi)\n"
     ]
    }
   ],
   "source": [
    "df_slice['context_ru'] = df_slice['context'].apply(np.vectorize(translate))"
   ]
  },
  {
   "cell_type": "code",
   "execution_count": 36,
   "metadata": {},
   "outputs": [
    {
     "name": "stdout",
     "output_type": "stream",
     "text": [
      "ENG: Good Old War and person L : I saw both of these bands Wednesday night , and they both blew me away . seriously . Good Old War is acoustic and makes me smile . I really can not help but be happy when I listen to them ; I think it 's the fact that they seemed so happy themselves when they played .\n",
      "RUS: Good Old War и человек L: Я видел обе эти группы в среду вечером, и обе они взорвали меня. Серьезно. Good Old War акустическая и заставляет меня улыбаться.\n",
      "\n",
      "\n",
      "ENG: I mean it : not one person said ANYTHING to me . They would have if I did something wrong , right ? But , this morning , I got a call from my guy at the temp agency and he said that I was no longer needed in that position , that I did n't need to go out there .\n",
      "RUS: Но сегодня утром мне позвонил мой парень из агентства Temp, и он сказал, что я больше не нужен на этой должности, что мне не нужно туда ходить.\n",
      "\n",
      "\n",
      "ENG: Leaving my shift Thursday day shift I arrived the same time as my partner just after six that evening and before long the radio erupted in dispatch tones . A car fleeing the police has crashed and landed on its roof with four separate people entrapped inside . Our medic unit is dispatched along with multiple other ambulances and Rescue Companies .\n",
      "RUS: Выйдя со своей смены в четверг днем, я прибыл в то же время, что и мой напарник, только после шести вечера, и вскоре радио взорвалось в тонах. Машина, убегавшая от полиции, разбилась и приземлилась на крышу, в которой находились четыре человека.\n",
      "\n",
      "\n",
      "ENG: So , last day in Seattle , and my flight was at 1:30 . I got to chit chat with my old manager ( more like a mentor ) , and left Seattle feeling really good and inspired . .\n",
      "RUS: So, last day in Seattle, and my flight was at 1: 30. I got to chit chat with my old manager (more like a mentor), and leave Seattle feeling really good and inspired.\n",
      "\n",
      "\n",
      "ENG: Ms. Mumma informed Mr. Dail that evidence had been found in his case . \" I fell out of my chair and burst into tears . Evidence meant I was going home , and I knew that , \" said Mr. Dail . He immediately told Ms. Mumma , \" Test anything and everything you can find .\n",
      "RUS: Г-жа Мумма сообщила г-ну Дайлу, что в его деле были найдены доказательства. \"Я упала со стула и расплакалась. Зрение означало, что я шла домой, и я знала об этом\", сказал г-н Дайл. Он немедленно сказал г-же Мумме: \"Проверьте все, что вы можете найти.\n",
      "\n",
      "\n",
      "ENG: A while later I tried the car again and lo and behold it does n't start at all , so a tow truck was called , and I chatted with Ellen ( who was n't in class after all ) while I waited . My dad came and got me from the body shop . The End . ( Where the hell did my freaking cow go ?\n",
      "RUS: Через некоторое время я попробовал машину еще раз, и вот она уже совсем не заводится, поэтому был вызван эвакуатор, и я пообщался с Эллен (которая все-таки не была в классе), пока я ждал. Пришел мой отец и забрал меня из кузовного цеха. Конец. (Куда, черт возьми, подевалась моя бешеная корова?\n",
      "\n",
      "\n",
      "ENG: Until we went to a playdate two weeks ago . Thea 's mom is Serbian and crepes are apparently as common in Serbia as they are in France . We discussed the batter , the texture , the cooking process , the topping options and Dee generally brought me up to speed . Being not brave enough to just start throwing ingredients in a bowl as she did , I got a recipe of the internet for general proportions , ended up not using nearly as much water as was called for and successfully made crepes .\n",
      "RUS: До тех пор, пока две недели назад мы не пошли на свидание. Мама Теи - сербка, и крепи, по-видимому, так же распространены в Сербии, как и во Франции. Мы обсуждали тесто, текстуру, процесс приготовления, варианты топпинга и Ди в целом привели меня в порядок. Не имея достаточно храбрости, чтобы просто начать бросать ингредиенты в миску, как она это сделала, я получил доступ к интернету для общих пропорций, в итоге не использовал почти столько воды, как требовалось, и успешно сделал крепи.\n",
      "\n",
      "\n",
      "ENG: Let me be clear , everything is good . Having said that , I ' ve been a little preoccupied lately , as Leslie threw out her back on Sunday . It 's been an interesting , and marriage - solidifying 36 hours . Sunday afternoon , around 2 pm , Leslie and I were hanging in the library , sans kids ( they were with their father ) , listening to music and talking .\n",
      "RUS: Позвольте мне прояснить, все хорошо. Сказав это, я был немного озабочен поздно, так как Лесли выбросила ее обратно в воскресенье. Это был интересный, и брак - укрепляющий 36 часов.\n",
      "\n",
      "\n",
      "ENG: WHAT could be in the package ? Something PORNOGRAPHIC , that 's for sure ! I rushed into the house and went to the laundry room , closed the door and pulled the package out of the magazine . I flipped it over , and reread the words on the side . Contains PHOTOGRAPHIC material . Damn .\n",
      "RUS: ЧТО может быть в пакете? Что-то ПОРНОГОФИК, это точно! Я вбежал в дом и пошел в туалет, закрыл дверь и вытащил пакет из магазина. Я перевернул его и переписал слова на боку. Содержит материал ПОРНОГОФИК. Черт возьми.\n",
      "\n",
      "\n",
      "ENG: WHAT could be in the package ? Something PORNOGRAPHIC , that 's for sure ! I rushed into the house and went to the laundry room , closed the door and pulled the package out of the magazine . I flipped it over , and reread the words on the side . Contains PHOTOGRAPHIC material . Damn .\n",
      "RUS: ЧТО может быть в пакете? Что-то ПОРНОГОФИК, это точно! Я вбежал в дом и пошел в туалет, закрыл дверь и вытащил пакет из магазина. Я перевернул его и переписал слова на боку. Содержит материал ПОРНОГОФИК. Черт возьми.\n",
      "\n",
      "\n"
     ]
    }
   ],
   "source": [
    "for _, row in df_slice.iterrows():\n",
    "    print(f\"ENG: {row['context']}\")\n",
    "    print(f\"RUS: {row['context_ru']}\")\n",
    "    print('\\n')"
   ]
  },
  {
   "cell_type": "markdown",
   "metadata": {},
   "source": [
    "### Вывод:\n",
    "Перевод удовлетворительный, улавливается контекст. Судя по всему модель 19-го года. Google Translate сейчас переводит интереснее. Например:\n",
    "\n",
    "ENG:\n",
    "Leaving my shift Thursday day shift I arrived the same time as my partner just after six that evening and before long the radio erupted in dispatch tones . A car fleeing the police has crashed and landed on its roof with four separate people entrapped inside .\n",
    "\n",
    "GOOGLE:\n",
    "Покидая свою смену в четверг, я прибыл в то же время, что и мой напарник, сразу после шести вечера, и вскоре радио взорвалось сигналами депеши. Автомобиль, убегающий от полиции, разбился и приземлился на крышу, внутри оказались зажатыми четыре человека.\n",
    "\n",
    "MODEL:\n",
    "Выйдя со своей смены в четверг днем, я прибыл в то же время, что и мой напарник, только после шести вечера, и вскоре радио взорвалось в тонах. Машина, убегавшая от полиции, разбилась и приземлилась на крышу, в которой находились четыре человека.\n",
    "\n",
    "Ключевая разница: зажатыми и находились. В первом варианте более точно."
   ]
  },
  {
   "cell_type": "markdown",
   "metadata": {},
   "source": [
    "#### 2. скачиваем готовый новостной датасет\n",
    "!wget https://github.com/ods-ai-ml4sg/proj_news_viz/releases/download/data/gazeta.csv.gz\n",
    "        \n",
    "        ```\n",
    "        # пример работы с ним \n",
    "        from corus import load_ods_gazeta\n",
    "        path = 'gazeta.csv.gz'\n",
    "        records = load_ods_gazeta(path)\n",
    "        next(records)\n",
    "        ```\n",
    "\n",
    "    реализовать метод поиска ближайших статей\n",
    "    (на вход метода должен приходить запрос (какой-то вопрос) и количество вариантов вывода к примеру топ 5-ть или 3-ри, ваш метод должен возвращать топ-k ближайших статей к этому запросу)\n",
    "    визуально оценить качество"
   ]
  },
  {
   "cell_type": "code",
   "execution_count": 39,
   "metadata": {},
   "outputs": [],
   "source": [
    "!wget -O gazeta.csv.gz -qq --no-check-certificate https://github.com/ods-ai-ml4sg/proj_news_viz/releases/download/data/gazeta.csv.gz"
   ]
  },
  {
   "cell_type": "code",
   "execution_count": 42,
   "metadata": {},
   "outputs": [
    {
     "data": {
      "text/plain": [
       "NewsRecord(\n",
       "    timestamp=datetime.datetime(2008, 11, 21, 15, 19, 14),\n",
       "    url='https://www.gazeta.ru/news/business/2008/11/21/n_1298950.shtml',\n",
       "    edition=None,\n",
       "    topics='Бизнес',\n",
       "    authors=None,\n",
       "    title='Госдума сокращает срок действия ставки экспортных пошлин на нефть',\n",
       "    text='Госдума приняла сегодня в первом чтении и сразу в целом поправки в закон «О таможенном тарифе», сокращающие срок действия ставки экспортных пошлин на нефть с 2-х до 1-го месяца.nnДля установления средних цен на нефть марки Urals и расчета экспортных пошлин правительство России в течение двух месяцев проводит мониторинг на международных рынках нефтяного сырья (средиземноморском и роттердамском), экспортные пошлины на нефть устанавливаются также раз в два месяца.nnСокращение на месяц периода мониторинга (с 15-го числа каждого календарного месяца по 14-е число следующего месяца) и соответственно срока действия ставок экспортных пошлин «позволит более оперативно реагировать на изменения экономической ситуации в стране и сэкономить нефтяникам миллиарды рублей», считают разработчики. Экспортные ставки будут вводиться с 1 числа календарного месяца, следующего за окончанием периода мониторинга.',\n",
       "    stats=Stats(\n",
       "        fb=None,\n",
       "        vk=None,\n",
       "        ok=None,\n",
       "        twitter=None,\n",
       "        lj=None,\n",
       "        tg=None,\n",
       "        likes=None,\n",
       "        views=None,\n",
       "        comments=None\n",
       "    )\n",
       ")"
      ]
     },
     "execution_count": 42,
     "metadata": {},
     "output_type": "execute_result"
    }
   ],
   "source": [
    "from corus import load_ods_gazeta\n",
    "path = 'gazeta.csv.gz'\n",
    "records = load_ods_gazeta(path)\n",
    "next(records)"
   ]
  },
  {
   "cell_type": "code",
   "execution_count": 48,
   "metadata": {},
   "outputs": [],
   "source": [
    "df = pd.DataFrame(records)"
   ]
  },
  {
   "cell_type": "code",
   "execution_count": 49,
   "metadata": {},
   "outputs": [
    {
     "data": {
      "text/html": [
       "<div>\n",
       "<style scoped>\n",
       "    .dataframe tbody tr th:only-of-type {\n",
       "        vertical-align: middle;\n",
       "    }\n",
       "\n",
       "    .dataframe tbody tr th {\n",
       "        vertical-align: top;\n",
       "    }\n",
       "\n",
       "    .dataframe thead th {\n",
       "        text-align: right;\n",
       "    }\n",
       "</style>\n",
       "<table border=\"1\" class=\"dataframe\">\n",
       "  <thead>\n",
       "    <tr style=\"text-align: right;\">\n",
       "      <th></th>\n",
       "      <th>0</th>\n",
       "      <th>1</th>\n",
       "      <th>2</th>\n",
       "      <th>3</th>\n",
       "      <th>4</th>\n",
       "      <th>5</th>\n",
       "      <th>6</th>\n",
       "      <th>7</th>\n",
       "    </tr>\n",
       "  </thead>\n",
       "  <tbody>\n",
       "    <tr>\n",
       "      <th>0</th>\n",
       "      <td>2012-09-26 13:54:13</td>\n",
       "      <td>https://www.gazeta.ru/politics/news/2012/09/26...</td>\n",
       "      <td>None</td>\n",
       "      <td>Политика</td>\n",
       "      <td>None</td>\n",
       "      <td>Гордума Новочеркасска приняла отставку мэра го...</td>\n",
       "      <td>В Ростовской области депутаты гордумы Новочерк...</td>\n",
       "      <td>Stats(fb=None, vk=None, ok=None, twitter=None,...</td>\n",
       "    </tr>\n",
       "    <tr>\n",
       "      <th>1</th>\n",
       "      <td>2012-09-26 21:11:33</td>\n",
       "      <td>https://www.gazeta.ru/culture/news/2012/09/26/...</td>\n",
       "      <td>None</td>\n",
       "      <td>Культура</td>\n",
       "      <td>None</td>\n",
       "      <td>Министерство культуры назвало фильмы, на котор...</td>\n",
       "      <td>Министерство культуры России определило перече...</td>\n",
       "      <td>Stats(fb=None, vk=None, ok=None, twitter=None,...</td>\n",
       "    </tr>\n",
       "    <tr>\n",
       "      <th>2</th>\n",
       "      <td>2011-02-24 16:40:29</td>\n",
       "      <td>https://www.gazeta.ru/news/sport/2011/02/24/n_...</td>\n",
       "      <td>None</td>\n",
       "      <td>Спорт</td>\n",
       "      <td>None</td>\n",
       "      <td>Иванов возглавил совет ПБК ЦСКА</td>\n",
       "      <td>Заместитель председателяnправительства РФnСерг...</td>\n",
       "      <td>Stats(fb=None, vk=None, ok=None, twitter=None,...</td>\n",
       "    </tr>\n",
       "    <tr>\n",
       "      <th>3</th>\n",
       "      <td>2012-09-27 10:32:37</td>\n",
       "      <td>https://www.gazeta.ru/culture/news/2012/09/27/...</td>\n",
       "      <td>None</td>\n",
       "      <td>Культура</td>\n",
       "      <td>None</td>\n",
       "      <td>Коллегия Минкультуры обсудила отказ от бессроч...</td>\n",
       "      <td>Отказ от бессрочных контактов с артистами и вв...</td>\n",
       "      <td>Stats(fb=None, vk=None, ok=None, twitter=None,...</td>\n",
       "    </tr>\n",
       "    <tr>\n",
       "      <th>4</th>\n",
       "      <td>2012-09-27 10:36:58</td>\n",
       "      <td>https://www.gazeta.ru/culture/news/2012/09/27/...</td>\n",
       "      <td>None</td>\n",
       "      <td>Культура</td>\n",
       "      <td>None</td>\n",
       "      <td>Театр «Россия» на Пушкинской площади открылся ...</td>\n",
       "      <td>Мэр Москвы Сергей Собянин в среду официально о...</td>\n",
       "      <td>Stats(fb=None, vk=None, ok=None, twitter=None,...</td>\n",
       "    </tr>\n",
       "  </tbody>\n",
       "</table>\n",
       "</div>"
      ],
      "text/plain": [
       "                    0                                                  1  \\\n",
       "0 2012-09-26 13:54:13  https://www.gazeta.ru/politics/news/2012/09/26...   \n",
       "1 2012-09-26 21:11:33  https://www.gazeta.ru/culture/news/2012/09/26/...   \n",
       "2 2011-02-24 16:40:29  https://www.gazeta.ru/news/sport/2011/02/24/n_...   \n",
       "3 2012-09-27 10:32:37  https://www.gazeta.ru/culture/news/2012/09/27/...   \n",
       "4 2012-09-27 10:36:58  https://www.gazeta.ru/culture/news/2012/09/27/...   \n",
       "\n",
       "      2         3     4                                                  5  \\\n",
       "0  None  Политика  None  Гордума Новочеркасска приняла отставку мэра го...   \n",
       "1  None  Культура  None  Министерство культуры назвало фильмы, на котор...   \n",
       "2  None     Спорт  None                    Иванов возглавил совет ПБК ЦСКА   \n",
       "3  None  Культура  None  Коллегия Минкультуры обсудила отказ от бессроч...   \n",
       "4  None  Культура  None  Театр «Россия» на Пушкинской площади открылся ...   \n",
       "\n",
       "                                                   6  \\\n",
       "0  В Ростовской области депутаты гордумы Новочерк...   \n",
       "1  Министерство культуры России определило перече...   \n",
       "2  Заместитель председателяnправительства РФnСерг...   \n",
       "3  Отказ от бессрочных контактов с артистами и вв...   \n",
       "4  Мэр Москвы Сергей Собянин в среду официально о...   \n",
       "\n",
       "                                                   7  \n",
       "0  Stats(fb=None, vk=None, ok=None, twitter=None,...  \n",
       "1  Stats(fb=None, vk=None, ok=None, twitter=None,...  \n",
       "2  Stats(fb=None, vk=None, ok=None, twitter=None,...  \n",
       "3  Stats(fb=None, vk=None, ok=None, twitter=None,...  \n",
       "4  Stats(fb=None, vk=None, ok=None, twitter=None,...  "
      ]
     },
     "execution_count": 49,
     "metadata": {},
     "output_type": "execute_result"
    }
   ],
   "source": [
    "df.head()"
   ]
  },
  {
   "cell_type": "code",
   "execution_count": 50,
   "metadata": {},
   "outputs": [
    {
     "data": {
      "text/plain": [
       "(865843, 8)"
      ]
     },
     "execution_count": 50,
     "metadata": {},
     "output_type": "execute_result"
    }
   ],
   "source": [
    "df.shape"
   ]
  },
  {
   "cell_type": "markdown",
   "metadata": {},
   "source": [
    "https://huggingface.co/symanto/sn-xlm-roberta-base-snli-mnli-anli-xnli\n",
    "\n",
    "https://www.sbert.net/docs/usage/semantic_textual_similarity.html"
   ]
  },
  {
   "cell_type": "code",
   "execution_count": 53,
   "metadata": {},
   "outputs": [],
   "source": [
    "# !pip install -U sentence-transformers"
   ]
  },
  {
   "cell_type": "code",
   "execution_count": 65,
   "metadata": {},
   "outputs": [],
   "source": [
    "from sentence_transformers import SentenceTransformer, util"
   ]
  },
  {
   "cell_type": "code",
   "execution_count": 59,
   "metadata": {},
   "outputs": [],
   "source": [
    "model = SentenceTransformer('symanto/sn-xlm-roberta-base-snli-mnli-anli-xnli')"
   ]
  },
  {
   "cell_type": "code",
   "execution_count": 123,
   "metadata": {},
   "outputs": [],
   "source": [
    "sentences = df[6][:1000] # 1000 sentences"
   ]
  },
  {
   "cell_type": "code",
   "execution_count": 124,
   "metadata": {},
   "outputs": [],
   "source": [
    "embeddings = model.encode(sentences, convert_to_tensor=True)"
   ]
  },
  {
   "cell_type": "code",
   "execution_count": 145,
   "metadata": {},
   "outputs": [],
   "source": [
    "def get_similar(embeddings, sentence, n):\n",
    "    \"\"\"Get <n> similar embeddings for <sentence> and given embeddings\"\"\"\n",
    "    \n",
    "    assert n > 0, \"Bad n\"\n",
    "    \n",
    "    # Compute embeddings\n",
    "    s_emb =  model.encode([sentence], convert_to_tensor=True)\n",
    "\n",
    "    # Compute cosine-similarities for each sentence\n",
    "    cosine_scores = util.cos_sim(s_emb, embeddings)\n",
    "    \n",
    "    # Compute max n scores indexes\n",
    "    max_scores_idx = np.argpartition(cosine_scores[0], -n)[-n:]\n",
    "    \n",
    "    return cosine_scores, max_scores_idx"
   ]
  },
  {
   "cell_type": "code",
   "execution_count": 146,
   "metadata": {
    "scrolled": false
   },
   "outputs": [
    {
     "data": {
      "text/plain": [
       "'Российская теннисистка Алиса Клейбанова перенесла операцию на плече.n25-летняя спортсменка пропустит четыре месяца.nКлейбанова будет восстанавливаться от травмы в США.nДругие новости, материалы и статистику можно посмотреть наnстраницеnтенниса.nKleybanova who recovered from cancer in 2011 has flown out to Arizona to work with physio Todd Ellenbecker, a renown shoulder expert'"
      ]
     },
     "execution_count": 146,
     "metadata": {},
     "output_type": "execute_result"
    }
   ],
   "source": [
    "rnd = np.random.randint(1000, df.shape[0])\n",
    "sentence = df.iloc[rnd, 6]\n",
    "\n",
    "sentence"
   ]
  },
  {
   "cell_type": "code",
   "execution_count": 147,
   "metadata": {},
   "outputs": [],
   "source": [
    "cosine_scores, max_scores_idx = get_similar(embeddings, sentence, 3)"
   ]
  },
  {
   "cell_type": "code",
   "execution_count": 148,
   "metadata": {},
   "outputs": [
    {
     "data": {
      "text/plain": [
       "tensor([0.2586, 0.3722, 0.2685])"
      ]
     },
     "execution_count": 148,
     "metadata": {},
     "output_type": "execute_result"
    }
   ],
   "source": [
    "cosine_scores[0][max_scores_idx]"
   ]
  },
  {
   "cell_type": "code",
   "execution_count": 149,
   "metadata": {
    "scrolled": false
   },
   "outputs": [
    {
     "name": "stdout",
     "output_type": "stream",
     "text": [
      "Начальник войск противовоздушной обороны Сухопутных войск России генерал-лейтенант Александр Леонов сообщил, что создается новый переносной зенитно-ракетный комплекс, который способен преодолевать помехи самых современных лазерных средств противника, сообщаетn«Русская служба новостей»n.nОн добавил, что ПЗРК будет принят на вооружение в течение ближайших лет.n«Создан задел для создания перспективного ПЗРК, который через несколько лет начнет поступать в Вооруженные силы на смену новейшего ПЗРК «Верба». Он будет защищен от тех лазерных помеховых комплексов, которые только еще поступают на вооружение передовых стран мира», — сказал Леонов.nnОтмечается, что ПЗРК «Верба» был принят на вооружение российской армии в 2015 году. Новый комплекс в 10 раз эффективнее преодолевает помехи.nРанееnстало известно, что новые средства войсковой ПВО в российской армии будут способны отражать все новейшие средства воздушного нападения, в том числе гиперзвуковые.\n",
      "\n",
      "\n",
      "Четырехлетняя Жасмина Леонтьева, выжившая при крушении самолета L-410 возле поселка Нелькан, доставлена бортом МЧС Ан-74 в Хабаровск. Девочка находится в стабильном состоянии средней тяжести, сообщают врачи, у нее зафиксирован перелом лодыжки и подозрение на закрытую черепно-мозговую травму. Жасмину отвезли в больницу для детального обследования.nЖасмина Леонтьева, четырехлетняя девочка, выжившая в авиакатастрофе в Хабаровском крае, сейчас уже доставлена самолетом МЧС Ан-74 в Хабаровск. В полете ее сопровождали бабушка и губернатор края Вячеслав Шпорт. Губернатор Хабаровского края Вячеслав Шпорт рассказал, что девочка хорошо перенесла перелет на Ан-74 из Нелькана в Хабаровск.n«Перелет прошел нормально, она вела себя нормально, спокойно. В один момент пришлось маску дыхательную одевать: начало нарушаться дыхание, потом восстановилось. Немножко поплакала, дали ей телефон, и она успокоилась.nВсе остальное время вела спокойно», — заявил после приземления в столице края губернатор.nТакже глава Хабаровского края подчеркнул оперативные и компетентные действия врачей. «Два доктора не отходили от нее, следили каждую секунду. Я им благодарен. Есть у нас хорошие специалисты», — заявил Шпорт. Сразу же после приземления в Хабаровске девочку на машине «скорой помощи» отправили в больницу. Шпорт отметил, что в Хабаровске есть «все необходимое для лечения девочки». Перед эвакуацией в Хабаровск девочка находилась под присмотром врачей в больнице поселка Нелькан.nСейчас жизнь Жасмины Леонтьевой находится вне опасности. По словам врачей, сейчас состояние ребенка оценивается как стабильное, средней тяжести. У девочки зафиксирован сложный перелом лодыжки, ранее у медиков было подозрение на закрытую черепно-мозговую травму, но оно не подтвердилось. Полученные Жасминой в авиакатастрофе травмы, хотя и не угрожают жизни, потребуют длительного лечения и реабилитации, заявил главврач больницы в Нелькане. Все время с момента крушения самолета L-410 девочка находилась в сознании, но «не поняла, что произошло».nПо словам губернатора, девочку во время катастрофы спасло то, что она была пристегнута ремнем безопасности. «Она просто была притянута ремнем капитально и думаю, что это стало решающим фактором. А дальше –nстечение обстоятельств: она маленькая, легкая, меньше кресла значительно, была прикрыта от обломков конструкцией кресла и не улетела никуда, потому что держалась на ремне.nНу и другие обстоятельства, о которых мы не знаем. Главное, что она осталась жива», — добавил глава Хабаровского края.nРодившаяся в 2014 году Жасмина летела с воспитателем в гости к своей бабушке, живущей вместе с братом ребенка в поселке Нелькан в Аяно-Майском районе Хабаровского края. Единственный способ попасть в населенный пункт, где проживает менее тысячи человек – прилететь по воздуху на самолете или вертолете. Мама Жасмины Леонтьевой в момент катастрофы и спасения дочери была в Хабаровске и о произошедшем узнала от своего сына.nВ полете девочку сопровождал социальный педагог Ольга Лапонникова. Погибшая женщина работала социальным педагогом в средней школе Нелькана, ее знали многие местные жители. «Да у нас она работала, очень хороший специалист, женщина молодая — сорок пять лет всего, так жаль ее — не передать словами. Мы в шоке, не только мы, весь поселок, самолет разбился, люди погибли. Не верится, что это произошло», — рассказала делопроизводитель средней школы Надежда Кон.nВсего в авиакатастрофе погибли шесть человек, как члены экипажа, так и пассажиры. Семьи погибших получат по 1 млн рублей, семья пострадавшего ребенка получит выплату в 400 тыс. рублей. О своей готовности выплатить компенсации сообщала и авиакомпания «Хабаровские авиалинии».nРасследованием причин крушения занимается Дальневосточное следственное управление на транспорте и Следственный комитет России. Возбуждено уголовное дело по статье 263 УК РФ «Нарушение правил безопасности движения и эксплуатации воздушного транспорта, повлёкшее по неосторожности смерть двух или более лиц».n«Черные ящики» с упавшего борта до сих пор не найдены.nВ Хабаровском крае в четверг, 16 ноября, был объявлен траур.nМногоцелевой двухмоторный самолёт Let L-410 «Turbolet» разработан для местных воздушных линий конструкторским бюро чехословацкого завода Let Kunovice (Aircraft Industries). Он предназначается для эксплуатации на неподготовленных грунтовых, травяных, снежных площадках, а также на аэродромах с короткими взлетно-посадочными полосами.nСамолет способен перевезти до 19 пассажиров или 1800 кг груза на расстояние до 1500 км. L-410 производится с 1969 года, по состоянию на 15 ноября 2017 года в различных летных происшествиях было потеряно 107 авиамашин этой модели, в катастрофах погибло 412 человек.\n",
      "\n",
      "\n",
      "Вооруженные силы России в рамках модернизации Военно-морского флота намерены расширить применение крылатых ракет «Калибр». Об этом сообщаетnBloombergnсо ссылкой на управление военно-морской разведки США.nУточняется, что установка ракет на небольших военных кораблях «серьезно усилит их способность сдерживать и уничтожать боевые цели».nВ документе говорится, что «Калибр» — один из наиболее «продвинутых» видов российского вооружения с дальностью поражения до 2,5 тыс. км.nРанееnсообщалось, что Россия нанесла ракетный удар по позициям группировки «Исламское государство» (запрещенной в России) ракетами «Калибр» с подводной лодки «Ростов-на-Дону» из акватории Средиземного моря.\n",
      "\n",
      "\n"
     ]
    }
   ],
   "source": [
    "for t in sentences[max_scores_idx.tolist()]:\n",
    "    print(t)\n",
    "    print(\"\\n\")"
   ]
  },
  {
   "cell_type": "code",
   "execution_count": 153,
   "metadata": {
    "scrolled": false
   },
   "outputs": [
    {
     "name": "stdout",
     "output_type": "stream",
     "text": [
      "ПоnданнымnМВД по Чеченской Республике, в митинге в поддержку мусульман Мьянмы, который прошел 4 сентября в Грозном, приняли участие 1,1 млн человек.n«В митинге, который состоялся сегодня в Грозном, приняли участие 1 100 000 человек. Общественно-массовое мероприятие прошло без каких-либо происшествий», — говорится в тексте официального сообщения.nОтмечается, что в ходе митинга не было допущено нарушений общественного порядка, жалоб на действия сотрудников внутренних органов республики.nРанееnсообщалосьn, что на митинге в Чечне Кадыров призвал остановить гуманитарную катастрофу в Мьянме.\n",
      "\n",
      "\n",
      "tensor([0.5224, 0.5824, 0.5817])\n",
      "\n",
      "\n",
      "В Тбилиси на национальном стадионе имени Бориса Пайчадзе в пятницу вечером прошел предвыборный митинг правящей в стране партии «Единое национальное движение». На трибунах стадиона, вмещающего 60 тысяч человек, все места были полностью заняты, еще около 10 тысяч человек расположились на беговых дорожках.nВыступая на митинге, президент Михаил Саакашвили заявил, что «это самый грандиозный митинг, который когда-либо вообще проводился в Грузии».nОн отметил, что страна сейчас «стоит перед выбором: продолжить реформы, продвигаться вперед или вернуться в прошлое, когда так называемые воры в законы диктовали условия всему обществу». «Обращаюсь к проживающим за рубежом «ворам в законе», которые думают вернуться и вновь навязать свои правила жизни: в Грузии вас никто не ждет, сдавайте обратно билеты», — сказал Саакашвили. nnПредставители ведущей оппозиционной коалиции «Грузинская мечта», комментируя заявления президента, назвали «абсурдными» утверждения о том, что в случае ее прихода к власти «страна вернется во времена беспредела и господства «воров в законе».nПоследний перед намеченными на 1 октября парламентскими выборами митинг «Грузинской мечты» пройдет в субботу на столичной площади Свободы.\n",
      "\n",
      "\n",
      "В России прошел День народного единства — государственный праздник, празднуемый в память о событиях 1612 года. В Москве в честь праздника на стадионе Лужники прошел масштабный митинг-концерт, который посетили около 130 тысяч жителей и гостей столицы.nОколо 130 тыс. человек приняли участие в праздничном концерте, посвященном Дню народного единства, в спорткомплексе «Лужники» в Москве, сообщает РИА «Новости» со ссылкой на пресс-службу столичного главка МВД России.nМероприятие прошло в формате «митинг-концерт» под общим лозунгом «Россия объединяет». Его организатором выступила Общественная палата России. Среди приглашенных звезд — Филипп Киркоров, группа «Любэ», Григорий Лепс, Полина Гагарина, Наргиз, Нюша, Денис Майданов, Кристина Си, Елена Темникова, Джиган и многие другие. В настоящее время концерт завершился. Безопасность обеспечивали полиция и Росгвардия.nК обеспечению безопасности граждан во время праздничных мероприятий в День народного единства 4 ноября в столице было привлечено около 9 тыс. человек, передает «Интерфакс» со ссылкой на пресс-службу департамента региональной безопасности и противодействия коррупции.nДля защиты правопорядка в праздничный день были задействованы 2,5 тыс. сотрудников полиции, 4,3 тыс. бойцов Росгвардии и 2 тыс. народных дружинников.n«По периметру площадок массовых мероприятий будут установлены более 4 тыс. так называемых барьеров безопасности, 350 арочных металлодетекторов. Вход на площадку будет осуществляться только через организованные и оборудованные проходы», — рассказывали в департаменте о подготовке праздника.nПри этом столицу защищали не только от возможных беспорядков, но и от погоды. Для выполнения работ по метеозащите Москвы во время праздничных мероприятий 4 и 7 ноября из бюджета города выделили 196 млн рублей.nПри этом власти столицы позаботились и о украшении Москвы. На высотных зданиях на Новом Арбате можно будет увидеть ролик, посвященный Кузьме Минину и Дмитрию Пожарскому. Выбор персонажей связан с самим праздником.nДень народного единства отмечается в память о событиях 1612 года, когда народное ополчение под предводительством Кузьмы Минина и Дмитрия Пожарского освободило Москву от польских интервентов.nИзображения на зданиях создаются более 500 светодиодных прожекторов и 60 тысяч светодиодов. Тематические видеооткрытки демонстрируются на фасаде Центрального телеграфа. Улицы Москвы украсили флагами и плакатами.nИ в Москве, и в регионах День народного единства отмечается в том числе акциями, напоминающими о событиях истории и рассказывающими о национальных традициях.nМногие мероприятия посвящены событиям 1612 года, с которыми связан праздник, — освобождению Москвы от польских интервентов, также пройдут крестные ходы, посвященные Дню Казанской иконы Божией Матери, с которым совпадает дата. В регионах пройдут многочисленные гастрономические фестивали и конкурсы. Многие города предложили в этот день обратиться к местной и общероссийской истории.nНе обошлось в этот день и без поздравлений от первых лиц страны. Президент России Владимир Путин поздравил россиян с праздником на церемонии вручения государственных наград в Кремле.n«Поздравляю всех вас и всех граждан Российской Федерации с праздником — с Днем народного единства», — заявил президент. Помимо этого Путин поблагодарил всех награжденных за особое отношение к России, за любовь к русскому языку, истории и культуре.nКроме того, на торжественном приеме в Кремле по случаю Дня народного единства президент заявил, что забота о своей стране и неприятие любого внешнего давления является основой российской государственности и генетическим кодом народа.n«Четыре века отделяют нас от тех драматических событий, когда сам народ поднялся против смуты и безвластия, одолел внутренние распри и внешнюю угрозу, отстоял достоинство и независимость страны», — сказал Путин.nПо его словам, «преданность отечеству объединяла тогда людей разных сословий, национальностей, вероисповеданий». «Единство и патриотизм были для народа самой надежной опорой и в годы тяжелых испытаний, и при решении масштабных задач развития. Бережное отношение к родине, забота о ней, верность искренней дружбе и неприятие какого-либо давления извне — это несущие конструкции российской государственности, наш генетический и культурный код», — подчеркнул он.\n",
      "\n",
      "\n",
      "В субботу в Москве прошли массовые акции, посвященные событиям на Украине. На оппозиционный «Марш мира», по оценкам участников, пришли около 50 тыс. человек, хотя в полиции столицы насчитали всего 3 тыс. На провластный «Марш братства» пришли 15 тыс. человек, сообщили в ГУ МВД, что почти совпало с подсчетами организаторов. Небольшие акции прошли в Санкт-Петербурге и Екатеринбурге. «Газета.Ru» вела онлайн-трансляцию.nn«Газета.Ru» завершает онлайн-трансляцию о массовых акциях, которые состоялись сегодня в Москве, Санкт-Петербурге и Екатеринбурге. Самые массовые мероприятия прошли в центре Москвы. На провластный «Марш братства», по оценкам полиции, пришли 15 тыс. человек. А вот в подсчете числа участников «Марша мира», который собрал противников политики России по отношению к новой украинской власти, полиция и заявители разошлись. В ГУ МВД заявили, что таковых было всего 3 тыс. человек, в оппозиции уверены, что людей пришло в 15 раз больше — около 50 тыс. Свою оценку сегодняшних событий читатели «Газеты.Ru» могут сделать сами, ознакомившись с онлайн-трансляцией.nА меж тем в Москве сразу после митингов встретились участники «Марша мира» и «Марша братства». Между ними сразу разгорелся спор и взаимные обвинения в том, что они не патриоты и вышли на улицу за деньги. После недолгих словесных препираний между двумя группами людей встали полицейские, после чего люди мирно разошлись.nnPost scriptum c площади Революции. Краткое содержание сегодняшнего митинга.nnКраткое содержание митинга «Сути времени» на площади Революции.npic.twitter.com/5I0NCIU6oinnРеферендум в Крыму уже завтра. Stay tuned.nnКорреспондент «Газеты.Ru» с антивоенного митинга передает, что толпа уже начала расходиться. Люди остались только возле сцены. Некоторые группы человек по двадцать стоят отдельно и обсуждают происходящее. В начале проспекта Сахарова людей много, наблюдается давка на выходе с рамок. У выхода караулят три автозака, три автобуса и военные грузовики. По содержанию все плакаты призывают к миру с Украиной: «Make salo — not war», «*** — войне». На одном из плакатов рукопожатие украинской и русской рук. Украинская без одного пальца: он пришит к русской.nnМария Алехина и Надежда Толоконникова из Pussy Riot выступают попарно, благодарят собравшихся. Толоконникова сравнивает происходящее с Пражской весной 1968 года: «За нашу и вашу свободу! Нас не запугать».nnПлощадь Революции: митинг завершается, Кургинян зачитывает резолюцию:n«Россия реагирует на противозаконные действия узурпаторов-террористов, захвативших власть, и не может не оказать поддержку Украине».nnnМитинг завершен, люди расходятся. Организаторы утверждают, что общее число участников митинга — 16 тыс. человек.nnВоенный журналист Аркадий Бабченко выступает со сцены: «Мы прямой дорогой движемся в пропасть. Если война будет, счет пойдет на сотни тысяч трупов и Россия не переживет этой войны...nОни опять собрались воевать нашими детьми, они своих детей не пошлют, пошлют наших детей»n.nnСергей Давидис из «Солидарности» рассказывает об усилении цензуры в СМИ и массовой блокировке неугодных сайтов. Как и все ораторы, говорит о необходимости уважения суверенитета и территориальной целостности стран-соседей. По его словам, на проспекте собрались 50 тыс. человек.nnЦарьков представляет своего товарища по недавнему заключению в спецприемнике Илью Яшина. Со сцены Яшин спрашивает: разве Россия должна быть агрессивной и ненадежной страной? «Патриоты собрались на этой площади, потому что национальные интересы России в том, чтобы мы были мирной державой, уважали суверенитет и права соседних государств», — говорит Яшин.nnАктер Владимир Федоров (сыгравший Черномора в «Руслане и Людмиле») предлагает помянуть людей, «павших за нашу и вашу свободу», скандирует: «Слава Украине! Слава России! Да здравствуют свобода, равенство, настоящие, не бумажные».nnСанкт-Петербург.nПолиция вела себя сдержанно. По итогам акции трое задержанных — один провокатор и парень с девушкой, державшие плакат.nПолиция не расценила пару как одиночный пикет.nnpic.twitter.com/ffVbIKwRlJnnНа время приспустили флаги в память о погибших на Майдане. Козак говорит о грядущей люстрации старых властей Украины. Боится, что если Майдан разойдется, то придут старые власти.nnЕще одно включение с площади Революции.n«Давайте говорить с Украиной на языке великой любви. Долой ненависть, долой бандеровское бесовство», — не унимается Сергей Кургинян. Он одет в красную куртку. На заднике сцены, с которой он выступает, — фрагмент картины Александра Дейнеки «Оборона Севастополя».nnn«Уничтожить Бандеру!» — отвечает ему из толпы женщина средних лет.nnn«Мы придем туда, где нас любят! Это стратегия современной России. Вы за эту стратегию? Вы за язык любви? Да или нет?» — спрашивает Кургинян.nnnКажется, ему удалось разогреть собравшихся:n«Потом будет суп с котом, а сейчас клянемся, что создадим единый фронт борьбы с бандеровскими силами, да или нет? Клянемся?»nnn«Да», — соглашаются митингующие.nnВыступает начальник сотни первой линии самообороны Майдана Тарас Козак. Благодарит за приглашение организаторов митинга и Владимира Путина. Президенту России благодарен за формирование украинской нации: «Украинская нация только сейчас становится единой в противостоянии внешнему врагу».nnОтважный корреспондент Лиза Антонова, выдержавшая все шествие и митинг, проводимые под началом Кургиняна, передает диалог с одним из участников:nnn— Можно я вас сфотографирую?n— А откуда вы? — строго интересуется мужчина.n— «Газета.Ru».n— Газета «Русь»? Тогда можно. Карамельку хотите?nnpic.twitter.com/8v3pTpWillnnПетр Царьков и Александр Рыклин ведут митинг на сцене, снизу баннер: «Руки прочь от Украины». Выступает Борис Немцов: «Не видел в Киеве ни одного бандеровца, но видел оплакивавших активистов и милиционеров матерей». Жестко критикует президента Владимира Путина. Скандирует: «Слава Украине! Слава России!»nВслед за ним выступает бывший секретарь Союза журналистов России Игорь Яковенко. Ругает российских пропагандистов за информационную войну с Украиной: «Никто не пытал этих людей, чтобы они утверждали, что на Украине власть взяли фашисты».npic.twitter.com/d2nhL4XNvYnnСход в Санкт-Петербурге постепенно сходит на нет. Люди покидают площадку перед Казанским собором, полиция остается.nnУкраинские СМИ сообщают, что сегодня депутаты Верховной рады поприветствовали «Марш мира», который проходит в Москве.nnСанкт-Петербург.nnpic.twitter.com/UQM3YQia6innНа сходе присутствуют 15–20 украинцев, работающих в Питере. Все недовольны положением дел в Крыму.nnpic.twitter.com/Kmn3DlSlBOnnКакой же митинг без участниц Pussy Riot?nnПришли Толокно и Алехина. Пресса сожралаn#МаршМираnpic.twitter.com/TxcTEmS46onМежду тем московские полицейские задержали нескольких участников оппозиционного митинга «Марш мира» в центре столицы. Об этом сообщает «Интерфакс» со ссылкой на ГУ МВД по Москве.n«На шествии «Против воссоединения Крыма с Россией» задержаны граждане, которые несли флаг с символикой, имеющей отношение к Третьему рейху», — сказали в полиции.nnПлощадь Революции.nВ стороне от сцены дурачится группа подростков, стреляют сигареты. Корреспонденту «Газеты.Ru» подростки представились членами молодежного объединения «Местные» из Можайска. Однако заверили, что приехали «на добровольной основе». Координатор не дает им ускользнуть в метро.nnНа митинге «Сути времени» на площади Революции замечены сторонники Башара Асада с сирийскими флагами. Экзотика.nТакже на митинг подтянулась небольшая колонна ЛДПР с партийными флагами.nnГолова колонны «Марша мира» уже дошла до сцены, где сейчас выступает группа «Чайф» — исполняет композицию «С войны».nnСанкт-Петербург.nПоявилась первая задержанная — девушка с плакатом «Нет войне». Ее друзья выясняют у полковника МВД, за что она задержана. Полковник ссылается на КоАП РФ.nnnОдна из женщин развернула флаг Украины, ее обступила пресса. К женщине подобрался молодой человек из группы идеологических противников и стал вырывать флаг. Завязалась потасовка.nnnАктивист Наталья Цымбалова из ЛГБТ-организации позирует с флагом Украины. Это не остается без саркастических комментариев противников схода, которые держатся чуть поодаль. «Очень показательно», — произносит один из них.nПерепалка между участниками схода и подошедшими патриотами продолжилась, они угрожают друг другу: «Встретимся на Украине».nСпорщиков окружил ОМОН.nnnКорреспондент «Газеты.Ru» с «Марша мира» передает: «Голова колонны заходит на проспект Сахарова. Хвост еще на бульваре. Возникает ощущение, что количество участников сопоставимо с маршем 6 мая и митингом против «антисиротского закона». Очень много поливальных машин, сотрудников внутренних войск МВД и полиции. ОМОНа пока не видно». Что касается участников этого марша, то, по словам корреспондента, на фоне многочисленной левой колонны (социалисты, анархисты, «Левый фронт») много либеральных и общегражданских активистов. При этом на митинге не видно ни одного имперского флага, которые обычно используют российские националисты.nnВ Санкт-Петербурге люди вышли на народный сход.nnПитер, сейчас. Народный сходn#маршмираnpic.twitter.com/jenXayPlSgnnКорреспондент «Газеты.Ru» из Санкт-Петербурга Никита Зея сообщает:nnn«У Казанского собора несколько женщин раздают жовто-блакитные (желто-синие) ленточки. Полиция не реагирует. В стороне дежурят пара автозаков, два микроавтобуса. За Казанским собором прячутся около 70 омоновцев, в метро также усилены патрули. На сходе присутствуют депутаты заксобрания Санкт-Петербурга Кобринский и Вишневский. Оба выступают «против аннексии». На сходе около 300 человек, рассказала «Газете.Ru» одна из организаторов митинга Наталья Цымбалова.nnПользователи «Твиттера» находят в митинге Кургиняна на площади Революции мрачные эстетические параллели:nn@thenewtimesnПохоже Кургинян возомнил себя новым Фюреромn#Кургинянnpic.twitter.com/hiux5ZFv2EnnЕще один кадр с «Марша мира». Колонна идет мирно, но беспрестанно выкрикивает различные лозунги.nnНароду очень многоn#МаршМираnhttp://t.co/BolFyFtFzNnpic.twitter.com/SwNebE8a1knnПо данным столичной полиции, на «Марш мира» пришли 3 тыс. человек. Точной цифры у нас нет, но зато есть фотографии очевидцев.nnНароду на марше за мир дофигаnpic.twitter.com/HdbOzw5MqannПожалуй, самый лучший флаг на «Марше мира».nnnПлощадь Революции: выступает Волочкова. К сожалению, не Анастасия (это было бы слишком), а Марина, член политсовета «Сути времени».nЕе речь мало отличается от риторики Кургиняна. «Бандеровцы и их российские прихлебатели намерены лишить нас права на историческую жизнь. Майдан не пройдет», — уверена она.nnПлощадь Революции.nТрадиционно богатый на метафоры Кургинян тем временем только распаляется: «Смерть нацизму! Бандеровские опричники не пройдут! вы принимаете этот вызов бесчинства, да или нет?»nnnНа небольшом экране рядом со сценой демонстрируют кадры беспорядков на Майдане, в основном с беркутовцами, в которых попал «коктейль Молотова».nnКорреспондент «Газеты.Ru» с «Марша мира»: «В толпе видны флаги партии «5 декабря». Сторонники Навального уже успели изготовить флаги «Партия прогресса». Видел членов творческой группы «Квартет «И», политтехнолога Марину Литвинович, а также Анастасию Удальцову с колонной «Левого фронта». «Россия будет свободной!» — скандирует сейчас толпа.nШествие началось.nnУчастники митинга «Суть времени» проходят в лучших традициях советских демонстраций.nnКолонны подходят к Красной площадиn#15мартаn#Россияn#Москваn#Украинаn#Крымn#СутьВремениn#ЗаБратскийНародn#Маршnpic.twitter.com/9TiMmPUWXinnНа площади Революции начался митинг, выступает Сергей Кургинян. Благодарит всех, что пришли, общий смысл его речи сводится к тому, что «крымчане не справились бы без нас».nnnВ толпе двое парней, едва отметивших совершеннолетие:n— А что он говорит? Ничего не слышно.n— А кто это вообще?nnnНесмотря на то что митинг еще не кончился, значительная часть собравшихся решительно его покидают. Люди движутся в сторону станции метро «Площадь Революции». Выход за пределы огороженного митинга только через кордон полиции. Из рации полицейского доносится голос старшего: «Кто уходит — не держим, выпускаем, выпускаем».nnnКургинян: «Темный ветер гуляет по Украине. Мы не допустим этого ветра в Москве!nМы не допустим этого: да или нет? Да или нет?nnВ Москве Майдану не бывать! Да или нет?»nnМакаревич: «Я вижу такое количество расколотых дружб, компаний — такого не видел никогда в жизни. Отношение к таким вещам — личное дело каждого человека».nnПровластное шествие организации С. Кургиняна. На Петровке 20 девочек-подростков радостно прыгают и визжат: «Крым наш!» Голова колонны тем временем подходит к площади Революции.nnСудя по трансляции с «Марша мира», на этом митинге больше всего триколоров за всю серию оппозиционных акций за последние годы. Люди скандируют: «Россия, вставай!»nnШествие патриотов от метро «Трубная» начало свое движение. Скандируют лозунги «Россия на Крым!», «Слава «Беркуту»!» и «Фашизм не пройдет!». Также поют «Катюшу». В голове колонны — молодые люди 20–30 лет, передает корреспондент «Газета.Ru» Елизавета Антонова.nВ толпе преобладают российские флаги, с небольшим количеством флагов московского отделения «Единой России». В шествии также принимают участие христианско-социалистическая организация «Православное братство «Град Китеж» и организация «Трезвая Россия».nnn«Мужчины с флагами «Трезвой России» не похожи на трезвенников», — отмечает корреспондент «Газеты.Ru».nПо данным ГУ МВД Москвы, на шествие «в поддержку Крыма и против фашизма» (митинг Кургиняна) собрались около 15 тыс. человек. При этом на оппозиционное шествие, по данным полиции, в пять раз меньше — около 3 тыс. человек.nnОчередь к рамкам на «Марше мира».nnОчередь к рамкамnpic.twitter.com/ncC8lF7thgnnАндрей Макаревич на «Марше мира». В руках у артиста большой российский флаг.nnМакаревич с флагом РФn#МаршМираnpic.twitter.com/5IpBLP7lSDnnВ авангарде колонны видны оппозиционные активисты Илья Яшин и Борис Немцов. Депутат Дмитрий Гудков заявил корреспонденту «Газеты.Ru», что на «Марш мира» вышли российские патриоты. Над толпой помимо традиционных лозунгов оппозиционных акций раздаются кричалки на украинском языке. Также участники акции требуют освободить «узников 6 мая».nnКорреспондент «Газеты.ру» на «Марше мира» Константин Новиков сообщает, что 20 рамок металлоискателей для прохода людей не хватает. Народ заполнил очереди на рамки и переполняет пространство за кинотеатром «Россия» в начале Страстного бульвара. Люди строятся в колонны. Видны флаги «Демвыбора», «Солидарности», украинские желто-синие и российские триколоры, черно-красные знамена анархистов и черно-зеленые полотнища экоанархистов. Скандируют: «Нет войне!» Мимо корреспондента прошли улыбающийся музыкант Андрей Макаревич, тележурналист Леонид Парфенов.nТакже на глазах у корреспондента полиция «свинтила» провокатора с плакатом «Марш мира ведет к войне».nnНа «Марше мира» в Москве группа людей с флагами анархистов.nnАнархисты и не толькоn#МаршМираnpic.twitter.com/g4AOXhEIponnЗаявленное число участников шествия и митинга движения «Суть времени» (стартует в 14.00 от метро «Трубная») — 2 тыс. человек.nКорреспондент «Газеты.Ru» передает, что на выходе из метро «Цветной бульвар» преобладают женщины на вид около 50 лет. Они держатся одной большой группой. Рассказать, что вдохновило их выйти сегодня на акцию, они затруднились.nnВ Екатеринбурге на сход пришли около 600 человек, сообщает один из участников акции в своем твиттере.nnМосква, метро «Пушкинская». Митинг в поддержку присоединения Крыма.nnНовопушкинский сквер — митинг за присоединение Крыма с участием ЛДПРnn#нетфашизмуn#Украинаn#ЗаБратскийНародnpic.twitter.com/CJyYtbnkcwnnКолонна участников в красных костюмах на провластном маршеnnpic.twitter.com/v5UqQDA0MMnnМежду тем, как сообщает блогер Илья Варламов, на «Марш братства» собрались уже около 10 тыс. участников.nn«Марш мира», согласованный на 50 тыс. участников, стартует в 14.00. Постоянные посетители массовых оппозиционных акций сообщают, что уже за час до старта на Петровском бульваре собралось 5–7 тыс. человек.nnВ Санкт-Петербурге, Самаре и Екатеринбурге также были запланированы антивоенные акции, однако власти их не согласовали. Заявители в этих городах все равно планируют выразить свою гражданскую позицию и собираются обратиться к формату «народный сход». Неофициальный источник в администрации Петербурга рассказал, что власти приняли решение не разгонять народный сход.nНа митинге у Кургиняна все в форме и строятся в колонныnhttp://t.co/DWxh6Zb1epnhttp://t.co/3g9EfKBcpannПримечательно, что маршруты шествий в Москве пересекаются в районе Трубной площади, однако власти выразили уверенность, что никаких конфликтов между участниками акций произойти не должно.nnСегодня, 15 марта, в Москве проходят сразу три массовых мероприятия. В 13.00 начнется сбор на «Марш мира» противников военного вмешательства России в ситуацию в Крыму. Он пройдет по бульварам от Пушкинской площади до проспекта Сахарова, где состоится митинг. Мероприятие согласовано с властями. Заявка подана на 50 тыс. участников.nОдновременно с «Маршем мира» начнется другое шествие — «Марш братства», — заявку на которое подало провластное движение «Суть времени» Сергея Кургиняна. Это мероприятие пройдет по бульварам от Пушкинской площади до проспекта Сахарова, где также состоится митинг. На эту акцию заявлено 2 тыс. участников.nКроме того, с 13.00 до 15.00 в Новопушкинском сквере пройдет митинг представителей православной общественности в поддержку русских на Украине.\n",
      "\n",
      "\n"
     ]
    }
   ],
   "source": [
    "rnd = np.random.randint(1000, df.shape[0])\n",
    "sentence = df.iloc[rnd, 6]\n",
    "\n",
    "print(sentence)\n",
    "\n",
    "cosine_scores, max_scores_idx = get_similar(embeddings, sentence, 3)\n",
    "print(\"\\n\")\n",
    "print(cosine_scores[0][max_scores_idx])\n",
    "print(\"\\n\")\n",
    "\n",
    "for t in sentences[max_scores_idx.tolist()]:\n",
    "    print(t)\n",
    "    print(\"\\n\")"
   ]
  },
  {
   "cell_type": "markdown",
   "metadata": {},
   "source": [
    "#### Вывод:\n",
    "Учитывая то, что похожие новости выбираются только из 1000 первых новостей - результат хороший. Тексты действительно похожие, когда cosine_scores выше 0.37 и 0.5. При значении ~0.25 схожесть хуже, замечается только в некоторых словах."
   ]
  }
 ],
 "metadata": {
  "kernelspec": {
   "display_name": "Python 3",
   "language": "python",
   "name": "python3"
  },
  "language_info": {
   "codemirror_mode": {
    "name": "ipython",
    "version": 3
   },
   "file_extension": ".py",
   "mimetype": "text/x-python",
   "name": "python",
   "nbconvert_exporter": "python",
   "pygments_lexer": "ipython3",
   "version": "3.8.5"
  }
 },
 "nbformat": 4,
 "nbformat_minor": 4
}
